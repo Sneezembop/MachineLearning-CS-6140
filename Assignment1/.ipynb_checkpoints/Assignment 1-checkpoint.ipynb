{
 "cells": [
  {
   "cell_type": "code",
   "execution_count": 51,
   "metadata": {},
   "outputs": [],
   "source": [
    "import numpy as np\n",
    "import scipy as sp\n",
    "import matplotlib.pyplot as plt\n",
    "import scipy.io as scio\n",
    "\n",
    "%matplotlib inline "
   ]
  },
  {
   "cell_type": "markdown",
   "metadata": {},
   "source": [
    "Importing all the libraries"
   ]
  },
  {
   "cell_type": "markdown",
   "metadata": {},
   "source": [
    "## 10 part 1\n",
    "\n",
    "going to start by generating a dataset for which I know an approximate regression"
   ]
  },
  {
   "cell_type": "code",
   "execution_count": 52,
   "metadata": {},
   "outputs": [
    {
     "data": {
      "text/plain": [
       "[<matplotlib.lines.Line2D at 0x7fe013ceef60>,\n",
       " <matplotlib.lines.Line2D at 0x7fdfeaad2550>]"
      ]
     },
     "execution_count": 52,
     "metadata": {},
     "output_type": "execute_result"
    },
    {
     "data": {
      "image/png": "[encoded data removed]",
      "text/plain": [
       "<matplotlib.figure.Figure at 0x7fdfeabc7320>"
      ]
     },
     "metadata": {},
     "output_type": "display_data"
    }
   ],
   "source": [
    "\n",
    "X_trn = []\n",
    "for i in range(20):\n",
    "    X_trn.append([i,1])\n",
    "    \n",
    "\n",
    "sp.random.seed(123)    \n",
    "Y_trn = []\n",
    "for i in range(len(X_trn)):\n",
    "    Y_trn.append(X_trn[i][0] * (sp.rand(1) + 1))\n",
    "    \n",
    "\n",
    "    \n",
    "plt.plot(X_trn, Y_trn)"
   ]
  },
  {
   "cell_type": "code",
   "execution_count": null,
   "metadata": {},
   "outputs": [],
   "source": []
  },
  {
   "cell_type": "code",
   "execution_count": 99,
   "metadata": {},
   "outputs": [],
   "source": [
    "def computeCost(X, Y, theta):\n",
    "    m = len(Y)\n",
    "    \n",
    "    cost = (np.linalg.norm(X*theta - Y))*(np.linalg.norm(X*theta - Y))\n",
    "    print(\"cost: \", cost)\n",
    "    return cost\n",
    "    "
   ]
  },
  {
   "cell_type": "code",
   "execution_count": 100,
   "metadata": {},
   "outputs": [],
   "source": [
    "def gradientDescent(X, Y, theta, lrnRate, ittr):\n",
    "    \n",
    "    m = len(Y)\n",
    "    costs = [0] * ittr\n",
    "    \n",
    "    for i in range(ittr):\n",
    "        theta = theta - ((lrnRate) * (X.T * ((X * theta) - Y)))\n",
    "        print(\"theta: \", theta)\n",
    "        costs[i] = computeCost(X,Y,theta)\n",
    "        \n",
    "        #print(costs)\n",
    "    return theta"
   ]
  },
  {
   "cell_type": "code",
   "execution_count": 101,
   "metadata": {},
   "outputs": [
    {
     "name": "stdout",
     "output_type": "stream",
     "text": [
      "theta: %d [[ 353.1124141 ]\n",
      " [  27.51498546]]\n",
      "cost: %d 309183721.099\n",
      "theta: %d [[-87035.32617785]\n",
      " [ -6709.13586787]]\n",
      "cost: %d 1.89340282744e+13\n",
      "theta: %d [[ 21538516.93365523]\n",
      " [  1660407.84823252]]\n",
      "cost: %d 1.15949686853e+18\n",
      "theta: %d [[ -5.33002256e+09]\n",
      " [ -4.10892202e+08]]\n",
      "cost: %d 7.10061783296e+22\n",
      "theta: %d [[  1.31899250e+12]\n",
      " [  1.01681321e+11]]\n",
      "cost: %d 4.34833202038e+27\n",
      "theta: %d [[ -3.26404101e+14]\n",
      " [ -2.51625389e+13]]\n",
      "cost: %d 2.66286565539e+32\n",
      "theta: %d [[  8.07734970e+16]\n",
      " [  6.22684045e+15]]\n",
      "cost: %d 1.63070654804e+37\n",
      "theta: %d [[ -1.99885902e+19]\n",
      " [ -1.54092328e+18]]\n",
      "cost: %d 9.98624861313e+41\n",
      "theta: %d [[  4.94647074e+21]\n",
      " [  3.81324138e+20]]\n",
      "cost: %d 6.1154572221e+46\n",
      "theta: %d [[ -1.22407696e+24]\n",
      " [ -9.43642682e+22]]\n",
      "cost: %d 3.74503164143e+51\n",
      "theta: %d [[  3.02915853e+26]\n",
      " [  2.33518265e+25]]\n",
      "cost: %d 2.2934118392e+56\n",
      "theta: %d [[ -7.49609846e+28]\n",
      " [ -5.77875304e+27]]\n",
      "cost: %d 1.4044575234e+61\n",
      "theta: %d [[  1.85501985e+31]\n",
      " [  1.43003746e+30]]\n",
      "cost: %d 8.60072709721e+65\n",
      "theta: %d [[ -4.59051955e+33]\n",
      " [ -3.53883809e+32]]\n",
      "cost: %d 5.26698069311e+70\n",
      "theta: %d [[  1.13599160e+36]\n",
      " [  8.75737553e+34]]\n",
      "cost: %d 3.22543493219e+75\n",
      "theta: %d [[ -2.81117835e+38]\n",
      " [ -2.16714142e+37]]\n",
      "cost: %d 1.97521713254e+80\n",
      "theta: %d [[  6.95667444e+40]\n",
      " [  5.36291029e+39]]\n",
      "cost: %d 1.20959895416e+85\n",
      "theta: %d [[ -1.72153144e+43]\n",
      " [ -1.32713105e+42]]\n",
      "cost: %d 7.40743691313e+89\n",
      "theta: %d [[  4.26018283e+45]\n",
      " [  3.28418105e+44]]\n",
      "cost: %d 4.53622429429e+94\n",
      "theta: %d [[ -1.05424492e+48]\n",
      " [ -8.12718920e+46]]\n",
      "cost: %d 2.77792859924e+99\n"
     ]
    },
    {
     "data": {
      "text/plain": [
       "matrix([[ -1.05424492e+48],\n",
       "        [ -8.12718920e+46]])"
      ]
     },
     "execution_count": 101,
     "metadata": {},
     "output_type": "execute_result"
    }
   ],
   "source": [
    "m = len(X_trn)  # number of training samples (should be 20)\n",
    "itterations = 20\n",
    "lrnRate = 0.1\n",
    "X = np.mat(X_trn)\n",
    "Y = np.mat(Y_trn)\n",
    "theta = np.mat('[0;0]')\n",
    "\n",
    "theta = gradientDescent(X, Y, theta, lrnRate, itterations)\n",
    "theta"
   ]
  },
  {
   "cell_type": "code",
   "execution_count": 79,
   "metadata": {},
   "outputs": [
    {
     "data": {
      "text/plain": [
       "[<matplotlib.lines.Line2D at 0x7fdfeaa1f5c0>,\n",
       " <matplotlib.lines.Line2D at 0x7fdfeaa1f860>]"
      ]
     },
     "execution_count": 79,
     "metadata": {},
     "output_type": "execute_result"
    },
    {
     "data": {
      "image/png": "[encoded data removed]",
      "text/plain": [
       "<matplotlib.figure.Figure at 0x7fdfeaaa5c88>"
      ]
     },
     "metadata": {},
     "output_type": "display_data"
    }
   ],
   "source": [
    "plt.plot(X_trn, Y_trn * theta[0])"
   ]
  },
  {
   "cell_type": "markdown",
   "metadata": {},
   "source": [
    "## 10 part 2"
   ]
  },
  {
   "cell_type": "code",
   "execution_count": 2,
   "metadata": {},
   "outputs": [],
   "source": [
    "mat = scio.loadmat('HW1_Data/dataset1.mat')\n",
    "\n",
    "X_trn = mat['X_trn']\n",
    "Y_trn = mat['Y_trn']\n",
    "X_tst = mat['X_tst']\n",
    "Y_tst = mat['Y_tst']\n",
    "data = [X_trn,Y_trn,X_tst,Y_tst]"
   ]
  },
  {
   "cell_type": "code",
   "execution_count": 3,
   "metadata": {},
   "outputs": [
    {
     "name": "stdout",
     "output_type": "stream",
     "text": [
      "shape of the data is [120, 1]\n"
     ]
    }
   ],
   "source": [
    "print('shape of the data is [%d, %d]' % X_trn.shape)"
   ]
  },
  {
   "cell_type": "code",
   "execution_count": 4,
   "metadata": {},
   "outputs": [
    {
     "data": {
      "image/png": "[encoded data removed]",
      "text/plain": [
       "<matplotlib.figure.Figure at 0x7fe013d9a898>"
      ]
     },
     "metadata": {},
     "output_type": "display_data"
    }
   ],
   "source": [
    "data_labels = ['X Train', 'Y Train', 'X Test', 'Y Test']\n",
    "\n",
    "for x in range(4):\n",
    "    plt.subplot(2,2,x +1)\n",
    "    plt.boxplot(data[x])\n",
    "    plt.title(data_labels[x])"
   ]
  },
  {
   "cell_type": "code",
   "execution_count": null,
   "metadata": {},
   "outputs": [],
   "source": []
  },
  {
   "cell_type": "code",
   "execution_count": null,
   "metadata": {},
   "outputs": [],
   "source": []
  }
 ],
 "metadata": {
  "kernelspec": {
   "display_name": "Python 3",
   "language": "python",
   "name": "python3"
  },
  "language_info": {
   "codemirror_mode": {
    "name": "ipython",
    "version": 3
   },
   "file_extension": ".py",
   "mimetype": "text/x-python",
   "name": "python",
   "nbconvert_exporter": "python",
   "pygments_lexer": "ipython3",
   "version": "3.5.2"
  }
 },
 "nbformat": 4,
 "nbformat_minor": 2
}
