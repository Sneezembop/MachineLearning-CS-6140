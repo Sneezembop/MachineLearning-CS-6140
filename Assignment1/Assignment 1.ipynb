{
 "cells": [
  {
   "cell_type": "code",
   "execution_count": 51,
   "metadata": {},
   "outputs": [],
   "source": [
    "import numpy as np\n",
    "import scipy as sp\n",
    "import matplotlib.pyplot as plt\n",
    "import scipy.io as scio\n",
    "\n",
    "%matplotlib inline "
   ]
  },
  {
   "cell_type": "markdown",
   "metadata": {},
   "source": [
    "Importing all the libraries"
   ]
  },
  {
   "cell_type": "markdown",
   "metadata": {},
   "source": [
    "## 10 part 1\n",
    "\n",
    "going to start by generating a dataset for which I know an approximate regression"
   ]
  },
  {
   "cell_type": "code",
   "execution_count": 107,
   "metadata": {},
   "outputs": [
    {
     "data": {
      "text/plain": [
       "[<matplotlib.lines.Line2D at 0x7fdfeaa33978>,\n",
       " <matplotlib.lines.Line2D at 0x7fdfe91a6128>]"
      ]
     },
     "execution_count": 107,
     "metadata": {},
     "output_type": "execute_result"
    },
    {
     "data": {
      "image/png": "[encoded data removed]",
      "text/plain": [
       "<matplotlib.figure.Figure at 0x7fdfea9eb518>"
      ]
     },
     "metadata": {},
     "output_type": "display_data"
    }
   ],
   "source": [
    "\n",
    "X_trn = []\n",
    "for i in range(20):\n",
    "    X_trn.append([1,i])\n",
    "    \n",
    "\n",
    "sp.random.seed(123)    \n",
    "Y_trn = []\n",
    "for i in range(len(X_trn)):\n",
    "    Y_trn.append(X_trn[i][1] * (sp.rand(1) + 1))\n",
    "    \n",
    "\n",
    "    \n",
    "plt.plot(X_trn, Y_trn)"
   ]
  },
  {
   "cell_type": "code",
   "execution_count": null,
   "metadata": {},
   "outputs": [],
   "source": []
  },
  {
   "cell_type": "code",
   "execution_count": 108,
   "metadata": {},
   "outputs": [],
   "source": [
    "def computeCost(X, Y, theta):\n",
    "    \n",
    "    cost = (np.linalg.norm(X*theta - Y))\n",
    "    cost = cost*cost\n",
    "    print(\"cost: \", cost)\n",
    "    return cost\n",
    "    "
   ]
  },
  {
   "cell_type": "code",
   "execution_count": 120,
   "metadata": {},
   "outputs": [],
   "source": [
    "def gradientDescent(X, Y, theta, lrnRate, ittr):\n",
    "    print(X, Y, theta, lrnRate)\n",
    "    \n",
    "    m = len(Y)\n",
    "    costs = [0] * ittr\n",
    "    \n",
    "    for i in range(ittr):\n",
    "        theta = theta - (lrnRate * (X.T * ((X * theta) - Y)))\n",
    "       # print(\"theta: \", theta)\n",
    "        costs[i] = computeCost(X,Y,theta)\n",
    "        \n",
    "        #print(costs)\n",
    "    return theta"
   ]
  },
  {
   "cell_type": "code",
   "execution_count": 121,
   "metadata": {},
   "outputs": [
    {
     "name": "stdout",
     "output_type": "stream",
     "text": [
      "[[ 1  0]\n",
      " [ 1  1]\n",
      " [ 1  2]\n",
      " [ 1  3]\n",
      " [ 1  4]\n",
      " [ 1  5]\n",
      " [ 1  6]\n",
      " [ 1  7]\n",
      " [ 1  8]\n",
      " [ 1  9]\n",
      " [ 1 10]\n",
      " [ 1 11]\n",
      " [ 1 12]\n",
      " [ 1 13]\n",
      " [ 1 14]\n",
      " [ 1 15]\n",
      " [ 1 16]\n",
      " [ 1 17]\n",
      " [ 1 18]\n",
      " [ 1 19]] [[  0.        ]\n",
      " [  1.28613933]\n",
      " [  2.45370291]\n",
      " [  4.65394431]\n",
      " [  6.87787588]\n",
      " [  7.1155323 ]\n",
      " [ 11.88458519]\n",
      " [ 11.79380817]\n",
      " [ 11.84745521]\n",
      " [ 12.52905766]\n",
      " [ 13.43178016]\n",
      " [ 19.01954678]\n",
      " [ 17.26286694]\n",
      " [ 13.77581266]\n",
      " [ 19.57261957]\n",
      " [ 26.06993109]\n",
      " [ 18.91986769]\n",
      " [ 19.98267985]\n",
      " [ 27.56792473]\n",
      " [ 29.10472415]] [[1]\n",
      " [1]] 0.5\n",
      "cost:  473244496.82\n",
      "cost:  7.2921478785e+14\n",
      "cost:  1.12363553739e+21\n",
      "cost:  1.7313922344e+27\n",
      "cost:  2.66787491991e+33\n",
      "cost:  4.11088628382e+39\n",
      "cost:  6.33439967982e+45\n",
      "cost:  9.76057631699e+51\n",
      "cost:  1.50399177278e+58\n",
      "cost:  2.31747714391e+64\n"
     ]
    },
    {
     "data": {
      "text/plain": [
       "matrix([[ -2.34740249e+29],\n",
       "        [ -3.04500989e+30]])"
      ]
     },
     "execution_count": 121,
     "metadata": {},
     "output_type": "execute_result"
    }
   ],
   "source": [
    "m = len(X_trn)  # number of training samples (should be 20)\n",
    "itterations = 10\n",
    "lrnRate = 0.5\n",
    "X = np.mat(X_trn)\n",
    "Y = np.mat(Y_trn)\n",
    "theta = np.mat('[1;1]')\n",
    "\n",
    "theta = gradientDescent(X, Y, theta, lrnRate, itterations)\n",
    "theta"
   ]
  },
  {
   "cell_type": "code",
   "execution_count": 79,
   "metadata": {},
   "outputs": [
    {
     "data": {
      "text/plain": [
       "[<matplotlib.lines.Line2D at 0x7fdfeaa1f5c0>,\n",
       " <matplotlib.lines.Line2D at 0x7fdfeaa1f860>]"
      ]
     },
     "execution_count": 79,
     "metadata": {},
     "output_type": "execute_result"
    },
    {
     "data": {
      "image/png": "[encoded data removed]",
      "text/plain": [
       "<matplotlib.figure.Figure at 0x7fdfeaaa5c88>"
      ]
     },
     "metadata": {},
     "output_type": "display_data"
    }
   ],
   "source": [
    "plt.plot(X_trn, Y_trn * theta[0])"
   ]
  },
  {
   "cell_type": "markdown",
   "metadata": {},
   "source": [
    "## 10 part 2"
   ]
  },
  {
   "cell_type": "code",
   "execution_count": 2,
   "metadata": {},
   "outputs": [],
   "source": [
    "mat = scio.loadmat('HW1_Data/dataset1.mat')\n",
    "\n",
    "X_trn = mat['X_trn']\n",
    "Y_trn = mat['Y_trn']\n",
    "X_tst = mat['X_tst']\n",
    "Y_tst = mat['Y_tst']\n",
    "data = [X_trn,Y_trn,X_tst,Y_tst]"
   ]
  },
  {
   "cell_type": "code",
   "execution_count": 3,
   "metadata": {},
   "outputs": [
    {
     "name": "stdout",
     "output_type": "stream",
     "text": [
      "shape of the data is [120, 1]\n"
     ]
    }
   ],
   "source": [
    "print('shape of the data is [%d, %d]' % X_trn.shape)"
   ]
  },
  {
   "cell_type": "code",
   "execution_count": 4,
   "metadata": {},
   "outputs": [
    {
     "data": {
      "image/png": "[encoded data removed]",
      "text/plain": [
       "<matplotlib.figure.Figure at 0x7fe013d9a898>"
      ]
     },
     "metadata": {},
     "output_type": "display_data"
    }
   ],
   "source": [
    "data_labels = ['X Train', 'Y Train', 'X Test', 'Y Test']\n",
    "\n",
    "for x in range(4):\n",
    "    plt.subplot(2,2,x +1)\n",
    "    plt.boxplot(data[x])\n",
    "    plt.title(data_labels[x])"
   ]
  },
  {
   "cell_type": "code",
   "execution_count": null,
   "metadata": {},
   "outputs": [],
   "source": []
  },
  {
   "cell_type": "code",
   "execution_count": null,
   "metadata": {},
   "outputs": [],
   "source": []
  }
 ],
 "metadata": {
  "kernelspec": {
   "display_name": "Python 3",
   "language": "python",
   "name": "python3"
  },
  "language_info": {
   "codemirror_mode": {
    "name": "ipython",
    "version": 3
   },
   "file_extension": ".py",
   "mimetype": "text/x-python",
   "name": "python",
   "nbconvert_exporter": "python",
   "pygments_lexer": "ipython3",
   "version": "3.5.2"
  }
 },
 "nbformat": 4,
 "nbformat_minor": 2
}
