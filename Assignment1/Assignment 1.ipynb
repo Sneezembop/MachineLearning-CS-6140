{
 "cells": [
  {
   "cell_type": "code",
   "execution_count": 1,
   "metadata": {},
   "outputs": [],
   "source": [
    "import numpy as np\n",
    "import scipy as sp\n",
    "import matplotlib.pyplot as plt\n",
    "import scipy.io as scio\n",
    "\n",
    "%matplotlib inline "
   ]
  },
  {
   "cell_type": "markdown",
   "metadata": {},
   "source": [
    "Importing all the libraries"
   ]
  },
  {
   "cell_type": "code",
   "execution_count": 2,
   "metadata": {},
   "outputs": [],
   "source": [
    "mat = scio.loadmat('HW1_Data/dataset1.mat')\n",
    "\n",
    "X_trn = mat['X_trn']\n",
    "Y_trn = mat['Y_trn']\n",
    "X_tst = mat['X_tst']\n",
    "Y_tst = mat['Y_tst']\n",
    "data = [X_trn,Y_trn,X_tst,Y_tst]"
   ]
  },
  {
   "cell_type": "code",
   "execution_count": 3,
   "metadata": {},
   "outputs": [
    {
     "name": "stdout",
     "output_type": "stream",
     "text": [
      "shape of the data is [120, 1]\n"
     ]
    }
   ],
   "source": [
    "print('shape of the data is [%d, %d]' % X_trn.shape)"
   ]
  },
  {
   "cell_type": "code",
   "execution_count": 4,
   "metadata": {},
   "outputs": [
    {
     "data": {
      "image/png": "[encoded data removed]",
      "text/plain": [
       "<matplotlib.figure.Figure at 0x7f47c4756940>"
      ]
     },
     "metadata": {},
     "output_type": "display_data"
    }
   ],
   "source": [
    "data_labels = ['X Train', 'Y Train', 'X Test', 'Y Test']\n",
    "\n",
    "for x in range(4):\n",
    "    plt.subplot(2,2,x +1)\n",
    "    plt.boxplot(data[x])\n",
    "    plt.title(data_labels[x])"
   ]
  },
  {
   "cell_type": "code",
   "execution_count": 10,
   "metadata": {},
   "outputs": [
    {
     "data": {
      "text/plain": [
       "array([[ 1.41883768],\n",
       "       [-3.08617234],\n",
       "       [-2.33266533],\n",
       "       [-2.38076152],\n",
       "       [-0.53707415],\n",
       "       [ 3.03807615],\n",
       "       [ 2.66933868],\n",
       "       [ 0.92184369],\n",
       "       [ 2.49298597],\n",
       "       [-3.90380762],\n",
       "       [-2.09218437],\n",
       "       [-0.2004008 ],\n",
       "       [-2.90981964],\n",
       "       [-1.8997996 ],\n",
       "       [ 0.6492986 ],\n",
       "       [-3.7755511 ],\n",
       "       [-2.17234469],\n",
       "       [ 3.34268537],\n",
       "       [ 1.13026052],\n",
       "       [-1.16232465],\n",
       "       [ 0.90581162],\n",
       "       [ 0.77755511],\n",
       "       [ 0.29659319],\n",
       "       [ 1.56312625],\n",
       "       [ 1.498998  ],\n",
       "       [-3.3747495 ],\n",
       "       [ 1.06613226],\n",
       "       [-3.74348697],\n",
       "       [-2.34869739],\n",
       "       [-2.42885772],\n",
       "       [ 3.18236473],\n",
       "       [-1.64328657],\n",
       "       [ 2.55711423],\n",
       "       [-1.35470942],\n",
       "       [ 3.93587174],\n",
       "       [-0.13627255],\n",
       "       [-1.14629259],\n",
       "       [ 1.22645291],\n",
       "       [ 3.51903808],\n",
       "       [-0.61723447],\n",
       "       [-2.79759519],\n",
       "       [-1.56312625],\n",
       "       [ 1.32264529],\n",
       "       [-1.94789579],\n",
       "       [-3.35871743],\n",
       "       [ 2.5250501 ],\n",
       "       [ 3.64729459],\n",
       "       [ 2.95791583],\n",
       "       [-3.87174349],\n",
       "       [ 3.21442886],\n",
       "       [ 2.23647295],\n",
       "       [-3.27855711],\n",
       "       [ 0.45691383],\n",
       "       [ 2.47695391],\n",
       "       [-2.9739479 ],\n",
       "       [ 0.87374749],\n",
       "       [-2.60521042],\n",
       "       [ 0.88977956],\n",
       "       [-1.65931864],\n",
       "       [ 0.34468938],\n",
       "       [-1.17835671],\n",
       "       [ 2.68537074],\n",
       "       [ 3.90380762],\n",
       "       [-1.93186373],\n",
       "       [ 0.50501002],\n",
       "       [ 3.61523046],\n",
       "       [ 3.45490982],\n",
       "       [ 1.81963928],\n",
       "       [ 2.20440882],\n",
       "       [ 1.29058116],\n",
       "       [ 3.11823647],\n",
       "       [-0.31262525],\n",
       "       [ 3.72745491],\n",
       "       [ 1.83567134],\n",
       "       [-3.39078156],\n",
       "       [ 1.88376754],\n",
       "       [-2.23647295],\n",
       "       [-0.84168337],\n",
       "       [ 0.2004008 ],\n",
       "       [ 0.8256513 ],\n",
       "       [-0.24849699],\n",
       "       [ 0.21643287],\n",
       "       [ 3.63126253],\n",
       "       [ 2.9258517 ],\n",
       "       [ 2.62124248],\n",
       "       [-0.29659319],\n",
       "       [-2.71743487],\n",
       "       [ 2.46092184],\n",
       "       [ 1.85170341],\n",
       "       [-2.15631263],\n",
       "       [ 1.08216433],\n",
       "       [-0.93787575],\n",
       "       [ 0.12024048],\n",
       "       [ 1.09819639],\n",
       "       [ 1.37074148],\n",
       "       [ 3.67935872],\n",
       "       [-3.95190381],\n",
       "       [ 0.24849699],\n",
       "       [-2.04408818],\n",
       "       [-1.38677355],\n",
       "       [-2.44488978],\n",
       "       [-2.66933868],\n",
       "       [-0.32865731],\n",
       "       [-3.26252505],\n",
       "       [ 3.02204409],\n",
       "       [ 3.69539078],\n",
       "       [ 0.63326653],\n",
       "       [-1.09819639],\n",
       "       [ 2.3006012 ],\n",
       "       [ 3.39078156],\n",
       "       [ 3.16633267],\n",
       "       [ 1.4509018 ],\n",
       "       [ 0.08817635],\n",
       "       [-3.79158317],\n",
       "       [-3.5511022 ],\n",
       "       [ 1.64328657],\n",
       "       [ 0.10420842],\n",
       "       [ 2.36472946],\n",
       "       [-2.87775551],\n",
       "       [-0.56913828]])"
      ]
     },
     "execution_count": 10,
     "metadata": {},
     "output_type": "execute_result"
    }
   ],
   "source": []
  },
  {
   "cell_type": "code",
   "execution_count": null,
   "metadata": {},
   "outputs": [],
   "source": []
  }
 ],
 "metadata": {
  "kernelspec": {
   "display_name": "Python 3",
   "language": "python",
   "name": "python3"
  },
  "language_info": {
   "codemirror_mode": {
    "name": "ipython",
    "version": 3
   },
   "file_extension": ".py",
   "mimetype": "text/x-python",
   "name": "python",
   "nbconvert_exporter": "python",
   "pygments_lexer": "ipython3",
   "version": "3.5.2"
  }
 },
 "nbformat": 4,
 "nbformat_minor": 2
}
