{
 "cells": [
  {
   "cell_type": "markdown",
   "metadata": {},
   "source": [
    "# 4. PCA Implementation"
   ]
  },
  {
   "cell_type": "code",
   "execution_count": 1,
   "metadata": {},
   "outputs": [],
   "source": [
    "import numpy as np\n",
    "import math\n",
    "import random\n",
    "import scipy as sp\n",
    "import matplotlib.pyplot as plt\n",
    "import scipy.io as scio\n",
    "import pprint as pp\n",
    "\n",
    "%matplotlib inline "
   ]
  },
  {
   "cell_type": "code",
   "execution_count": 5,
   "metadata": {},
   "outputs": [
    {
     "name": "stdout",
     "output_type": "stream",
     "text": [
      "shape of the data is [40, 60]\n"
     ]
    }
   ],
   "source": [
    "mat = scio.loadmat('data.mat')\n",
    "\n",
    "Y_Raw = mat['X_Question1']\n",
    "print('shape of the data is [%d, %d]' % Y_Raw.shape)"
   ]
  },
  {
   "cell_type": "code",
   "execution_count": 6,
   "metadata": {},
   "outputs": [
    {
     "name": "stdout",
     "output_type": "stream",
     "text": [
      "array([[-0.17765161,  0.28714505, -0.00472036, ..., -0.25151096,\n",
      "         0.45812967, -0.20415474],\n",
      "       [ 0.09417006, -0.09153546, -0.03578063, ...,  0.08923126,\n",
      "        -0.17823709,  0.0723575 ],\n",
      "       [ 0.05113918, -0.11477641,  0.02195823, ...,  0.05424122,\n",
      "        -0.07338759,  0.04718593],\n",
      "       ..., \n",
      "       [-0.10550218,  0.09654363,  0.05231898, ...,  0.01448972,\n",
      "         0.02015839,  0.02975258],\n",
      "       [-0.15041262,  0.05746653,  0.06567483, ..., -0.24454928,\n",
      "         0.19593021, -0.1074217 ],\n",
      "       [-0.0124606 ,  0.03594249, -0.01425024, ...,  0.00353722,\n",
      "         0.08254894, -0.08934441]])\n"
     ]
    }
   ],
   "source": [
    "pp.pprint(Y_Raw)"
   ]
  },
  {
   "cell_type": "code",
   "execution_count": null,
   "metadata": {},
   "outputs": [],
   "source": []
  }
 ],
 "metadata": {
  "kernelspec": {
   "display_name": "Python 3",
   "language": "python",
   "name": "python3"
  },
  "language_info": {
   "codemirror_mode": {
    "name": "ipython",
    "version": 3
   },
   "file_extension": ".py",
   "mimetype": "text/x-python",
   "name": "python",
   "nbconvert_exporter": "python",
   "pygments_lexer": "ipython3",
   "version": "3.5.2"
  }
 },
 "nbformat": 4,
 "nbformat_minor": 2
}
