{
 "cells": [
  {
   "cell_type": "markdown",
   "metadata": {},
   "source": [
    "# Assignment 3 Codes"
   ]
  },
  {
   "cell_type": "code",
   "execution_count": 1,
   "metadata": {},
   "outputs": [],
   "source": [
    "import numpy as np\n",
    "import math\n",
    "import random\n",
    "import scipy as sp\n",
    "import matplotlib.pyplot as plt\n",
    "import scipy.io as scio\n",
    "import pprint as pp\n",
    "\n",
    "%matplotlib inline \n"
   ]
  },
  {
   "cell_type": "code",
   "execution_count": 2,
   "metadata": {},
   "outputs": [
    {
     "name": "stdout",
     "output_type": "stream",
     "text": [
      "shape of the data is [40, 200]\n",
      "shape of the data is [200, 40]\n"
     ]
    }
   ],
   "source": [
    "mat = scio.loadmat('./HW3_Data/dataset1.mat')\n",
    "Y_Raw = mat['Y']\n",
    "print('shape of the data is [%d, %d]' % Y_Raw.shape)\n",
    "Y = np.mat(Y_Raw).T\n",
    "print('shape of the data is [%d, %d]' % Y.shape)"
   ]
  },
  {
   "cell_type": "code",
   "execution_count": 3,
   "metadata": {},
   "outputs": [
    {
     "data": {
      "text/plain": [
       "[<matplotlib.lines.Line2D at 0x7f93b0b18b00>]"
      ]
     },
     "execution_count": 3,
     "metadata": {},
     "output_type": "execute_result"
    },
    {
     "data": {
      "image/png": "[encoded data removed]",
      "text/plain": [
       "<matplotlib.figure.Figure at 0x7f93e11967f0>"
      ]
     },
     "metadata": {},
     "output_type": "display_data"
    }
   ],
   "source": [
    "plt.plot(Y_Raw[0], Y_Raw[1], '.')"
   ]
  },
  {
   "cell_type": "markdown",
   "metadata": {},
   "source": [
    "### Normalize Data"
   ]
  },
  {
   "cell_type": "code",
   "execution_count": 4,
   "metadata": {},
   "outputs": [],
   "source": [
    "def NormalizeData(X):\n",
    "    mu = [0] * len(X.T)\n",
    "    for i in range(len(X)):\n",
    "        mu += X[i]  \n",
    "    mu = mu/len(X)\n",
    "    for i in range(len(X)):\n",
    "        X[i] = X[i] - mu\n",
    "    \n",
    "    \n",
    "    \n",
    "    ro2 = 0\n",
    "    #print(X[0])\n",
    "    for i in range(len(X)):\n",
    "        for j in range(len(X[i].A1)):\n",
    "            #print(X[i].A1[j])\n",
    "            temp =X[i].A1[j]\n",
    "            ro2 +=  temp*temp \n",
    "    \n",
    "    ro2 = ro2 / (len(X))\n",
    "    \n",
    "    ro = ro2**(1/2)\n",
    "    \n",
    "    X = X/ro\n",
    "    \n",
    "    return X\n",
    "    "
   ]
  },
  {
   "cell_type": "markdown",
   "metadata": {},
   "source": [
    "# 4. PCA Implementation"
   ]
  },
  {
   "cell_type": "code",
   "execution_count": 5,
   "metadata": {},
   "outputs": [],
   "source": [
    "def kernelGen(X):\n",
    "    K = []\n",
    "    for i in range(len(X)):\n",
    "        temp = []\n",
    "        for j in range(len(X)):\n",
    "            xi = np.mat(X[i])\n",
    "            xj = np.mat(X[j])\n",
    "            \n",
    "            temp.append(np.dot(xi,xj.T).A)\n",
    "        K.append(np.concatenate(temp).ravel().tolist())\n",
    "\n",
    "    return K"
   ]
  },
  {
   "cell_type": "code",
   "execution_count": 6,
   "metadata": {},
   "outputs": [],
   "source": [
    "def KTilda(K):\n",
    "    N = len(K)\n",
    "    One = np.ones(N)\n",
    "    I = np.identity(N)\n",
    "    prod = (I - (One*One.T)/N)\n",
    "    K = prod * K * prod\n",
    "    print('shape of K is [%d, %d]' % K.shape)\n",
    "    return K"
   ]
  },
  {
   "cell_type": "code",
   "execution_count": 7,
   "metadata": {},
   "outputs": [],
   "source": [
    "def KPCA(Y, d):\n",
    "    K = kernelGen(Y)\n",
    "    #K = KTilda(K)\n",
    "    \n",
    "    K_eig = np.linalg.eig(K)\n",
    "    lam = K_eig[0]\n",
    "    W = K_eig[1]\n",
    "    print('shape of the lambdas is [%d]' % lam.shape)\n",
    "    print('shape of the W is [%d, %d]' % W.shape)\n",
    "    \n",
    "    for i in range(len(lam)):\n",
    "        W[i] *= 1/lam[i]\n",
    "    \n",
    "    W_tild = []\n",
    "    tempL = lam\n",
    "    tempW = np.array(W)\n",
    "    for i in range(d):\n",
    "        topLam = np.argmax(tempL)\n",
    "        W_tild.append(tempW[topLam])\n",
    "        \n",
    "        tempL = np.delete(tempL, topLam)\n",
    "        tempW = np.delete(tempW, topLam, 0)\n",
    "    \n",
    "    W_tild = np.mat(W_tild)\n",
    "    #print(W_tild)\n",
    "    X = W_tild * K\n",
    "    \n",
    "    return X.A"
   ]
  },
  {
   "cell_type": "markdown",
   "metadata": {},
   "source": [
    "# 5. Kmeans Implementation"
   ]
  },
  {
   "cell_type": "code",
   "execution_count": 8,
   "metadata": {},
   "outputs": [],
   "source": [
    "def euclidDist(X,Y):\n",
    "    X = np.mat(X)\n",
    "    Y = np.mat(Y)\n",
    "    \n",
    "    cost = np.linalg.norm(X-Y,2)\n",
    "    cost = cost**2\n",
    "    \n",
    "    return cost;"
   ]
  },
  {
   "cell_type": "code",
   "execution_count": 9,
   "metadata": {},
   "outputs": [
    {
     "data": {
      "text/plain": [
       "25.0"
      ]
     },
     "execution_count": 9,
     "metadata": {},
     "output_type": "execute_result"
    }
   ],
   "source": [
    "euclidDist([0,0],[3,4])"
   ]
  },
  {
   "cell_type": "code",
   "execution_count": 10,
   "metadata": {},
   "outputs": [],
   "source": [
    "def assignCenters(X,C):\n",
    "    Z = np.zeros(len(X))\n",
    "    for i in range(len(X)):\n",
    "        bestc = -1;\n",
    "        bestCost = -1;\n",
    "        for j in range(len(C)):\n",
    "            tempCost = euclidDist(X[i],C[j])\n",
    "            if (bestCost == -1):\n",
    "                bestc = j\n",
    "                bestCost = tempCost\n",
    "            else:\n",
    "                if(tempCost < bestCost):\n",
    "                    bestc = j\n",
    "                    bestCost = tempCost\n",
    "            \n",
    "        Z[i] = bestc    \n",
    "           \n",
    "    return Z       "
   ]
  },
  {
   "cell_type": "code",
   "execution_count": 11,
   "metadata": {},
   "outputs": [
    {
     "data": {
      "text/plain": [
       "array([ 0.,  0.,  1.,  1.])"
      ]
     },
     "execution_count": 11,
     "metadata": {},
     "output_type": "execute_result"
    }
   ],
   "source": [
    "assignCenters([[0,0],[1,1],[2,2],[3,3]],[[0,0],[3,3]])\n"
   ]
  },
  {
   "cell_type": "code",
   "execution_count": 12,
   "metadata": {},
   "outputs": [],
   "source": [
    "def calcCenters(X,Z,C):\n",
    "    # Needs to be re-written for d > 2\n",
    "    X = np.mat(X)\n",
    "    \n",
    "    for i in range(len(C)):\n",
    "        tempC = [0] * len(X.T)\n",
    "        tempCount = 0\n",
    "        for j in range(len(Z)):\n",
    "            if (Z[j] == i):\n",
    "                tempC += X[j]\n",
    "                tempCount += 1\n",
    "        if (tempCount > 1):        \n",
    "            tempC = tempC/tempCount\n",
    "        C[i] = tempC.A1.tolist()\n",
    "    return C"
   ]
  },
  {
   "cell_type": "code",
   "execution_count": 13,
   "metadata": {},
   "outputs": [
    {
     "data": {
      "text/plain": [
       "[[0.5, 0.5], [2.5, 2.5]]"
      ]
     },
     "execution_count": 13,
     "metadata": {},
     "output_type": "execute_result"
    }
   ],
   "source": [
    "calcCenters([[0,0],[1,1],[2,2],[3,3]],[0,0,1,1],[[0,0],[3,3]])"
   ]
  },
  {
   "cell_type": "code",
   "execution_count": 14,
   "metadata": {},
   "outputs": [],
   "source": [
    "def checkConverge(newC,oldC):\n",
    "    tol = 10**(-6)\n",
    "    for i in range(len(newC)):\n",
    "        temp = abs(euclidDist(newC[i], oldC[i]))\n",
    "        #print(temp)\n",
    "        if (temp > tol):\n",
    "            return False\n",
    "    \n",
    "    return True"
   ]
  },
  {
   "cell_type": "code",
   "execution_count": 15,
   "metadata": {},
   "outputs": [],
   "source": [
    "def checkZConverge(newZ, oldZ):\n",
    "    for i in range(len(newZ)):\n",
    "        if (newZ[i] != oldZ[i]):\n",
    "            return False\n",
    "    return True"
   ]
  },
  {
   "cell_type": "code",
   "execution_count": 16,
   "metadata": {},
   "outputs": [],
   "source": [
    "def Kmeans(X,k,seed):\n",
    "    np.random.seed(seed)\n",
    "    C = []\n",
    "    Z = [0] * len(X)\n",
    "    for i in range(k):\n",
    "        tempC = math.floor((sp.rand(1) * len(X))[0])\n",
    "        C.append(X[tempC])\n",
    "    \n",
    "    converged = False\n",
    "    ittr = 0\n",
    "    \n",
    "    while(converged == False):\n",
    "        newZ = assignCenters(X,C)\n",
    "        \n",
    "        newC = calcCenters(X,newZ,C)\n",
    "        \n",
    "        converged = (checkConverge(newC,C) and checkZConverge(newZ, Z))\n",
    "            \n",
    "        Z = newZ\n",
    "        C = newC      \n",
    "        ittr += 1\n",
    "        \n",
    "        if (ittr > 1000):\n",
    "            converged = True\n",
    "        \n",
    "    \n",
    "    Cluster = []\n",
    "    for l in range(k):\n",
    "        tempCluster = []\n",
    "        for i in range(len(X)):\n",
    "            if(Z[i] == l):\n",
    "                tempCluster.append(X[i])\n",
    "        Cluster.append(tempCluster)       \n",
    "    \n",
    "    return [C,Z,k,Cluster]"
   ]
  },
  {
   "cell_type": "code",
   "execution_count": 17,
   "metadata": {},
   "outputs": [
    {
     "data": {
      "text/plain": [
       "[[[2.5, 2.5], [0.5, 0.5]],\n",
       " array([ 1.,  1.,  0.,  0.]),\n",
       " 2,\n",
       " [[[2, 2], [3, 3]], [[0, 0], [1, 1]]]]"
      ]
     },
     "execution_count": 17,
     "metadata": {},
     "output_type": "execute_result"
    }
   ],
   "source": [
    "Kmeans([[0,0],[1,1],[2,2],[3,3]],2,123)"
   ]
  },
  {
   "cell_type": "code",
   "execution_count": 18,
   "metadata": {},
   "outputs": [],
   "source": [
    "def KmeanCost(X,Z,C):\n",
    "    cost = 0\n",
    "    for i in range(len(X)):\n",
    "        center = C[int(Z[i])]\n",
    "        point = X[i]\n",
    "        cost += euclidDist(point,center)\n",
    "        \n",
    "    cost = cost / len(X)\n",
    "    return cost"
   ]
  },
  {
   "cell_type": "code",
   "execution_count": 19,
   "metadata": {},
   "outputs": [],
   "source": [
    "def outputKmeans(k_val, X):\n",
    "    C = k_val[0]\n",
    "    Z = k_val[1]\n",
    "    k = k_val[2]\n",
    "    clusters = k_val[3]\n",
    "    \n",
    "\n",
    "    for l in range(k):\n",
    "        X_1t = []\n",
    "        X_2t = []\n",
    "        for i in range(len(X)):\n",
    "            if (Z[i] == l):\n",
    "                X_1t.append(X[i][0])\n",
    "                X_2t.append(X[i][1])\n",
    "    \n",
    "        plt.plot(X_1t, X_2t, '.')\n",
    "    \n",
    "    #print(C)\n",
    "    C_1 = []\n",
    "    C_2 = []\n",
    "    for i in range(len(C)):\n",
    "        C_1.append(C[i][0])\n",
    "        C_2.append(C[i][1])\n",
    "    \n",
    "    plt.plot(C_1,C_2, 'o')    \n",
    "    \n",
    "    title = \"X1 vs X2 K:\" +  str(k)\n",
    "    plt.title(title)\n",
    "\n",
    "    plt.tight_layout(pad=0.4, w_pad=0.5, h_pad=1.0)"
   ]
  },
  {
   "cell_type": "code",
   "execution_count": 20,
   "metadata": {},
   "outputs": [],
   "source": [
    "def KmeanMain(X,k,r):\n",
    "    bestrun = 0\n",
    "    bestCost = 100\n",
    "    for i in range(r):\n",
    "        k_val = Kmeans(X,k,i+1)\n",
    "        C = k_val[0]\n",
    "        Z = k_val[1]\n",
    "        k = k_val[2]\n",
    "        clusters = k_val[3]\n",
    "        \n",
    "        cost = KmeanCost(X,Z,C)\n",
    "        if (cost < bestCost):\n",
    "            bestCost = cost\n",
    "            bestrun = i+1\n",
    "        \n",
    "    pp.pprint(\"Min Cost: \" +  str(bestCost))\n",
    "    k_val = Kmeans(X,k,bestrun)\n",
    "    if (len(X.T) == 2):\n",
    "        outputKmeans(k_val, X)\n",
    "        \n",
    "    return clusters"
   ]
  },
  {
   "cell_type": "code",
   "execution_count": null,
   "metadata": {},
   "outputs": [],
   "source": []
  },
  {
   "cell_type": "markdown",
   "metadata": {},
   "source": [
    "# 6. Spectral Clustering Implementation"
   ]
  },
  {
   "cell_type": "code",
   "execution_count": null,
   "metadata": {},
   "outputs": [],
   "source": []
  },
  {
   "cell_type": "markdown",
   "metadata": {},
   "source": [
    "# 7. Test Data"
   ]
  },
  {
   "cell_type": "markdown",
   "metadata": {},
   "source": [
    "## Part A"
   ]
  },
  {
   "cell_type": "code",
   "execution_count": 21,
   "metadata": {},
   "outputs": [
    {
     "name": "stdout",
     "output_type": "stream",
     "text": [
      "shape of the data is [40, 200]\n"
     ]
    },
    {
     "data": {
      "text/plain": [
       "[<matplotlib.lines.Line2D at 0x7f93b0a65e48>]"
      ]
     },
     "execution_count": 21,
     "metadata": {},
     "output_type": "execute_result"
    },
    {
     "data": {
      "image/png": "[encoded data removed]",
      "text/plain": [
       "<matplotlib.figure.Figure at 0x7f93b0b5b5c0>"
      ]
     },
     "metadata": {},
     "output_type": "display_data"
    }
   ],
   "source": [
    "mat = scio.loadmat('./HW3_Data/dataset1.mat')\n",
    "Y_Raw = mat['Y']\n",
    "print('shape of the data is [%d, %d]' % Y_Raw.shape)\n",
    "Y = np.mat(Y_Raw).T\n",
    "newY = NormalizeData(Y)\n",
    "plotY = newY.T.A\n",
    "plt.plot(plotY[0],plotY[1], '.')"
   ]
  },
  {
   "cell_type": "markdown",
   "metadata": {},
   "source": [
    "#### i. There doesn't appear to be any meaningful shape to this data. it looks like it might generally follow a shape of y = x"
   ]
  },
  {
   "cell_type": "code",
   "execution_count": 22,
   "metadata": {},
   "outputs": [
    {
     "data": {
      "text/plain": [
       "[<matplotlib.lines.Line2D at 0x7f93b09d6cf8>]"
      ]
     },
     "execution_count": 22,
     "metadata": {},
     "output_type": "execute_result"
    },
    {
     "data": {
      "image/png": "[encoded data removed]",
      "text/plain": [
       "<matplotlib.figure.Figure at 0x7f93b0ad4438>"
      ]
     },
     "metadata": {},
     "output_type": "display_data"
    }
   ],
   "source": [
    "plt.plot(plotY[1], plotY[2],'.')"
   ]
  },
  {
   "cell_type": "markdown",
   "metadata": {},
   "source": [
    "#### ii. There doesn't appear to be any meaningful shape to this data."
   ]
  },
  {
   "cell_type": "code",
   "execution_count": 23,
   "metadata": {},
   "outputs": [
    {
     "name": "stdout",
     "output_type": "stream",
     "text": [
      "shape of the lambdas is [200]\n",
      "shape of the W is [200, 200]\n"
     ]
    },
    {
     "name": "stderr",
     "output_type": "stream",
     "text": [
      "/usr/local/lib/python3.5/dist-packages/numpy/core/numeric.py:531: ComplexWarning: Casting complex values to real discards the imaginary part\n",
      "  return array(a, dtype, copy=False, order=order)\n"
     ]
    },
    {
     "data": {
      "text/plain": [
       "[<matplotlib.lines.Line2D at 0x7f93b0887780>]"
      ]
     },
     "execution_count": 23,
     "metadata": {},
     "output_type": "execute_result"
    },
    {
     "data": {
      "image/png": "[encoded data removed]",
      "text/plain": [
       "<matplotlib.figure.Figure at 0x7f93b09fb978>"
      ]
     },
     "metadata": {},
     "output_type": "display_data"
    }
   ],
   "source": [
    "X = KPCA(newY, 2)\n",
    "plt.plot(X[0], X[1], '.')"
   ]
  },
  {
   "cell_type": "markdown",
   "metadata": {},
   "source": [
    "#### iii. it looks like there are two semi-distinct clusters to the data, the cluster for X1 > 0 and X1 < 0"
   ]
  },
  {
   "cell_type": "code",
   "execution_count": 24,
   "metadata": {},
   "outputs": [
    {
     "name": "stdout",
     "output_type": "stream",
     "text": [
      "'Min Cost: 0.444624302619'\n",
      "shape of the lambdas is [98]\n",
      "shape of the W is [98, 98]\n",
      "shape of the lambdas is [102]\n",
      "shape of the W is [102, 102]\n"
     ]
    },
    {
     "name": "stderr",
     "output_type": "stream",
     "text": [
      "/usr/local/lib/python3.5/dist-packages/numpy/core/numeric.py:531: ComplexWarning: Casting complex values to real discards the imaginary part\n",
      "  return array(a, dtype, copy=False, order=order)\n"
     ]
    },
    {
     "data": {
      "image/png": "[encoded data removed]",
      "text/plain": [
       "<matplotlib.figure.Figure at 0x7f93b0960b00>"
      ]
     },
     "metadata": {},
     "output_type": "display_data"
    }
   ],
   "source": [
    "Clusters = KmeanMain(newY,2,10)\n",
    "\n",
    "for i in range(len(Clusters)):\n",
    "    Clusters[i] = KPCA(Clusters[i],2)\n",
    "\n",
    "for i in range(len(Clusters)):\n",
    "    plt.plot(Clusters[i][0].T, Clusters[i][1].T, '.')"
   ]
  },
  {
   "cell_type": "markdown",
   "metadata": {},
   "source": [
    "#### iv. It does look like kmeans was able to seperate the data pretty well at dimension 40.  I applied PCA to the clusters to better visualize the results.  It looks like the clusters are actually more distinct with this method in some ways."
   ]
  },
  {
   "cell_type": "code",
   "execution_count": 25,
   "metadata": {},
   "outputs": [
    {
     "name": "stdout",
     "output_type": "stream",
     "text": [
      "'Min Cost: 3.78328355169e-05'\n"
     ]
    },
    {
     "name": "stderr",
     "output_type": "stream",
     "text": [
      "/usr/local/lib/python3.5/dist-packages/numpy/core/numeric.py:531: ComplexWarning: Casting complex values to real discards the imaginary part\n",
      "  return array(a, dtype, copy=False, order=order)\n"
     ]
    },
    {
     "data": {
      "image/png": "[encoded data removed]",
      "text/plain": [
       "<matplotlib.figure.Figure at 0x7f93b0955128>"
      ]
     },
     "metadata": {},
     "output_type": "display_data"
    }
   ],
   "source": [
    "Clusters = KmeanMain(X.T,2,10)"
   ]
  },
  {
   "cell_type": "markdown",
   "metadata": {},
   "source": [
    "#### v. the data was pretty well segregated into 2 clusters that are linearly seperable."
   ]
  },
  {
   "cell_type": "markdown",
   "metadata": {},
   "source": [
    "#### vi. The two methods (PCA first vs Kmeans first) were both able to segregate the data int clusters although the PCA first was a little messier."
   ]
  },
  {
   "cell_type": "markdown",
   "metadata": {},
   "source": [
    "## Part B"
   ]
  },
  {
   "cell_type": "code",
   "execution_count": 26,
   "metadata": {},
   "outputs": [
    {
     "name": "stdout",
     "output_type": "stream",
     "text": [
      "shape of the data is [40, 200]\n"
     ]
    },
    {
     "data": {
      "text/plain": [
       "[<matplotlib.lines.Line2D at 0x7f93b07ce898>]"
      ]
     },
     "execution_count": 26,
     "metadata": {},
     "output_type": "execute_result"
    },
    {
     "data": {
      "image/png": "[encoded data removed]",
      "text/plain": [
       "<matplotlib.figure.Figure at 0x7f93b0b237f0>"
      ]
     },
     "metadata": {},
     "output_type": "display_data"
    }
   ],
   "source": [
    "mat = scio.loadmat('./HW3_Data/dataset2.mat')\n",
    "Y_Raw = mat['Y']\n",
    "print('shape of the data is [%d, %d]' % Y_Raw.shape)\n",
    "Y = np.mat(Y_Raw).T\n",
    "newY = NormalizeData(Y)\n",
    "plotY = newY.T.A\n",
    "plt.plot(plotY[0],plotY[1], '.')"
   ]
  },
  {
   "cell_type": "markdown",
   "metadata": {},
   "source": [
    "#### i. There doesn't appear to be any meaningful shape to this data."
   ]
  },
  {
   "cell_type": "code",
   "execution_count": 27,
   "metadata": {},
   "outputs": [
    {
     "data": {
      "text/plain": [
       "[<matplotlib.lines.Line2D at 0x7f93b08d0710>]"
      ]
     },
     "execution_count": 27,
     "metadata": {},
     "output_type": "execute_result"
    },
    {
     "data": {
      "image/png": "[encoded data removed]",
      "text/plain": [
       "<matplotlib.figure.Figure at 0x7f93b092aac8>"
      ]
     },
     "metadata": {},
     "output_type": "display_data"
    }
   ],
   "source": [
    "plt.plot(plotY[1], plotY[2],'.')"
   ]
  },
  {
   "cell_type": "markdown",
   "metadata": {},
   "source": [
    "#### ii. There doesn't appear to be any meaningful shape to this data. it could be a line?"
   ]
  },
  {
   "cell_type": "code",
   "execution_count": 28,
   "metadata": {},
   "outputs": [
    {
     "name": "stdout",
     "output_type": "stream",
     "text": [
      "shape of the lambdas is [200]\n",
      "shape of the W is [200, 200]\n"
     ]
    },
    {
     "name": "stderr",
     "output_type": "stream",
     "text": [
      "/usr/local/lib/python3.5/dist-packages/numpy/core/numeric.py:531: ComplexWarning: Casting complex values to real discards the imaginary part\n",
      "  return array(a, dtype, copy=False, order=order)\n"
     ]
    },
    {
     "data": {
      "text/plain": [
       "[<matplotlib.lines.Line2D at 0x7f93b097d160>]"
      ]
     },
     "execution_count": 28,
     "metadata": {},
     "output_type": "execute_result"
    },
    {
     "data": {
      "image/png": "[encoded data removed]",
      "text/plain": [
       "<matplotlib.figure.Figure at 0x7f93b08db6a0>"
      ]
     },
     "metadata": {},
     "output_type": "display_data"
    }
   ],
   "source": [
    "X = KPCA(newY, 2)\n",
    "plt.plot(X[0], X[1], '.')"
   ]
  },
  {
   "cell_type": "markdown",
   "metadata": {},
   "source": [
    "#### iii. It looks like there are two distinct clusters, there appear to be two ellipses, one encircling the other."
   ]
  },
  {
   "cell_type": "code",
   "execution_count": 29,
   "metadata": {},
   "outputs": [
    {
     "name": "stdout",
     "output_type": "stream",
     "text": [
      "'Min Cost: 1.76680367843e-05'\n"
     ]
    },
    {
     "name": "stderr",
     "output_type": "stream",
     "text": [
      "/usr/local/lib/python3.5/dist-packages/numpy/core/numeric.py:531: ComplexWarning: Casting complex values to real discards the imaginary part\n",
      "  return array(a, dtype, copy=False, order=order)\n"
     ]
    },
    {
     "data": {
      "image/png": "[encoded data removed]",
      "text/plain": [
       "<matplotlib.figure.Figure at 0x7f93b095b208>"
      ]
     },
     "metadata": {},
     "output_type": "display_data"
    }
   ],
   "source": [
    "Clusters = KmeanMain(X.T,2,10)"
   ]
  },
  {
   "cell_type": "markdown",
   "metadata": {},
   "source": [
    "#### iv. K-means was not able to seperate the data because the center of the outer circle is in the middle of the other circle.  The clusters have the same center!  A different aproach will be needed to seperate the two."
   ]
  },
  {
   "cell_type": "code",
   "execution_count": null,
   "metadata": {},
   "outputs": [],
   "source": []
  }
 ],
 "metadata": {
  "kernelspec": {
   "display_name": "Python 3",
   "language": "python",
   "name": "python3"
  },
  "language_info": {
   "codemirror_mode": {
    "name": "ipython",
    "version": 3
   },
   "file_extension": ".py",
   "mimetype": "text/x-python",
   "name": "python",
   "nbconvert_exporter": "python",
   "pygments_lexer": "ipython3",
   "version": "3.5.2"
  }
 },
 "nbformat": 4,
 "nbformat_minor": 2
}
