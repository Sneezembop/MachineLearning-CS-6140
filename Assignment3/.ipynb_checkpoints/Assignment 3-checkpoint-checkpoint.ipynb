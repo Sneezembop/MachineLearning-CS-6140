{
 "cells": [
  {
   "cell_type": "markdown",
   "metadata": {},
   "source": [
    "# 5. Kmeans Implementation"
   ]
  },
  {
   "cell_type": "code",
   "execution_count": 5,
   "metadata": {},
   "outputs": [],
   "source": [
    "import numpy as np\n",
    "import math\n",
    "import random\n",
    "import scipy as sp\n",
    "import matplotlib.pyplot as plt\n",
    "import scipy.io as scio\n",
    "import pprint as pp\n",
    "\n",
    "%matplotlib inline \n"
   ]
  },
  {
   "cell_type": "code",
   "execution_count": 6,
   "metadata": {},
   "outputs": [
    {
     "name": "stdout",
     "output_type": "stream",
     "text": [
      "{'__globals__': [], '__version__': '1.0', '__header__': b'MATLAB 5.0 MAT-file, Platform: MACI64, Created on: Fri Nov 17 14:05:10 2017', 'Y': array([[ 0.0872933 ,  0.16933097,  0.18004698, ...,  0.17093038,\n",
      "         0.16251801,  0.13325859],\n",
      "       [ 0.10213314,  0.13145444,  0.17780782, ...,  0.18794335,\n",
      "         0.17512682,  0.13199786],\n",
      "       [-0.23571091, -0.21110388, -0.22594422, ..., -0.38672089,\n",
      "        -0.28525409, -0.28311929],\n",
      "       ..., \n",
      "       [ 0.0938926 ,  0.0853673 ,  0.06631593, ...,  0.1600485 ,\n",
      "         0.13669262,  0.12770837],\n",
      "       [ 0.15405768,  0.18781472,  0.22590527, ...,  0.278201  ,\n",
      "         0.25594658,  0.25589882],\n",
      "       [ 0.18902092,  0.29841932,  0.35826813, ...,  0.40641912,\n",
      "         0.39652322,  0.3699856 ]])}\n",
      "shape of the data is [40, 200]\n"
     ]
    }
   ],
   "source": [
    "mat = scio.loadmat('./HW3_Data/dataset1.mat')\n",
    "Y_Raw = mat['Y']\n",
    "print('shape of the data is [%d, %d]' % Y_Raw.shape)\n"
   ]
  },
  {
   "cell_type": "code",
   "execution_count": 3,
   "metadata": {},
   "outputs": [
    {
     "data": {
      "image/png": "[encoded data removed]",
      "text/plain": [
       "<matplotlib.figure.Figure at 0x7f0c9f3be898>"
      ]
     },
     "metadata": {},
     "output_type": "display_data"
    }
   ],
   "source": [
    "# for later\n",
    "\"\"\"\n",
    "X_1 = X_Raw[0]\n",
    "X_2 = X_Raw[1]\n",
    "\n",
    "X = []\n",
    "\n",
    "for i in range(len(X_1)):\n",
    "    X.append([X_1[i],X_2[i]])\n",
    "\n",
    "plt.plot(X_1, X_2, 'b.')\n",
    "plt.title(\"X1 vs X2\")\n",
    "\n",
    "plt.tight_layout(pad=0.4, w_pad=0.5, h_pad=1.0)\n",
    "\"\"\""
   ]
  },
  {
   "cell_type": "code",
   "execution_count": 4,
   "metadata": {},
   "outputs": [],
   "source": [
    "def euclidDist(X,Y):\n",
    "    X = np.mat(X)\n",
    "    Y = np.mat(Y)\n",
    "    \n",
    "    cost = np.linalg.norm(X-Y,2)\n",
    "    cost = cost**2\n",
    "    \n",
    "    return cost;"
   ]
  },
  {
   "cell_type": "code",
   "execution_count": 5,
   "metadata": {},
   "outputs": [
    {
     "data": {
      "text/plain": [
       "25.0"
      ]
     },
     "execution_count": 5,
     "metadata": {},
     "output_type": "execute_result"
    }
   ],
   "source": [
    "euclidDist([0,0],[3,4])"
   ]
  },
  {
   "cell_type": "code",
   "execution_count": 6,
   "metadata": {},
   "outputs": [],
   "source": [
    "def assignCenters(X,C):\n",
    "    Z = np.zeros(len(X))\n",
    "    for i in range(len(X)):\n",
    "        bestc = -1;\n",
    "        bestCost = -1;\n",
    "        for j in range(len(C)):\n",
    "            tempCost = euclidDist(X[i],C[j])\n",
    "            if (bestCost == -1):\n",
    "                bestc = j\n",
    "                bestCost = tempCost\n",
    "            else:\n",
    "                if(tempCost < bestCost):\n",
    "                    bestc = j\n",
    "                    bestCost = tempCost\n",
    "            \n",
    "        Z[i] = bestc    \n",
    "           \n",
    "    return Z       "
   ]
  },
  {
   "cell_type": "code",
   "execution_count": 7,
   "metadata": {},
   "outputs": [
    {
     "data": {
      "text/plain": [
       "array([ 0.,  0.,  1.,  1.])"
      ]
     },
     "execution_count": 7,
     "metadata": {},
     "output_type": "execute_result"
    }
   ],
   "source": [
    "assignCenters([[0,0],[1,1],[2,2],[3,3]],[[0,0],[3,3]])\n"
   ]
  },
  {
   "cell_type": "code",
   "execution_count": 8,
   "metadata": {},
   "outputs": [],
   "source": [
    "def calcCenters(X,Z,C):\n",
    "    for i in range(len(C)):\n",
    "        tempC = [0,0]\n",
    "        tempCount = 0\n",
    "        for j in range(len(Z)):\n",
    "            if (Z[j] == i):\n",
    "                tempC[0] += X[j][0]\n",
    "                tempC[1] += X[j][1]\n",
    "                tempCount += 1\n",
    "        if (tempCount > 1):        \n",
    "            tempC[0] = tempC[0]/tempCount\n",
    "            tempC[1] = tempC[1]/tempCount\n",
    "        C[i] = tempC\n",
    "    return C"
   ]
  },
  {
   "cell_type": "code",
   "execution_count": 9,
   "metadata": {},
   "outputs": [
    {
     "data": {
      "text/plain": [
       "[[0.5, 0.5], [2.5, 2.5]]"
      ]
     },
     "execution_count": 9,
     "metadata": {},
     "output_type": "execute_result"
    }
   ],
   "source": [
    "calcCenters([[0,0],[1,1],[2,2],[3,3]],[0,0,1,1],[[0,0],[3,3]])"
   ]
  },
  {
   "cell_type": "code",
   "execution_count": 10,
   "metadata": {},
   "outputs": [],
   "source": [
    "def checkConverge(newC,oldC):\n",
    "    tol = 10**(-6)\n",
    "    for i in range(len(newC)):\n",
    "        temp = abs(euclidDist(newC[i], oldC[i]))\n",
    "        #print(temp)\n",
    "        if (temp > tol):\n",
    "            return False\n",
    "    \n",
    "    return True"
   ]
  },
  {
   "cell_type": "code",
   "execution_count": 11,
   "metadata": {},
   "outputs": [],
   "source": [
    "def checkZConverge(newZ, oldZ):\n",
    "    for i in range(len(newZ)):\n",
    "        if (newZ[i] != oldZ[i]):\n",
    "            return False\n",
    "    return True"
   ]
  },
  {
   "cell_type": "code",
   "execution_count": 12,
   "metadata": {},
   "outputs": [],
   "source": [
    "def Kmeans(X,k,seed):\n",
    "    np.random.seed(seed)\n",
    "    C = []\n",
    "    Z = [0] * len(X)\n",
    "    for i in range(k):\n",
    "        tempC = math.floor((sp.rand(1) * len(X))[0])\n",
    "        C.append(X[tempC])\n",
    "    \n",
    "    converged = False\n",
    "    ittr = 0\n",
    "    \n",
    "    while(converged == False):\n",
    "        newZ = assignCenters(X,C)\n",
    "        \n",
    "        newC = calcCenters(X,newZ,C)\n",
    "        \n",
    "        converged = (checkConverge(newC,C) and checkZConverge(newZ, Z))\n",
    "            \n",
    "        Z = newZ\n",
    "        C = newC      \n",
    "        ittr += 1\n",
    "        \n",
    "        if (ittr > 1000):\n",
    "            converged = True\n",
    "        \n",
    "    \n",
    "    Cluster = []\n",
    "    for l in range(k):\n",
    "        tempCluster = []\n",
    "        for i in range(len(X)):\n",
    "            if(Z[i] == l):\n",
    "                tempCluster.append(X[i])\n",
    "        Cluster.append(tempCluster)       \n",
    "    \n",
    "    return [C,Z,k,Cluster]"
   ]
  },
  {
   "cell_type": "code",
   "execution_count": 13,
   "metadata": {},
   "outputs": [
    {
     "data": {
      "text/plain": [
       "[[[2.5, 2.5], [0.5, 0.5]],\n",
       " array([ 1.,  1.,  0.,  0.]),\n",
       " 2,\n",
       " [[[2, 2], [3, 3]], [[0, 0], [1, 1]]]]"
      ]
     },
     "execution_count": 13,
     "metadata": {},
     "output_type": "execute_result"
    }
   ],
   "source": [
    "Kmeans([[0,0],[1,1],[2,2],[3,3]],2,123)"
   ]
  },
  {
   "cell_type": "code",
   "execution_count": 14,
   "metadata": {},
   "outputs": [],
   "source": [
    "k_val = Kmeans(X,4,2)"
   ]
  },
  {
   "cell_type": "code",
   "execution_count": 15,
   "metadata": {},
   "outputs": [],
   "source": [
    "def KmeanCost(X,Z,C):\n",
    "    cost = 0\n",
    "    for i in range(len(X)):\n",
    "        center = C[int(Z[i])]\n",
    "        point = X[i]\n",
    "        cost += euclidDist(point,center)\n",
    "        \n",
    "    cost = cost / len(X)\n",
    "    return cost"
   ]
  },
  {
   "cell_type": "code",
   "execution_count": 29,
   "metadata": {},
   "outputs": [],
   "source": [
    "def outputKmeans(k_val, k_max, X):\n",
    "    C = k_val[0]\n",
    "    Z = k_val[1]\n",
    "    k = k_val[2]\n",
    "    clusters = k_val[3]\n",
    "    \n",
    "\n",
    "    for l in range(k):\n",
    "        X_1t = []\n",
    "        X_2t = []\n",
    "        for i in range(len(X_1)):\n",
    "            if (Z[i] == l):\n",
    "                X_1t.append(X_1[i])\n",
    "                X_2t.append(X_2[i])\n",
    "    \n",
    "        plt.plot(X_1t, X_2t, '.')\n",
    "    \n",
    "    C_1 = []\n",
    "    C_2 = []\n",
    "    for i in range(len(C)):\n",
    "        C_1.append(C[i][0])\n",
    "        C_2.append(C[i][1])\n",
    "    \n",
    "    plt.plot(C_1,C_2, 'o')    \n",
    "    \n",
    "    title = \"X1 vs X2 K:\" +  str(k)\n",
    "    plt.title(title)\n",
    "\n",
    "    plt.tight_layout(pad=0.4, w_pad=0.5, h_pad=1.0)\n",
    "    # pp.pprint(\"Clusters:\")\n",
    "    # pp.pprint(clusters)"
   ]
  },
  {
   "cell_type": "code",
   "execution_count": 30,
   "metadata": {},
   "outputs": [],
   "source": [
    "def KmeanMain(X,k,r):\n",
    "    bestrun = 0\n",
    "    bestCost = 100\n",
    "    for i in range(r):\n",
    "        k_val = Kmeans(X,k,i+1)\n",
    "        C = k_val[0]\n",
    "        Z = k_val[1]\n",
    "        k = k_val[2]\n",
    "        clusters = k_val[3]\n",
    "        \n",
    "        cost = KmeanCost(X,Z,C)\n",
    "        if (cost < bestCost):\n",
    "            bestCost = cost\n",
    "            bestrun = i+1\n",
    "        \n",
    "    pp.pprint(\"Min Cost: \" +  str(bestCost))\n",
    "    k_val = Kmeans(X,k,bestrun)\n",
    "    outputKmeans(k_val, 6, X)"
   ]
  },
  {
   "cell_type": "code",
   "execution_count": 32,
   "metadata": {},
   "outputs": [
    {
     "name": "stdout",
     "output_type": "stream",
     "text": [
      "'Min Cost: 0.406292311513'\n"
     ]
    },
    {
     "data": {
      "image/png": "[encoded data removed]",
      "text/plain": [
       "<matplotlib.figure.Figure at 0x7f0c9d106860>"
      ]
     },
     "metadata": {},
     "output_type": "display_data"
    }
   ],
   "source": [
    "KmeanMain(X,4,10)"
   ]
  },
  {
   "cell_type": "code",
   "execution_count": 33,
   "metadata": {},
   "outputs": [
    {
     "name": "stdout",
     "output_type": "stream",
     "text": [
      "'Min Cost: 0.326047140341'\n"
     ]
    },
    {
     "data": {
      "image/png": "[encoded data removed]",
      "text/plain": [
       "<matplotlib.figure.Figure at 0x7f0c9cff8a58>"
      ]
     },
     "metadata": {},
     "output_type": "display_data"
    }
   ],
   "source": [
    "KmeanMain(X,6,10)"
   ]
  },
  {
   "cell_type": "code",
   "execution_count": 34,
   "metadata": {},
   "outputs": [
    {
     "name": "stdout",
     "output_type": "stream",
     "text": [
      "'Min Cost: 0.260462572273'\n"
     ]
    },
    {
     "data": {
      "image/png": "[encoded data removed]",
      "text/plain": [
       "<matplotlib.figure.Figure at 0x7f0c9d202400>"
      ]
     },
     "metadata": {},
     "output_type": "display_data"
    }
   ],
   "source": [
    "KmeanMain(X,8,10)"
   ]
  },
  {
   "cell_type": "code",
   "execution_count": 35,
   "metadata": {},
   "outputs": [
    {
     "name": "stdout",
     "output_type": "stream",
     "text": [
      "'Min Cost: 1.85930386736'\n"
     ]
    },
    {
     "data": {
      "image/png": "[encoded data removed]",
      "text/plain": [
       "<matplotlib.figure.Figure at 0x7f0c9cf7d278>"
      ]
     },
     "metadata": {},
     "output_type": "display_data"
    }
   ],
   "source": [
    "KmeanMain(X,2,10)"
   ]
  },
  {
   "cell_type": "code",
   "execution_count": null,
   "metadata": {},
   "outputs": [],
   "source": []
  }
 ],
 "metadata": {
  "kernelspec": {
   "display_name": "Python 3",
   "language": "python",
   "name": "python3"
  },
  "language_info": {
   "codemirror_mode": {
    "name": "ipython",
    "version": 3
   },
   "file_extension": ".py",
   "mimetype": "text/x-python",
   "name": "python",
   "nbconvert_exporter": "python",
   "pygments_lexer": "ipython3",
   "version": "3.5.2"
  }
 },
 "nbformat": 4,
 "nbformat_minor": 2
}
