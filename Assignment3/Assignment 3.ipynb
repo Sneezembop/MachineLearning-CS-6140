{
 "cells": [
  {
   "cell_type": "markdown",
   "metadata": {},
   "source": [
    "# Assignment 3 Codes"
   ]
  },
  {
   "cell_type": "code",
   "execution_count": 1,
   "metadata": {},
   "outputs": [],
   "source": [
    "import numpy as np\n",
    "import math\n",
    "import random\n",
    "import scipy as sp\n",
    "import matplotlib.pyplot as plt\n",
    "import scipy.io as scio\n",
    "import pprint as pp\n",
    "\n",
    "%matplotlib inline \n"
   ]
  },
  {
   "cell_type": "code",
   "execution_count": 2,
   "metadata": {},
   "outputs": [
    {
     "name": "stdout",
     "output_type": "stream",
     "text": [
      "shape of the data is [40, 200]\n",
      "shape of the data is [200, 40]\n"
     ]
    }
   ],
   "source": [
    "mat = scio.loadmat('./HW3_Data/dataset1.mat')\n",
    "Y_Raw = mat['Y']\n",
    "print('shape of the data is [%d, %d]' % Y_Raw.shape)\n",
    "Y = np.mat(Y_Raw).T\n",
    "print('shape of the data is [%d, %d]' % Y.shape)"
   ]
  },
  {
   "cell_type": "code",
   "execution_count": 3,
   "metadata": {},
   "outputs": [
    {
     "data": {
      "text/plain": [
       "[<matplotlib.lines.Line2D at 0x7fd74461ee48>]"
      ]
     },
     "execution_count": 3,
     "metadata": {},
     "output_type": "execute_result"
    },
    {
     "data": {
      "image/png": "[encoded data removed]",
      "text/plain": [
       "<matplotlib.figure.Figure at 0x7fd7445aacf8>"
      ]
     },
     "metadata": {},
     "output_type": "display_data"
    }
   ],
   "source": [
    "plt.plot(Y_Raw[0], Y_Raw[1], '.')"
   ]
  },
  {
   "cell_type": "markdown",
   "metadata": {},
   "source": [
    "### Normalize Data"
   ]
  },
  {
   "cell_type": "code",
   "execution_count": 4,
   "metadata": {},
   "outputs": [],
   "source": [
    "def NormalizeData(X):\n",
    "    mu = [0] * len(X.T)\n",
    "    for i in range(len(X)):\n",
    "        mu += X[i]  \n",
    "    mu = mu/len(X)\n",
    "    for i in range(len(X)):\n",
    "        X[i] = X[i] - mu\n",
    "    \n",
    "    \n",
    "    \n",
    "    ro2 = 0\n",
    "    #print(X[0])\n",
    "    for i in range(len(X)):\n",
    "        for j in range(len(X[i].A1)):\n",
    "            #print(X[i].A1[j])\n",
    "            temp =X[i].A1[j]\n",
    "            ro2 +=  temp*temp \n",
    "    \n",
    "    ro2 = ro2 / (len(X))\n",
    "    \n",
    "    ro = ro2**(1/2)\n",
    "    \n",
    "    X = X/ro\n",
    "    \n",
    "    return X\n",
    "    "
   ]
  },
  {
   "cell_type": "code",
   "execution_count": 5,
   "metadata": {},
   "outputs": [
    {
     "name": "stdout",
     "output_type": "stream",
     "text": [
      "(200, 40)\n"
     ]
    }
   ],
   "source": [
    "Y = NormalizeData(Y)\n",
    "print(Y.shape)"
   ]
  },
  {
   "cell_type": "markdown",
   "metadata": {},
   "source": [
    "# 4. PCA Implementation"
   ]
  },
  {
   "cell_type": "code",
   "execution_count": 6,
   "metadata": {},
   "outputs": [],
   "source": [
    "def kernelGen(X):\n",
    "    K = []\n",
    "    for i in range(len(X)):\n",
    "        temp = []\n",
    "        for j in range(len(X)):\n",
    "            xi = np.mat(X[i])\n",
    "            xj = np.mat(X[j])\n",
    "            \n",
    "            temp.append(np.dot(xi,xj.T).A)\n",
    "        K.append(np.concatenate(temp).ravel().tolist())\n",
    "\n",
    "    return K"
   ]
  },
  {
   "cell_type": "code",
   "execution_count": 7,
   "metadata": {},
   "outputs": [],
   "source": [
    "def kernelGen_Alt(X):\n",
    "    K = []\n",
    "    for i in range(len(X)):\n",
    "        temp = []\n",
    "        for j in range(len(X)):\n",
    "            xi = np.mat(X[i])\n",
    "            xj = np.mat(X[j])\n",
    "            \n",
    "            ro = 0.01\n",
    "            \n",
    "            val = xi - xj\n",
    "            val = np.linalg.norm(val, ord=2)\n",
    "            val = val**2\n",
    "            val = val / 2*(ro**2)\n",
    "            val = np.exp(-1 * val)\n",
    "            temp.append(val)\n",
    "\n",
    "        K.append(temp)\n",
    "\n",
    "    return K"
   ]
  },
  {
   "cell_type": "code",
   "execution_count": 8,
   "metadata": {},
   "outputs": [],
   "source": [
    "def KTilda(K):\n",
    "    N = len(K)\n",
    "    One = np.ones(N)\n",
    "    I = np.identity(N)\n",
    "    prod = (I - (One*One.T)/N)\n",
    "    K = prod * K * prod\n",
    "    print('shape of K is [%d, %d]' % K.shape)\n",
    "    return K"
   ]
  },
  {
   "cell_type": "code",
   "execution_count": 9,
   "metadata": {},
   "outputs": [],
   "source": [
    "def KPCA(Y, d):\n",
    "    K = kernelGen(Y)\n",
    "    #K = KTilda(K)\n",
    "    \n",
    "    K_eig = np.linalg.eig(K)\n",
    "    lam = K_eig[0]\n",
    "    W = K_eig[1]\n",
    "    print('shape of the lambdas is [%d]' % lam.shape)\n",
    "    print('shape of the W is [%d, %d]' % W.shape)\n",
    "    \n",
    "    for i in range(len(lam)):\n",
    "        W[i] *= 1/lam[i]\n",
    "    \n",
    "    W_tild = []\n",
    "    tempL = lam\n",
    "    tempW = np.array(W)\n",
    "    for i in range(d):\n",
    "        topLam = np.argmax(tempL)\n",
    "        W_tild.append(tempW[topLam])\n",
    "        \n",
    "        tempL = np.delete(tempL, topLam)\n",
    "        tempW = np.delete(tempW, topLam, 0)\n",
    "    \n",
    "    W_tild = np.mat(W_tild)\n",
    "    #print(W_tild)\n",
    "    X = W_tild * K\n",
    "    \n",
    "    return X.A"
   ]
  },
  {
   "cell_type": "code",
   "execution_count": 10,
   "metadata": {},
   "outputs": [],
   "source": [
    "def KPCA_Alt(Y, d):\n",
    "    K = kernelGen_Alt(Y)\n",
    "    #K = KTilda(K)\n",
    "    \n",
    "    K_eig = np.linalg.eig(K)\n",
    "    lam = K_eig[0]\n",
    "    W = K_eig[1]\n",
    "    print('shape of the lambdas is [%d]' % lam.shape)\n",
    "    print('shape of the W is [%d, %d]' % W.shape)\n",
    "    \n",
    "    for i in range(len(lam)):\n",
    "        W[i] *= 1/lam[i]\n",
    "    \n",
    "    W_tild = []\n",
    "    tempL = lam\n",
    "    tempW = np.array(W)\n",
    "    for i in range(d):\n",
    "        topLam = np.argmax(tempL)\n",
    "        W_tild.append(tempW[topLam])\n",
    "        \n",
    "        tempL = np.delete(tempL, topLam)\n",
    "        tempW = np.delete(tempW, topLam, 0)\n",
    "    \n",
    "    W_tild = np.mat(W_tild)\n",
    "    #print(W_tild)\n",
    "    X = W_tild * K\n",
    "    \n",
    "    return X.A"
   ]
  },
  {
   "cell_type": "markdown",
   "metadata": {},
   "source": [
    "# 5. Kmeans Implementation"
   ]
  },
  {
   "cell_type": "code",
   "execution_count": 11,
   "metadata": {},
   "outputs": [],
   "source": [
    "def euclidDist(X,Y):\n",
    "    X = np.mat(X)\n",
    "    Y = np.mat(Y)\n",
    "    \n",
    "    cost = np.linalg.norm(X-Y,2)\n",
    "    cost = cost**2\n",
    "    \n",
    "    return cost;"
   ]
  },
  {
   "cell_type": "code",
   "execution_count": 12,
   "metadata": {},
   "outputs": [
    {
     "data": {
      "text/plain": [
       "25.0"
      ]
     },
     "execution_count": 12,
     "metadata": {},
     "output_type": "execute_result"
    }
   ],
   "source": [
    "euclidDist([0,0],[3,4])"
   ]
  },
  {
   "cell_type": "code",
   "execution_count": 13,
   "metadata": {},
   "outputs": [],
   "source": [
    "def assignCenters(X,C):\n",
    "    Z = np.zeros(len(X))\n",
    "    for i in range(len(X)):\n",
    "        bestc = -1;\n",
    "        bestCost = -1;\n",
    "        for j in range(len(C)):\n",
    "            tempCost = euclidDist(X[i],C[j])\n",
    "            if (bestCost == -1):\n",
    "                bestc = j\n",
    "                bestCost = tempCost\n",
    "            else:\n",
    "                if(tempCost < bestCost):\n",
    "                    bestc = j\n",
    "                    bestCost = tempCost\n",
    "            \n",
    "        Z[i] = bestc    \n",
    "           \n",
    "    return Z       "
   ]
  },
  {
   "cell_type": "code",
   "execution_count": 14,
   "metadata": {},
   "outputs": [
    {
     "data": {
      "text/plain": [
       "array([ 0.,  0.,  1.,  1.])"
      ]
     },
     "execution_count": 14,
     "metadata": {},
     "output_type": "execute_result"
    }
   ],
   "source": [
    "assignCenters([[0,0],[1,1],[2,2],[3,3]],[[0,0],[3,3]])\n"
   ]
  },
  {
   "cell_type": "code",
   "execution_count": 15,
   "metadata": {},
   "outputs": [],
   "source": [
    "def calcCenters(X,Z,C):\n",
    "    # Needs to be re-written for d > 2\n",
    "    X = np.mat(X)\n",
    "    \n",
    "    for i in range(len(C)):\n",
    "        tempC = [[0.0] * len(X.T)]\n",
    "        tempC = np.mat(tempC)\n",
    "        tempCount = 0\n",
    "        for j in range(len(Z)):\n",
    "            if (Z[j] == i):\n",
    "                np.add(tempC, X[j], out=tempC, casting='unsafe')\n",
    "                #tempC += X[j]\n",
    "                tempCount += 1\n",
    "        if (tempCount > 1):        \n",
    "            tempC = tempC/tempCount\n",
    "        #print(tempC)\n",
    "        C[i] = tempC.A.tolist()\n",
    "    return C"
   ]
  },
  {
   "cell_type": "code",
   "execution_count": 16,
   "metadata": {},
   "outputs": [
    {
     "data": {
      "text/plain": [
       "[[[0.5, 0.5]], [[2.5, 2.5]]]"
      ]
     },
     "execution_count": 16,
     "metadata": {},
     "output_type": "execute_result"
    }
   ],
   "source": [
    "calcCenters([[0,0],[1,1],[2,2],[3,3]],[0,0,1,1],[[0,0],[3,3]])"
   ]
  },
  {
   "cell_type": "code",
   "execution_count": 17,
   "metadata": {},
   "outputs": [],
   "source": [
    "def checkConverge(newC,oldC):\n",
    "    tol = 10**(-6)\n",
    "    for i in range(len(newC)):\n",
    "        temp = abs(euclidDist(newC[i], oldC[i]))\n",
    "        #print(temp)\n",
    "        if (temp > tol):\n",
    "            return False\n",
    "    \n",
    "    return True"
   ]
  },
  {
   "cell_type": "code",
   "execution_count": 18,
   "metadata": {},
   "outputs": [],
   "source": [
    "def checkZConverge(newZ, oldZ):\n",
    "    for i in range(len(newZ)):\n",
    "        if (newZ[i] != oldZ[i]):\n",
    "            return False\n",
    "    return True"
   ]
  },
  {
   "cell_type": "code",
   "execution_count": 19,
   "metadata": {},
   "outputs": [],
   "source": [
    "def Kmeans(X,k,seed):\n",
    "    np.random.seed(seed)\n",
    "    C = []\n",
    "    Z = [0] * len(X)\n",
    "    for i in range(k):\n",
    "        tempC = math.floor((sp.rand(1) * len(X))[0])\n",
    "        C.append(X[tempC])\n",
    "    \n",
    "    converged = False\n",
    "    ittr = 0\n",
    "    \n",
    "    while(converged == False):\n",
    "        newZ = assignCenters(X,C)\n",
    "        \n",
    "        newC = calcCenters(X,newZ,C)\n",
    "        \n",
    "        converged = (checkConverge(newC,C) and checkZConverge(newZ, Z))\n",
    "            \n",
    "        Z = newZ\n",
    "        C = newC      \n",
    "        ittr += 1\n",
    "        \n",
    "        if (ittr > 1000):\n",
    "            converged = True\n",
    "        \n",
    "    \n",
    "    Cluster = []\n",
    "    for l in range(k):\n",
    "        tempCluster = []\n",
    "        for i in range(len(X)):\n",
    "            if(Z[i] == l):\n",
    "                tempCluster.append(X[i])\n",
    "        Cluster.append(tempCluster)       \n",
    "    \n",
    "    return [C,Z,k,Cluster]"
   ]
  },
  {
   "cell_type": "code",
   "execution_count": 20,
   "metadata": {},
   "outputs": [
    {
     "data": {
      "text/plain": [
       "[[[[2.5, 2.5]], [[0.5, 0.5]]],\n",
       " array([ 1.,  1.,  0.,  0.]),\n",
       " 2,\n",
       " [[[2, 2], [3, 3]], [[0, 0], [1, 1]]]]"
      ]
     },
     "execution_count": 20,
     "metadata": {},
     "output_type": "execute_result"
    }
   ],
   "source": [
    "Kmeans([[0,0],[1,1],[2,2],[3,3]],2,123)"
   ]
  },
  {
   "cell_type": "code",
   "execution_count": 21,
   "metadata": {},
   "outputs": [],
   "source": [
    "def KmeanCost(X,Z,C):\n",
    "    cost = 0\n",
    "    for i in range(len(X)):\n",
    "        center = C[int(Z[i])]\n",
    "        point = X[i]\n",
    "        cost += euclidDist(point,center)\n",
    "        \n",
    "    cost = cost / len(X)\n",
    "    return cost"
   ]
  },
  {
   "cell_type": "code",
   "execution_count": 22,
   "metadata": {},
   "outputs": [],
   "source": [
    "def outputKmeans(k_val, X):\n",
    "    C = k_val[0]\n",
    "    Z = k_val[1]\n",
    "    k = k_val[2]\n",
    "    clusters = k_val[3]\n",
    "    \n",
    "\n",
    "    for l in range(k):\n",
    "        X_1t = []\n",
    "        X_2t = []\n",
    "        for i in range(len(X)):\n",
    "            if (Z[i] == l):\n",
    "                X_1t.append(X[i][0])\n",
    "                X_2t.append(X[i][1])\n",
    "    \n",
    "        plt.plot(X_1t, X_2t, '.')\n",
    "    \n",
    "    C_1 = []\n",
    "    C_2 = []\n",
    "    for i in range(len(C)):\n",
    "        C_1.append(C[i][0])\n",
    "        C_2.append(C[i][1])\n",
    "    \n",
    "    plt.plot(C_1,C_2, 'o')    \n",
    "    \n",
    "    title = \"X1 vs X2 K:\" +  str(k)\n",
    "    plt.title(title)\n",
    "\n",
    "    plt.tight_layout(pad=0.4, w_pad=0.5, h_pad=1.0)"
   ]
  },
  {
   "cell_type": "code",
   "execution_count": 23,
   "metadata": {},
   "outputs": [],
   "source": [
    "def KmeanMain(X,k,r):\n",
    "    bestrun = 0\n",
    "    bestCost = 100\n",
    "    for i in range(r):\n",
    "        k_val = Kmeans(X,k,i+1)\n",
    "        C = k_val[0]\n",
    "        Z = k_val[1]\n",
    "        k = k_val[2]\n",
    "        clusters = k_val[3]\n",
    "        \n",
    "        cost = KmeanCost(X,Z,C)\n",
    "        if (cost < bestCost):\n",
    "            bestCost = cost\n",
    "            bestrun = i+1\n",
    "        \n",
    "    pp.pprint(\"Min Cost: \" +  str(bestCost))\n",
    "    k_val = Kmeans(X,k,bestrun)\n",
    "    \n",
    "        \n",
    "    return k_val[3]"
   ]
  },
  {
   "cell_type": "code",
   "execution_count": null,
   "metadata": {},
   "outputs": [],
   "source": []
  },
  {
   "cell_type": "markdown",
   "metadata": {},
   "source": [
    "# 6. Spectral Clustering Implementation"
   ]
  },
  {
   "cell_type": "code",
   "execution_count": 24,
   "metadata": {},
   "outputs": [],
   "source": [
    "def wij(i,j, ro):\n",
    "    val = i - j\n",
    "    val = np.linalg.norm(val, ord=2)\n",
    "    val = val**2\n",
    "    val = val / 2*(ro**2)\n",
    "    val = np.exp(-1 * val)\n",
    "    #print(val)\n",
    "    return val"
   ]
  },
  {
   "cell_type": "code",
   "execution_count": 25,
   "metadata": {},
   "outputs": [],
   "source": [
    "def getkNN(Y,yi, k ):\n",
    "    temp = []\n",
    "    for i in range(len(Y)):\n",
    "        temp.append([euclidDist(Y[i], yi), i])\n",
    "    \n",
    "    temp.sort()\n",
    "    temp = temp[1:(k +1)]\n",
    "    for i in range(len(temp)):\n",
    "        temp[i] = temp[i][1:]\n",
    "    return temp"
   ]
  },
  {
   "cell_type": "code",
   "execution_count": 26,
   "metadata": {},
   "outputs": [
    {
     "data": {
      "text/plain": [
       "[[33], [74], [16]]"
      ]
     },
     "execution_count": 26,
     "metadata": {},
     "output_type": "execute_result"
    }
   ],
   "source": [
    "getkNN(Y, Y[0], 3)"
   ]
  },
  {
   "cell_type": "code",
   "execution_count": 27,
   "metadata": {},
   "outputs": [],
   "source": [
    "def buildWMatrix(Y,k, ro):\n",
    "    W = []\n",
    "    for i in range(len(Y)):\n",
    "        temp = []\n",
    "        knn = getkNN(Y, Y[i], k)\n",
    "        for j in range(len(Y)):\n",
    "            if [j] in knn:\n",
    "                temp.append(wij(Y[i],Y[j], ro))\n",
    "            else:\n",
    "                temp.append(0)\n",
    "        \n",
    "        W.append(temp)\n",
    "    \n",
    "    return W"
   ]
  },
  {
   "cell_type": "code",
   "execution_count": 28,
   "metadata": {},
   "outputs": [
    {
     "name": "stdout",
     "output_type": "stream",
     "text": [
      "(200, 200)\n"
     ]
    }
   ],
   "source": [
    "W = buildWMatrix(Y, 5, 0.2)\n",
    "\n",
    "W = np.mat(W)\n",
    "print(W.shape)"
   ]
  },
  {
   "cell_type": "code",
   "execution_count": 29,
   "metadata": {},
   "outputs": [],
   "source": [
    "def buildLaplacian(W):\n",
    "    D = np.zeros((len(W),len(W)))\n",
    "    for i in range(len(W)):\n",
    "        D[i][i] = np.sum(W[i])\n",
    "        \n",
    "    L = D-W \n",
    "    return L"
   ]
  },
  {
   "cell_type": "code",
   "execution_count": 30,
   "metadata": {},
   "outputs": [
    {
     "name": "stdout",
     "output_type": "stream",
     "text": [
      "(200, 200)\n"
     ]
    }
   ],
   "source": [
    "L = buildLaplacian(W)\n",
    "print(L.shape)"
   ]
  },
  {
   "cell_type": "code",
   "execution_count": 31,
   "metadata": {},
   "outputs": [],
   "source": [
    "def spectralCluster(W, Y, k):\n",
    "    L = buildLaplacian(W)\n",
    "    Leig = np.linalg.eig(L)\n",
    "    Lv = Leig[1]\n",
    "    V = []\n",
    "    for i in range(k):\n",
    "        temp = Lv[i].A1.tolist()\n",
    "        V.append(temp)\n",
    "    \n",
    "\n",
    "    V = np.mat(V).T\n",
    "    clusters = KmeanMain(V.tolist(), k, 10)\n",
    "    \n",
    "    newClusters = []\n",
    "    for i in range(len(clusters)):\n",
    "        temp = []\n",
    "        for j in range(len(clusters[i])):\n",
    "            \n",
    "            index = V.A.tolist().index(clusters[i][j])\n",
    "            temp.append(Y.T[index])\n",
    "\n",
    "        newClusters.append(temp)    \n",
    "        \n",
    "        \n",
    "    return newClusters"
   ]
  },
  {
   "cell_type": "code",
   "execution_count": null,
   "metadata": {},
   "outputs": [],
   "source": [
    "\n",
    "    \n"
   ]
  },
  {
   "cell_type": "markdown",
   "metadata": {},
   "source": [
    "# 7. Test Data"
   ]
  },
  {
   "cell_type": "markdown",
   "metadata": {},
   "source": [
    "## Part A"
   ]
  },
  {
   "cell_type": "code",
   "execution_count": 32,
   "metadata": {},
   "outputs": [
    {
     "name": "stdout",
     "output_type": "stream",
     "text": [
      "shape of the data is [40, 200]\n"
     ]
    },
    {
     "data": {
      "text/plain": [
       "[<matplotlib.lines.Line2D at 0x7fd713e42a20>]"
      ]
     },
     "execution_count": 32,
     "metadata": {},
     "output_type": "execute_result"
    },
    {
     "data": {
      "image/png": "[encoded data removed]",
      "text/plain": [
       "<matplotlib.figure.Figure at 0x7fd715f89198>"
      ]
     },
     "metadata": {},
     "output_type": "display_data"
    }
   ],
   "source": [
    "mat = scio.loadmat('./HW3_Data/dataset1.mat')\n",
    "Y_Raw = mat['Y']\n",
    "print('shape of the data is [%d, %d]' % Y_Raw.shape)\n",
    "Y = np.mat(Y_Raw).T\n",
    "newY = NormalizeData(Y)\n",
    "plotY = newY.T.A\n",
    "plt.plot(plotY[0],plotY[1], '.')"
   ]
  },
  {
   "cell_type": "markdown",
   "metadata": {},
   "source": [
    "#### i. There doesn't appear to be any meaningful shape to this data. it looks like it might generally follow a shape of y = x"
   ]
  },
  {
   "cell_type": "code",
   "execution_count": 33,
   "metadata": {},
   "outputs": [
    {
     "data": {
      "text/plain": [
       "[<matplotlib.lines.Line2D at 0x7fd713dbb208>]"
      ]
     },
     "execution_count": 33,
     "metadata": {},
     "output_type": "execute_result"
    },
    {
     "data": {
      "image/png": "[encoded data removed]",
      "text/plain": [
       "<matplotlib.figure.Figure at 0x7fd713dea048>"
      ]
     },
     "metadata": {},
     "output_type": "display_data"
    }
   ],
   "source": [
    "plt.plot(plotY[1], plotY[2],'.')"
   ]
  },
  {
   "cell_type": "markdown",
   "metadata": {},
   "source": [
    "#### ii. There doesn't appear to be any meaningful shape to this data."
   ]
  },
  {
   "cell_type": "code",
   "execution_count": 34,
   "metadata": {},
   "outputs": [
    {
     "name": "stdout",
     "output_type": "stream",
     "text": [
      "shape of the lambdas is [200]\n",
      "shape of the W is [200, 200]\n"
     ]
    },
    {
     "name": "stderr",
     "output_type": "stream",
     "text": [
      "/usr/local/lib/python3.5/dist-packages/numpy/core/numeric.py:531: ComplexWarning: Casting complex values to real discards the imaginary part\n",
      "  return array(a, dtype, copy=False, order=order)\n"
     ]
    },
    {
     "data": {
      "text/plain": [
       "[<matplotlib.lines.Line2D at 0x7fd713c64c50>]"
      ]
     },
     "execution_count": 34,
     "metadata": {},
     "output_type": "execute_result"
    },
    {
     "data": {
      "image/png": "[encoded data removed]",
      "text/plain": [
       "<matplotlib.figure.Figure at 0x7fd713f489e8>"
      ]
     },
     "metadata": {},
     "output_type": "display_data"
    }
   ],
   "source": [
    "X = KPCA(newY, 2)\n",
    "plt.plot(X[0], X[1], '.')"
   ]
  },
  {
   "cell_type": "markdown",
   "metadata": {},
   "source": [
    "#### iii. it looks like there are two semi-distinct clusters to the data, the cluster for X1 > 0 and X1 < 0"
   ]
  },
  {
   "cell_type": "code",
   "execution_count": 35,
   "metadata": {},
   "outputs": [
    {
     "name": "stdout",
     "output_type": "stream",
     "text": [
      "'Min Cost: 0.444624302619'\n",
      "shape of the lambdas is [97]\n",
      "shape of the W is [97, 97]\n",
      "shape of the lambdas is [103]\n",
      "shape of the W is [103, 103]\n"
     ]
    },
    {
     "name": "stderr",
     "output_type": "stream",
     "text": [
      "/usr/local/lib/python3.5/dist-packages/numpy/core/numeric.py:531: ComplexWarning: Casting complex values to real discards the imaginary part\n",
      "  return array(a, dtype, copy=False, order=order)\n"
     ]
    },
    {
     "data": {
      "image/png": "[encoded data removed]",
      "text/plain": [
       "<matplotlib.figure.Figure at 0x7fd713d44ac8>"
      ]
     },
     "metadata": {},
     "output_type": "display_data"
    }
   ],
   "source": [
    "Clusters = KmeanMain(newY,2,10)\n",
    "\n",
    "for i in range(len(Clusters)):\n",
    "    Clusters[i] = KPCA(Clusters[i],2)\n",
    "\n",
    "for i in range(len(Clusters)):\n",
    "    plt.plot(Clusters[i][0].T, Clusters[i][1].T, '.')"
   ]
  },
  {
   "cell_type": "markdown",
   "metadata": {},
   "source": [
    "#### iv. It does look like kmeans was unable to seperate the data very well at dimension 40.  I applied PCA to the clusters to better visualize the results. It's possible the overlap in the clusters visually is due to the application of PCA."
   ]
  },
  {
   "cell_type": "code",
   "execution_count": 36,
   "metadata": {},
   "outputs": [
    {
     "name": "stderr",
     "output_type": "stream",
     "text": [
      "/usr/local/lib/python3.5/dist-packages/ipykernel_launcher.py:11: ComplexWarning: Casting complex values to real discards the imaginary part\n",
      "  # This is added back by InteractiveShellApp.init_path()\n"
     ]
    },
    {
     "name": "stdout",
     "output_type": "stream",
     "text": [
      "'Min Cost: 4.35285622763e-05'\n"
     ]
    },
    {
     "name": "stderr",
     "output_type": "stream",
     "text": [
      "/usr/local/lib/python3.5/dist-packages/numpy/core/numeric.py:531: ComplexWarning: Casting complex values to real discards the imaginary part\n",
      "  return array(a, dtype, copy=False, order=order)\n"
     ]
    },
    {
     "data": {
      "image/png": "[encoded data removed]",
      "text/plain": [
       "<matplotlib.figure.Figure at 0x7fd713ca82b0>"
      ]
     },
     "metadata": {},
     "output_type": "display_data"
    }
   ],
   "source": [
    "Clusters = KmeanMain(X.T,2,10)\n",
    "for i in range(len(Clusters)):\n",
    "    cluster = np.mat(Clusters[i]).T\n",
    "    cluster = cluster.tolist()\n",
    "    plt.plot(cluster[0], cluster[1], '.')"
   ]
  },
  {
   "cell_type": "markdown",
   "metadata": {},
   "source": [
    "#### v. the data was pretty well segregated into 2 clusters that are linearly seperable."
   ]
  },
  {
   "cell_type": "markdown",
   "metadata": {},
   "source": [
    "#### vi. The two methods (PCA first vs Kmeans first) were both able to segregate the data int clusters although the PCA first was a little messier."
   ]
  },
  {
   "cell_type": "markdown",
   "metadata": {},
   "source": [
    "## Part B"
   ]
  },
  {
   "cell_type": "code",
   "execution_count": 37,
   "metadata": {},
   "outputs": [
    {
     "name": "stdout",
     "output_type": "stream",
     "text": [
      "shape of the data is [40, 200]\n"
     ]
    },
    {
     "data": {
      "text/plain": [
       "[<matplotlib.lines.Line2D at 0x7fd713baaef0>]"
      ]
     },
     "execution_count": 37,
     "metadata": {},
     "output_type": "execute_result"
    },
    {
     "data": {
      "image/png": "[encoded data removed]",
      "text/plain": [
       "<matplotlib.figure.Figure at 0x7fd713ed5b38>"
      ]
     },
     "metadata": {},
     "output_type": "display_data"
    }
   ],
   "source": [
    "mat = scio.loadmat('./HW3_Data/dataset2.mat')\n",
    "Y_Raw = mat['Y']\n",
    "print('shape of the data is [%d, %d]' % Y_Raw.shape)\n",
    "Y = np.mat(Y_Raw).T\n",
    "newY = NormalizeData(Y)\n",
    "plotY = newY.T.A\n",
    "plt.plot(plotY[0],plotY[1], '.')"
   ]
  },
  {
   "cell_type": "markdown",
   "metadata": {},
   "source": [
    "#### i. There doesn't appear to be any meaningful shape to this data."
   ]
  },
  {
   "cell_type": "code",
   "execution_count": 38,
   "metadata": {},
   "outputs": [
    {
     "data": {
      "text/plain": [
       "[<matplotlib.lines.Line2D at 0x7fd713d1c0b8>]"
      ]
     },
     "execution_count": 38,
     "metadata": {},
     "output_type": "execute_result"
    },
    {
     "data": {
      "image/png": "[encoded data removed]",
      "text/plain": [
       "<matplotlib.figure.Figure at 0x7fd713d44b00>"
      ]
     },
     "metadata": {},
     "output_type": "display_data"
    }
   ],
   "source": [
    "plt.plot(plotY[1], plotY[2],'.')"
   ]
  },
  {
   "cell_type": "markdown",
   "metadata": {},
   "source": [
    "#### ii. There doesn't appear to be any meaningful shape to this data. it could be a line?"
   ]
  },
  {
   "cell_type": "code",
   "execution_count": 39,
   "metadata": {},
   "outputs": [
    {
     "name": "stdout",
     "output_type": "stream",
     "text": [
      "shape of the lambdas is [200]\n",
      "shape of the W is [200, 200]\n"
     ]
    },
    {
     "name": "stderr",
     "output_type": "stream",
     "text": [
      "/usr/local/lib/python3.5/dist-packages/numpy/core/numeric.py:531: ComplexWarning: Casting complex values to real discards the imaginary part\n",
      "  return array(a, dtype, copy=False, order=order)\n"
     ]
    },
    {
     "data": {
      "text/plain": [
       "[<matplotlib.lines.Line2D at 0x7fd713bd8048>]"
      ]
     },
     "execution_count": 39,
     "metadata": {},
     "output_type": "execute_result"
    },
    {
     "data": {
      "image/png": "[encoded data removed]",
      "text/plain": [
       "<matplotlib.figure.Figure at 0x7fd713ba3940>"
      ]
     },
     "metadata": {},
     "output_type": "display_data"
    }
   ],
   "source": [
    "X = KPCA(newY, 2)\n",
    "plt.plot(X[0], X[1], '.')"
   ]
  },
  {
   "cell_type": "markdown",
   "metadata": {},
   "source": [
    "#### iii. It looks like there are two distinct clusters, there appear to be two ellipses, one encircling the other."
   ]
  },
  {
   "cell_type": "code",
   "execution_count": 40,
   "metadata": {},
   "outputs": [
    {
     "name": "stderr",
     "output_type": "stream",
     "text": [
      "/usr/local/lib/python3.5/dist-packages/ipykernel_launcher.py:11: ComplexWarning: Casting complex values to real discards the imaginary part\n",
      "  # This is added back by InteractiveShellApp.init_path()\n"
     ]
    },
    {
     "name": "stdout",
     "output_type": "stream",
     "text": [
      "'Min Cost: 3.1016197276e-05'\n"
     ]
    },
    {
     "name": "stderr",
     "output_type": "stream",
     "text": [
      "/usr/local/lib/python3.5/dist-packages/numpy/core/numeric.py:531: ComplexWarning: Casting complex values to real discards the imaginary part\n",
      "  return array(a, dtype, copy=False, order=order)\n"
     ]
    },
    {
     "data": {
      "image/png": "[encoded data removed]",
      "text/plain": [
       "<matplotlib.figure.Figure at 0x7fd713ed9dd8>"
      ]
     },
     "metadata": {},
     "output_type": "display_data"
    }
   ],
   "source": [
    "Clusters = KmeanMain(X.T,2,10)\n",
    "for i in range(len(Clusters)):\n",
    "    cluster = np.mat(Clusters[i]).T\n",
    "    cluster = cluster.tolist()\n",
    "    plt.plot(cluster[0], cluster[1], '.')"
   ]
  },
  {
   "cell_type": "markdown",
   "metadata": {},
   "source": [
    "#### iv. K-means was not able to seperate the data because the center of the outer circle is in the middle of the other circle.  The clusters have the same center!  A different aproach will be needed to seperate the two."
   ]
  },
  {
   "cell_type": "code",
   "execution_count": 41,
   "metadata": {},
   "outputs": [
    {
     "name": "stdout",
     "output_type": "stream",
     "text": [
      "shape of the lambdas is [200]\n",
      "shape of the W is [200, 200]\n"
     ]
    },
    {
     "data": {
      "text/plain": [
       "[<matplotlib.lines.Line2D at 0x7fd713b3d208>]"
      ]
     },
     "execution_count": 41,
     "metadata": {},
     "output_type": "execute_result"
    },
    {
     "data": {
      "image/png": "[encoded data removed]",
      "text/plain": [
       "<matplotlib.figure.Figure at 0x7fd713c56828>"
      ]
     },
     "metadata": {},
     "output_type": "display_data"
    }
   ],
   "source": [
    "X = KPCA_Alt(newY, 2)\n",
    "plt.plot(X[0], X[1], '.')"
   ]
  },
  {
   "cell_type": "code",
   "execution_count": 42,
   "metadata": {},
   "outputs": [
    {
     "name": "stdout",
     "output_type": "stream",
     "text": [
      "'Min Cost: 1.43967577066e-05'\n"
     ]
    },
    {
     "data": {
      "image/png": "[encoded data removed]",
      "text/plain": [
       "<matplotlib.figure.Figure at 0x7fd713c56d30>"
      ]
     },
     "metadata": {},
     "output_type": "display_data"
    }
   ],
   "source": [
    "Clusters = KmeanMain(X.T,2,10)\n",
    "for i in range(len(Clusters)):\n",
    "    cluster = np.mat(Clusters[i]).T\n",
    "    cluster = cluster.tolist()\n",
    "    plt.plot(cluster[0], cluster[1], '.')"
   ]
  },
  {
   "cell_type": "markdown",
   "metadata": {},
   "source": [
    "#### v. KPCA using the provided Kernel is no more sucessful at recovering the data because the two clusters are still inter-locked in the 2d projection.  "
   ]
  },
  {
   "cell_type": "code",
   "execution_count": 47,
   "metadata": {},
   "outputs": [
    {
     "name": "stdout",
     "output_type": "stream",
     "text": [
      "K:  15  ro:  0.01\n"
     ]
    },
    {
     "name": "stderr",
     "output_type": "stream",
     "text": [
      "/usr/local/lib/python3.5/dist-packages/ipykernel_launcher.py:11: ComplexWarning: Casting complex values to real discards the imaginary part\n",
      "  # This is added back by InteractiveShellApp.init_path()\n"
     ]
    },
    {
     "name": "stdout",
     "output_type": "stream",
     "text": [
      "'Min Cost: 0.00907540337633'\n",
      "shape of the lambdas is [30]\n",
      "shape of the W is [30, 30]\n",
      "shape of the lambdas is [170]\n",
      "shape of the W is [170, 170]\n"
     ]
    },
    {
     "name": "stderr",
     "output_type": "stream",
     "text": [
      "/usr/local/lib/python3.5/dist-packages/numpy/core/numeric.py:531: ComplexWarning: Casting complex values to real discards the imaginary part\n",
      "  return array(a, dtype, copy=False, order=order)\n"
     ]
    },
    {
     "data": {
      "image/png": "[encoded data removed]",
      "text/plain": [
       "<matplotlib.figure.Figure at 0x7fd713b51518>"
      ]
     },
     "metadata": {},
     "output_type": "display_data"
    }
   ],
   "source": [
    "K = 15\n",
    "ro = 0.01\n",
    "\n",
    "print(\"K: \", K, \" ro: \", ro)\n",
    "W = buildWMatrix(Y,K, ro)\n",
    "W = np.mat(W)\n",
    "\n",
    "Clusters =spectralCluster(W,Y.T, 2)\n",
    "\n",
    "for i in range(len(Clusters)):\n",
    "    Clusters[i] = KPCA(Clusters[i],2)\n",
    "\n",
    "for i in range(len(Clusters)):\n",
    "    plt.plot(Clusters[i][0].T, Clusters[i][1].T, '.')"
   ]
  },
  {
   "cell_type": "markdown",
   "metadata": {},
   "source": [
    "#### vi.  Spectral Clustering was able to recover the clusters because it treats the data based on the local structure of the data, not just on the euclidian distance from one point to the other."
   ]
  },
  {
   "cell_type": "code",
   "execution_count": null,
   "metadata": {},
   "outputs": [],
   "source": []
  }
 ],
 "metadata": {
  "kernelspec": {
   "display_name": "Python 3",
   "language": "python",
   "name": "python3"
  },
  "language_info": {
   "codemirror_mode": {
    "name": "ipython",
    "version": 3
   },
   "file_extension": ".py",
   "mimetype": "text/x-python",
   "name": "python",
   "nbconvert_exporter": "python",
   "pygments_lexer": "ipython3",
   "version": "3.5.2"
  }
 },
 "nbformat": 4,
 "nbformat_minor": 2
}
