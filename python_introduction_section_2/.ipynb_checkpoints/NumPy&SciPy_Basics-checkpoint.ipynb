{
 "cells": [
  {
   "cell_type": "markdown",
   "metadata": {},
   "source": [
    "NumPy library contains a collection of tools and techniques that can be used to solve on a computer mathematical models of problems. But the one tool that is most often used is a high-performance multidimensional array object: it’s a powerful data structure that allows you to efficiently compute arrays and matrices.\n",
    "\n",
    "SciPy is basically NumPy. It’s also one of the core packages for scientific computing that provides mathematical algorithms and convenience functions, but it’s built on the NumPy extension of Python. SciPy and NumPy are often used together."
   ]
  },
  {
   "cell_type": "markdown",
   "metadata": {},
   "source": [
    "# Numpy"
   ]
  },
  {
   "cell_type": "code",
   "execution_count": 1,
   "metadata": {},
   "outputs": [],
   "source": [
    "import numpy as np"
   ]
  },
  {
   "cell_type": "markdown",
   "metadata": {},
   "source": [
    "Creating A NumPy Array"
   ]
  },
  {
   "cell_type": "code",
   "execution_count": 2,
   "metadata": {},
   "outputs": [
    {
     "name": "stdout",
     "output_type": "stream",
     "text": [
      "[[ 1.  0.]\n",
      " [ 0.  1.]]\n",
      "[[ 1.  0.  0.]\n",
      " [ 0.  1.  0.]\n",
      " [ 0.  0.  1.]]\n",
      "[3 5]\n",
      "[ 2.    2.25  2.5   2.75  3.  ]\n",
      "[  100.           215.443469     464.15888336  1000.        ]\n"
     ]
    }
   ],
   "source": [
    "# Create a 2X2 identity matrix\n",
    "print(np.eye(2))\n",
    "\n",
    "# Create a 3X3 identity matrix\n",
    "print(np.identity(3))\n",
    "\n",
    "# Uniformly spaced values: spacing\n",
    "print(np.arange(3, 7, 2))\n",
    "\n",
    "# Uniformly spaced values: number of samples\n",
    "print(np.linspace(2, 3, 5))\n",
    "\n",
    "# Uniformly spaced values: logarithmic spacing \n",
    "print(np.logspace(2, 3, 4))"
   ]
  },
  {
   "cell_type": "code",
   "execution_count": 3,
   "metadata": {},
   "outputs": [
    {
     "data": {
      "text/plain": [
       "array([[ 0.,  0.,  0.,  0.],\n",
       "       [ 0.,  0.,  0.,  0.],\n",
       "       [ 0.,  0.,  0.,  0.],\n",
       "       [ 0.,  0.,  0.,  0.],\n",
       "       [ 0.,  0.,  0.,  0.]])"
      ]
     },
     "execution_count": 3,
     "metadata": {},
     "output_type": "execute_result"
    }
   ],
   "source": [
    "empty_array = np.zeros((5,4))\n",
    "empty_array"
   ]
  },
  {
   "cell_type": "code",
   "execution_count": 4,
   "metadata": {},
   "outputs": [
    {
     "name": "stdout",
     "output_type": "stream",
     "text": [
      "shape of data: [5, 4]\n"
     ]
    },
    {
     "data": {
      "text/plain": [
       "array([[ 0.54340494,  0.27836939,  0.42451759,  0.84477613],\n",
       "       [ 0.00471886,  0.12156912,  0.67074908,  0.82585276],\n",
       "       [ 0.13670659,  0.57509333,  0.89132195,  0.20920212],\n",
       "       [ 0.18532822,  0.10837689,  0.21969749,  0.97862378],\n",
       "       [ 0.81168315,  0.17194101,  0.81622475,  0.27407375]])"
      ]
     },
     "execution_count": 4,
     "metadata": {},
     "output_type": "execute_result"
    }
   ],
   "source": [
    "# setting the seed will get the same random array when re-run the program. Otherwise, the array will change every time.\n",
    "np.random.seed(100) \n",
    "rand_array = np.random.rand(5,4)\n",
    "print('shape of data: [%d, %d]' % rand_array.shape)\n",
    "rand_array"
   ]
  },
  {
   "cell_type": "markdown",
   "metadata": {},
   "source": [
    "Randomly permute a sequence"
   ]
  },
  {
   "cell_type": "code",
   "execution_count": 5,
   "metadata": {},
   "outputs": [
    {
     "name": "stdout",
     "output_type": "stream",
     "text": [
      "[1 3 5 6 2 7 8 4]\n",
      "[1, 2, 3, 4, 5, 6, 7, 8]\n",
      "[5, 6, 8, 2, 3, 1, 4, 7]\n"
     ]
    }
   ],
   "source": [
    "a = [1, 2, 3, 4, 5, 6, 7, 8]\n",
    "print(np.random.permutation(a)) # return a permutation of the input list\n",
    "print(a)\n",
    "\n",
    "np.random.shuffle(a) # shuffle the list in place\n",
    "print(a)"
   ]
  },
  {
   "cell_type": "markdown",
   "metadata": {},
   "source": [
    "Indexing and Slicing NumPy Arrays"
   ]
  },
  {
   "cell_type": "code",
   "execution_count": 6,
   "metadata": {},
   "outputs": [
    {
     "name": "stdout",
     "output_type": "stream",
     "text": [
      "0.209202122117\n",
      "first row [ 0.54340494  0.27836939  0.42451759  0.84477613]\n",
      "first col [ 0.54340494  0.00471886  0.13670659  0.18532822  0.81168315]\n"
     ]
    }
   ],
   "source": [
    "print(rand_array[2,3])\n",
    "print('first row', rand_array[0, :]) # Slicing NumPy Arrays, get the first row\n",
    "print('first col', rand_array[:, 0]) # Slicing NumPy Arrays, get the first column"
   ]
  },
  {
   "cell_type": "markdown",
   "metadata": {},
   "source": [
    "Assigning Values"
   ]
  },
  {
   "cell_type": "code",
   "execution_count": 7,
   "metadata": {},
   "outputs": [
    {
     "data": {
      "text/plain": [
       "array([[ 0.4       ,  0.27836939,  0.42451759,  0.84477613],\n",
       "       [ 0.00471886,  0.12156912,  0.67074908,  0.82585276],\n",
       "       [ 0.13670659,  0.57509333,  0.89132195,  0.20920212],\n",
       "       [ 0.18532822,  0.10837689,  0.21969749,  0.97862378],\n",
       "       [ 0.81168315,  0.17194101,  0.81622475,  0.27407375]])"
      ]
     },
     "execution_count": 7,
     "metadata": {},
     "output_type": "execute_result"
    }
   ],
   "source": [
    "rand_array[0,0] = .4\n",
    "rand_array"
   ]
  },
  {
   "cell_type": "markdown",
   "metadata": {},
   "source": [
    "Accessing data type"
   ]
  },
  {
   "cell_type": "code",
   "execution_count": 8,
   "metadata": {},
   "outputs": [
    {
     "data": {
      "text/plain": [
       "dtype('float64')"
      ]
     },
     "execution_count": 8,
     "metadata": {},
     "output_type": "execute_result"
    }
   ],
   "source": [
    "rand_array.dtype"
   ]
  },
  {
   "cell_type": "code",
   "execution_count": 9,
   "metadata": {},
   "outputs": [
    {
     "data": {
      "text/plain": [
       "array([[0, 0, 0, 0],\n",
       "       [0, 0, 0, 0],\n",
       "       [0, 0, 0, 0],\n",
       "       [0, 0, 0, 0],\n",
       "       [0, 0, 0, 0]])"
      ]
     },
     "execution_count": 9,
     "metadata": {},
     "output_type": "execute_result"
    }
   ],
   "source": [
    "rand_array.astype(int) # change the data type to int"
   ]
  },
  {
   "cell_type": "markdown",
   "metadata": {},
   "source": [
    "NumPy Array Operations"
   ]
  },
  {
   "cell_type": "code",
   "execution_count": 10,
   "metadata": {},
   "outputs": [
    {
     "data": {
      "text/plain": [
       "array([ 1.84477613,  1.82585276,  1.20920212,  1.97862378,  1.27407375])"
      ]
     },
     "execution_count": 10,
     "metadata": {},
     "output_type": "execute_result"
    }
   ],
   "source": [
    "rand_array[:, -1] + 1 # add 1 to each item in the last columnex"
   ]
  },
  {
   "cell_type": "code",
   "execution_count": 11,
   "metadata": {},
   "outputs": [
    {
     "data": {
      "text/plain": [
       "array([ 1.12314552,  0.94742188,  0.78429545,  1.08700068,  0.44601476])"
      ]
     },
     "execution_count": 11,
     "metadata": {},
     "output_type": "execute_result"
    }
   ],
   "source": [
    "rand_array[:, 1] + rand_array[:, 3] # add the values of two columns "
   ]
  },
  {
   "cell_type": "markdown",
   "metadata": {},
   "source": [
    "Broadcasting\n",
    "\n",
    "Unless the arrays that you’re operating on are the exact same size, it’s not possible to do elementwise operations. In cases like this, NumPy performs broadcasting to try to match up elements. Essentially, broadcasting involves a few steps:\n",
    "\n",
    "The last dimension of each array is compared.\n",
    "\n",
    "If the dimension lengths are equal, or one of the dimensions is of length 1, then we keep going.\n",
    "\n",
    "If the dimension lengths aren’t equal, and none of the dimensions have length 1, then there’s an error.\n",
    "\n",
    "Continue checking dimensions until the shortest array is out of dimensions."
   ]
  },
  {
   "cell_type": "code",
   "execution_count": 12,
   "metadata": {},
   "outputs": [
    {
     "data": {
      "text/plain": [
       "array([[ 1.9       ,  1.77836939,  1.92451759,  2.34477613],\n",
       "       [ 1.50471886,  1.62156912,  2.17074908,  2.32585276],\n",
       "       [ 1.63670659,  2.07509333,  2.39132195,  1.70920212],\n",
       "       [ 1.68532822,  1.60837689,  1.71969749,  2.47862378],\n",
       "       [ 2.31168315,  1.67194101,  2.31622475,  1.77407375]])"
      ]
     },
     "execution_count": 12,
     "metadata": {},
     "output_type": "execute_result"
    }
   ],
   "source": [
    "rand_array1 = np.ones((1,4)) * 1.5 # array with shape [1, 4]\n",
    "rand_array + rand_array1"
   ]
  },
  {
   "cell_type": "markdown",
   "metadata": {},
   "source": [
    "NumPy Array Methods"
   ]
  },
  {
   "cell_type": "code",
   "execution_count": 13,
   "metadata": {},
   "outputs": [
    {
     "name": "stdout",
     "output_type": "stream",
     "text": [
      "sum of the array is 8\n",
      "sum of each row [ 1.94766311  1.62288982  1.812324    1.49202639  2.07392266]\n",
      "sum of each column [ 1.53843681  1.25534974  3.02251087  3.13252854]\n"
     ]
    }
   ],
   "source": [
    "print('sum of the array is %d' % rand_array.sum())\n",
    "# axis = 0 means along the first axis - row, axis = 1 means along column\n",
    "print('sum of each row', rand_array.sum(axis = 1))\n",
    "print('sum of each column', rand_array.sum(axis = 0))"
   ]
  },
  {
   "cell_type": "markdown",
   "metadata": {},
   "source": [
    "Normalize each column in the array"
   ]
  },
  {
   "cell_type": "code",
   "execution_count": 14,
   "metadata": {},
   "outputs": [
    {
     "data": {
      "text/plain": [
       "array([[ 0.32697604,  0.15807268, -0.72057297,  0.68361961],\n",
       "       [-1.07312982, -0.74985218,  0.26522123,  0.62435188],\n",
       "       [-0.60562257,  1.87620145,  1.14829046, -1.30698841],\n",
       "       [-0.43340229, -0.82623951, -1.54057557,  1.1028284 ],\n",
       "       [ 1.78517865, -0.45818244,  0.84763684, -1.10381148]])"
      ]
     },
     "execution_count": 14,
     "metadata": {},
     "output_type": "execute_result"
    }
   ],
   "source": [
    "mean = rand_array.mean(axis = 0)\n",
    "std = rand_array.std(axis = 0)\n",
    "norm = (rand_array - mean) / std\n",
    "norm"
   ]
  },
  {
   "cell_type": "markdown",
   "metadata": {},
   "source": [
    "NumPy Array Comparisons"
   ]
  },
  {
   "cell_type": "code",
   "execution_count": 15,
   "metadata": {},
   "outputs": [
    {
     "data": {
      "text/plain": [
       "array([[False, False, False,  True],\n",
       "       [False, False,  True,  True],\n",
       "       [False,  True,  True, False],\n",
       "       [False, False, False,  True],\n",
       "       [ True, False,  True, False]], dtype=bool)"
      ]
     },
     "execution_count": 15,
     "metadata": {},
     "output_type": "execute_result"
    }
   ],
   "source": [
    "rand_array > .5"
   ]
  },
  {
   "cell_type": "markdown",
   "metadata": {},
   "source": [
    "Subsetting"
   ]
  },
  {
   "cell_type": "code",
   "execution_count": 16,
   "metadata": {},
   "outputs": [
    {
     "name": "stdout",
     "output_type": "stream",
     "text": [
      "[False  True  True  True  True]\n"
     ]
    },
    {
     "data": {
      "text/plain": [
       "array([[ 0.00471886,  0.12156912,  0.67074908,  0.82585276],\n",
       "       [ 0.13670659,  0.57509333,  0.89132195,  0.20920212],\n",
       "       [ 0.18532822,  0.10837689,  0.21969749,  0.97862378],\n",
       "       [ 0.81168315,  0.17194101,  0.81622475,  0.27407375]])"
      ]
     },
     "execution_count": 16,
     "metadata": {},
     "output_type": "execute_result"
    }
   ],
   "source": [
    "large_values = (rand_array[:, 0] > .8) | (rand_array[:, 0] < .2)\n",
    "print(large_values)\n",
    "rand_array[large_values, :]"
   ]
  },
  {
   "cell_type": "markdown",
   "metadata": {},
   "source": [
    "Reshaping"
   ]
  },
  {
   "cell_type": "code",
   "execution_count": 17,
   "metadata": {},
   "outputs": [
    {
     "data": {
      "text/plain": [
       "array([[ 0.4       ,  0.00471886,  0.13670659,  0.18532822,  0.81168315],\n",
       "       [ 0.27836939,  0.12156912,  0.57509333,  0.10837689,  0.17194101],\n",
       "       [ 0.42451759,  0.67074908,  0.89132195,  0.21969749,  0.81622475],\n",
       "       [ 0.84477613,  0.82585276,  0.20920212,  0.97862378,  0.27407375]])"
      ]
     },
     "execution_count": 17,
     "metadata": {},
     "output_type": "execute_result"
    }
   ],
   "source": [
    "np.transpose(rand_array)"
   ]
  },
  {
   "cell_type": "code",
   "execution_count": 18,
   "metadata": {},
   "outputs": [
    {
     "data": {
      "text/plain": [
       "array([ 0.4       ,  0.27836939,  0.42451759,  0.84477613,  0.00471886,\n",
       "        0.12156912,  0.67074908,  0.82585276,  0.13670659,  0.57509333,\n",
       "        0.89132195,  0.20920212,  0.18532822,  0.10837689,  0.21969749,\n",
       "        0.97862378,  0.81168315,  0.17194101,  0.81622475,  0.27407375])"
      ]
     },
     "execution_count": 18,
     "metadata": {},
     "output_type": "execute_result"
    }
   ],
   "source": [
    "# turn an array into a one-dimensional representation\n",
    "rand_array.ravel()"
   ]
  },
  {
   "cell_type": "code",
   "execution_count": 19,
   "metadata": {},
   "outputs": [
    {
     "data": {
      "text/plain": [
       "array([[ 0.4       ,  0.27836939,  0.42451759,  0.84477613,  0.00471886,\n",
       "         0.12156912,  0.67074908,  0.82585276,  0.13670659,  0.57509333],\n",
       "       [ 0.89132195,  0.20920212,  0.18532822,  0.10837689,  0.21969749,\n",
       "         0.97862378,  0.81168315,  0.17194101,  0.81622475,  0.27407375]])"
      ]
     },
     "execution_count": 19,
     "metadata": {},
     "output_type": "execute_result"
    }
   ],
   "source": [
    "# reshape an array to a certain shape we specify.\n",
    "rand_array.reshape((2,10))"
   ]
  },
  {
   "cell_type": "markdown",
   "metadata": {},
   "source": [
    "With reshaping, when change the shape of the data but the data itself do not change. When resizing, there is the possibility that the data that is contained within the array will change, depending on the shape that input."
   ]
  },
  {
   "cell_type": "code",
   "execution_count": 20,
   "metadata": {},
   "outputs": [
    {
     "data": {
      "text/plain": [
       "array([[ 0.4       ,  0.27836939,  0.42451759,  0.84477613,  0.00471886,\n",
       "         0.12156912,  0.67074908,  0.82585276,  0.13670659,  0.57509333],\n",
       "       [ 0.89132195,  0.20920212,  0.18532822,  0.10837689,  0.21969749,\n",
       "         0.97862378,  0.81168315,  0.17194101,  0.81622475,  0.27407375],\n",
       "       [ 0.4       ,  0.27836939,  0.42451759,  0.84477613,  0.00471886,\n",
       "         0.12156912,  0.67074908,  0.82585276,  0.13670659,  0.57509333]])"
      ]
     },
     "execution_count": 20,
     "metadata": {},
     "output_type": "execute_result"
    }
   ],
   "source": [
    "# reshape an array to a certain shape we specify.\n",
    "np.resize(rand_array, (3,10))"
   ]
  },
  {
   "cell_type": "markdown",
   "metadata": {},
   "source": [
    "Combining"
   ]
  },
  {
   "cell_type": "code",
   "execution_count": 21,
   "metadata": {},
   "outputs": [
    {
     "data": {
      "text/plain": [
       "array([[ 0.4       ,  0.27836939,  0.42451759,  0.84477613],\n",
       "       [ 0.00471886,  0.12156912,  0.67074908,  0.82585276],\n",
       "       [ 0.13670659,  0.57509333,  0.89132195,  0.20920212],\n",
       "       [ 0.18532822,  0.10837689,  0.21969749,  0.97862378],\n",
       "       [ 0.81168315,  0.17194101,  0.81622475,  0.27407375],\n",
       "       [ 0.14206538,  0.58138896,  0.47918994,  0.38641911],\n",
       "       [ 0.44046495,  0.40475733,  0.44225404,  0.03012328],\n",
       "       [ 0.77600531,  0.55095838,  0.3810734 ,  0.52926578]])"
      ]
     },
     "execution_count": 21,
     "metadata": {},
     "output_type": "execute_result"
    }
   ],
   "source": [
    "rand_array1 = np.random.rand(3, rand_array.shape[1]) # generate a new random array\n",
    "combined = np.vstack((rand_array, rand_array1)) # combine the rows of two array\n",
    "combined"
   ]
  },
  {
   "cell_type": "code",
   "execution_count": 22,
   "metadata": {},
   "outputs": [
    {
     "data": {
      "text/plain": [
       "array([[ 0.4       ,  0.27836939,  0.42451759,  0.84477613],\n",
       "       [ 0.00471886,  0.12156912,  0.67074908,  0.82585276],\n",
       "       [ 0.13670659,  0.57509333,  0.89132195,  0.20920212],\n",
       "       [ 0.18532822,  0.10837689,  0.21969749,  0.97862378],\n",
       "       [ 0.81168315,  0.17194101,  0.81622475,  0.27407375],\n",
       "       [ 0.14206538,  0.58138896,  0.47918994,  0.38641911],\n",
       "       [ 0.44046495,  0.40475733,  0.44225404,  0.03012328],\n",
       "       [ 0.77600531,  0.55095838,  0.3810734 ,  0.52926578]])"
      ]
     },
     "execution_count": 22,
     "metadata": {},
     "output_type": "execute_result"
    }
   ],
   "source": [
    "np.concatenate((rand_array, rand_array1), axis=0) # combine the rows of two array"
   ]
  },
  {
   "cell_type": "markdown",
   "metadata": {},
   "source": [
    "Linear transformation of Arrays"
   ]
  },
  {
   "cell_type": "code",
   "execution_count": 23,
   "metadata": {},
   "outputs": [
    {
     "data": {
      "text/plain": [
       "array([[ 0.8       ,  0.55673877,  0.84903518,  1.68955226],\n",
       "       [ 0.00943771,  0.24313824,  1.34149817,  1.65170551],\n",
       "       [ 0.27341318,  1.15018666,  1.78264391,  0.41840424],\n",
       "       [ 0.37065644,  0.21675378,  0.43939499,  1.95724757],\n",
       "       [ 1.6233663 ,  0.34388203,  1.6324495 ,  0.54814749]])"
      ]
     },
     "execution_count": 23,
     "metadata": {},
     "output_type": "execute_result"
    }
   ],
   "source": [
    "# element-wise operation\n",
    "rand_array * 2"
   ]
  },
  {
   "cell_type": "code",
   "execution_count": 24,
   "metadata": {},
   "outputs": [
    {
     "data": {
      "text/plain": [
       "array([[ 1.13135141,  1.01813415,  0.76988182,  1.02428356,  0.9505691 ],\n",
       "       [ 1.01813415,  1.14673843,  0.84118222,  0.96961086,  0.7985595 ],\n",
       "       [ 0.76988182,  0.84118222,  1.18764138,  0.48821379,  0.99470041],\n",
       "       [ 1.02428356,  0.96961086,  0.48821379,  1.0520636 ,  0.61659984],\n",
       "       [ 0.9505691 ,  0.7985595 ,  0.99470041,  0.61659984,  1.42973251]])"
      ]
     },
     "execution_count": 24,
     "metadata": {},
     "output_type": "execute_result"
    }
   ],
   "source": [
    "# matrix multiplication\n",
    "multiplication = np.dot(rand_array, rand_array.T)\n",
    "multiplication"
   ]
  },
  {
   "cell_type": "markdown",
   "metadata": {},
   "source": [
    "Numpy matrix\n",
    "\n",
    "Numpy matrices are strictly 2-dimensional, while numpy arrays (ndarrays) are N-dimensional."
   ]
  },
  {
   "cell_type": "markdown",
   "metadata": {},
   "source": [
    "# Linear Algebra With NumPy and SciPy"
   ]
  },
  {
   "cell_type": "code",
   "execution_count": 25,
   "metadata": {
    "collapsed": true
   },
   "outputs": [],
   "source": [
    "import scipy.linalg"
   ]
  },
  {
   "cell_type": "markdown",
   "metadata": {},
   "source": [
    "Matrix: two-dimensional array\n",
    "\n",
    "Difference between matrices and arrays:\n",
    "- A matrix is 2-D, while arrays are usually n-D,\n",
    "- As the functions above already implied, the matrix is a subclass of ndarray,\n",
    "- Both arrays and matrices have .T(), but only matrices have .H() and .I(),\n",
    "- Matrix multiplication works differently from element-wise array multiplication, and\n",
    "- To add to this, the ** operation has different results for matrices and arrays"
   ]
  },
  {
   "cell_type": "code",
   "execution_count": 26,
   "metadata": {},
   "outputs": [
    {
     "data": {
      "text/plain": [
       "matrix([[ 0.4       ,  0.27836939,  0.42451759,  0.84477613],\n",
       "        [ 0.00471886,  0.12156912,  0.67074908,  0.82585276],\n",
       "        [ 0.13670659,  0.57509333,  0.89132195,  0.20920212],\n",
       "        [ 0.18532822,  0.10837689,  0.21969749,  0.97862378],\n",
       "        [ 0.81168315,  0.17194101,  0.81622475,  0.27407375]])"
      ]
     },
     "execution_count": 26,
     "metadata": {},
     "output_type": "execute_result"
    }
   ],
   "source": [
    "rand_mat = np.matrix(rand_array)\n",
    "rand_mat"
   ]
  },
  {
   "cell_type": "markdown",
   "metadata": {},
   "source": [
    "Operations are different for matrix and array"
   ]
  },
  {
   "cell_type": "code",
   "execution_count": 27,
   "metadata": {},
   "outputs": [
    {
     "name": "stdout",
     "output_type": "stream",
     "text": [
      "[[4 6]\n",
      " [6 4]]\n",
      "[[13 20]\n",
      " [ 5  8]]\n",
      "[[16  9]\n",
      " [ 4  1]]\n"
     ]
    }
   ],
   "source": [
    "a=np.array([[4, 3], [2, 1]])\n",
    "b=np.array([[1, 2], [3, 4]])\n",
    "print(a * b) # element-wise\n",
    "print(np.dot(a, b)) # matrix multiplication\n",
    "print(a**2) # each component squared element-wise"
   ]
  },
  {
   "cell_type": "code",
   "execution_count": 28,
   "metadata": {},
   "outputs": [
    {
     "name": "stdout",
     "output_type": "stream",
     "text": [
      "[[13 20]\n",
      " [ 5  8]]\n",
      "[[22 15]\n",
      " [10  7]]\n"
     ]
    }
   ],
   "source": [
    "c=np.mat([[4, 3], [2, 1]])\n",
    "d=np.mat([[1, 2], [3, 4]])\n",
    "print(c * d) # matrix multiplication\n",
    "print(c**2) # matrix product c * c"
   ]
  },
  {
   "cell_type": "code",
   "execution_count": 29,
   "metadata": {},
   "outputs": [
    {
     "name": "stdout",
     "output_type": "stream",
     "text": [
      "[[ 0.4         0.00471886  0.13670659  0.18532822  0.81168315]\n",
      " [ 0.27836939  0.12156912  0.57509333  0.10837689  0.17194101]\n",
      " [ 0.42451759  0.67074908  0.89132195  0.21969749  0.81622475]\n",
      " [ 0.84477613  0.82585276  0.20920212  0.97862378  0.27407375]]\n",
      "[[ 0.4         0.00471886  0.13670659  0.18532822  0.81168315]\n",
      " [ 0.27836939  0.12156912  0.57509333  0.10837689  0.17194101]\n",
      " [ 0.42451759  0.67074908  0.89132195  0.21969749  0.81622475]\n",
      " [ 0.84477613  0.82585276  0.20920212  0.97862378  0.27407375]]\n",
      "[[ 0.65001493 -1.08681523 -0.40081632  0.17704704  0.94507933]\n",
      " [ 1.433743   -2.01102475  1.7169227   0.3931375  -1.07379534]\n",
      " [-0.97254181  1.45370134  0.09624299 -0.57169011  0.58514234]\n",
      " [ 0.3898441   0.26563312 -0.27269157  0.59913231 -0.28453038]]\n",
      "[[ 0.4         0.27836939  0.42451759  0.84477613]\n",
      " [ 0.00471886  0.12156912  0.67074908  0.82585276]\n",
      " [ 0.13670659  0.57509333  0.89132195  0.20920212]\n",
      " [ 0.18532822  0.10837689  0.21969749  0.97862378]\n",
      " [ 0.81168315  0.17194101  0.81622475  0.27407375]]\n"
     ]
    }
   ],
   "source": [
    "# Transposition\n",
    "print(rand_mat.T)\n",
    "\n",
    "# Conjugate transposition\n",
    "print(rand_mat.H)\n",
    "\n",
    "# Inverse\n",
    "print(rand_mat.I)\n",
    "\n",
    "# Array\n",
    "print(rand_mat.A)"
   ]
  },
  {
   "cell_type": "markdown",
   "metadata": {},
   "source": [
    "Computes the inverse of a square matrix with SciPy."
   ]
  },
  {
   "cell_type": "code",
   "execution_count": 30,
   "metadata": {},
   "outputs": [
    {
     "data": {
      "text/plain": [
       "array([[-2. ,  1. ],\n",
       "       [ 1.5, -0.5]])"
      ]
     },
     "execution_count": 30,
     "metadata": {},
     "output_type": "execute_result"
    }
   ],
   "source": [
    "arr = np.array([[1, 2], [3, 4]])\n",
    "iarr = scipy.linalg.inv(arr)\n",
    "iarr"
   ]
  },
  {
   "cell_type": "code",
   "execution_count": 31,
   "metadata": {},
   "outputs": [
    {
     "ename": "LinAlgError",
     "evalue": "singular matrix",
     "output_type": "error",
     "traceback": [
      "\u001b[0;31m---------------------------------------------------------------------------\u001b[0m",
      "\u001b[0;31mLinAlgError\u001b[0m                               Traceback (most recent call last)",
      "\u001b[0;32m<ipython-input-31-725ee31b2200>\u001b[0m in \u001b[0;36m<module>\u001b[0;34m()\u001b[0m\n\u001b[1;32m      1\u001b[0m \u001b[0marr\u001b[0m \u001b[0;34m=\u001b[0m \u001b[0mnp\u001b[0m\u001b[0;34m.\u001b[0m\u001b[0marray\u001b[0m\u001b[0;34m(\u001b[0m\u001b[0;34m[\u001b[0m\u001b[0;34m[\u001b[0m\u001b[0;36m3\u001b[0m\u001b[0;34m,\u001b[0m \u001b[0;36m2\u001b[0m\u001b[0;34m]\u001b[0m\u001b[0;34m,\u001b[0m \u001b[0;34m[\u001b[0m\u001b[0;36m6\u001b[0m\u001b[0;34m,\u001b[0m \u001b[0;36m4\u001b[0m\u001b[0;34m]\u001b[0m\u001b[0;34m]\u001b[0m\u001b[0;34m)\u001b[0m\u001b[0;34m\u001b[0m\u001b[0m\n\u001b[0;32m----> 2\u001b[0;31m \u001b[0mscipy\u001b[0m\u001b[0;34m.\u001b[0m\u001b[0mlinalg\u001b[0m\u001b[0;34m.\u001b[0m\u001b[0minv\u001b[0m\u001b[0;34m(\u001b[0m\u001b[0marr\u001b[0m\u001b[0;34m)\u001b[0m \u001b[0;31m# Computing the inverse of a singular matrix (its determinant is zero) will raise LinAlgError\u001b[0m\u001b[0;34m\u001b[0m\u001b[0m\n\u001b[0m",
      "\u001b[0;32m//anaconda/lib/python3.5/site-packages/scipy/linalg/basic.py\u001b[0m in \u001b[0;36minv\u001b[0;34m(a, overwrite_a, check_finite)\u001b[0m\n\u001b[1;32m    675\u001b[0m         \u001b[0minv_a\u001b[0m\u001b[0;34m,\u001b[0m \u001b[0minfo\u001b[0m \u001b[0;34m=\u001b[0m \u001b[0mgetri\u001b[0m\u001b[0;34m(\u001b[0m\u001b[0mlu\u001b[0m\u001b[0;34m,\u001b[0m \u001b[0mpiv\u001b[0m\u001b[0;34m,\u001b[0m \u001b[0mlwork\u001b[0m\u001b[0;34m=\u001b[0m\u001b[0mlwork\u001b[0m\u001b[0;34m,\u001b[0m \u001b[0moverwrite_lu\u001b[0m\u001b[0;34m=\u001b[0m\u001b[0;36m1\u001b[0m\u001b[0;34m)\u001b[0m\u001b[0;34m\u001b[0m\u001b[0m\n\u001b[1;32m    676\u001b[0m     \u001b[0;32mif\u001b[0m \u001b[0minfo\u001b[0m \u001b[0;34m>\u001b[0m \u001b[0;36m0\u001b[0m\u001b[0;34m:\u001b[0m\u001b[0;34m\u001b[0m\u001b[0m\n\u001b[0;32m--> 677\u001b[0;31m         \u001b[0;32mraise\u001b[0m \u001b[0mLinAlgError\u001b[0m\u001b[0;34m(\u001b[0m\u001b[0;34m\"singular matrix\"\u001b[0m\u001b[0;34m)\u001b[0m\u001b[0;34m\u001b[0m\u001b[0m\n\u001b[0m\u001b[1;32m    678\u001b[0m     \u001b[0;32mif\u001b[0m \u001b[0minfo\u001b[0m \u001b[0;34m<\u001b[0m \u001b[0;36m0\u001b[0m\u001b[0;34m:\u001b[0m\u001b[0;34m\u001b[0m\u001b[0m\n\u001b[1;32m    679\u001b[0m         raise ValueError('illegal value in %d-th argument of internal '\n",
      "\u001b[0;31mLinAlgError\u001b[0m: singular matrix"
     ]
    }
   ],
   "source": [
    "arr = np.array([[3, 2], [6, 4]])\n",
    "scipy.linalg.inv(arr) # Computing the inverse of a singular matrix (its determinant is zero) will raise LinAlgError"
   ]
  },
  {
   "cell_type": "markdown",
   "metadata": {},
   "source": [
    "Norm and Determinant"
   ]
  },
  {
   "cell_type": "code",
   "execution_count": 32,
   "metadata": {},
   "outputs": [
    {
     "name": "stdout",
     "output_type": "stream",
     "text": [
      "norm of the matrix is 2.26384106282\n",
      "determinant of the matrix is -0.2149201838167175\n"
     ]
    }
   ],
   "source": [
    "square_mat = np.matrix(np.random.rand(4, 4))\n",
    "print('norm of the matrix is', scipy.linalg.norm(square_mat))\n",
    "print('determinant of the matrix is', scipy.linalg.det(square_mat))"
   ]
  },
  {
   "cell_type": "markdown",
   "metadata": {},
   "source": [
    "Eigenvalues and Eigenvectors"
   ]
  },
  {
   "cell_type": "code",
   "execution_count": 33,
   "metadata": {},
   "outputs": [
    {
     "name": "stdout",
     "output_type": "stream",
     "text": [
      "eigenvalues [ 1.51508859+0.j  0.92412322+0.j  0.71073537+0.j -0.21597395+0.j]\n",
      "first eigenvector [-0.78102921 -0.42565283 -0.2466372  -0.38468577]\n"
     ]
    }
   ],
   "source": [
    "la, v = scipy.linalg.eig(square_mat)\n",
    "print('eigenvalues', la)\n",
    "print('first eigenvector', v[:, 0])"
   ]
  },
  {
   "cell_type": "markdown",
   "metadata": {},
   "source": [
    "Singular Value Decomposition (SVD)"
   ]
  },
  {
   "cell_type": "code",
   "execution_count": 34,
   "metadata": {},
   "outputs": [
    {
     "name": "stdout",
     "output_type": "stream",
     "text": [
      "[ 2.14438576  0.95167517  0.60771547  0.27227438]\n"
     ]
    }
   ],
   "source": [
    "# Singular Value Decomposition\n",
    "U,s,Vh = scipy.linalg.svd(rand_array) \n",
    "print(s)"
   ]
  },
  {
   "cell_type": "code",
   "execution_count": null,
   "metadata": {
    "collapsed": true
   },
   "outputs": [],
   "source": []
  }
 ],
 "metadata": {
  "kernelspec": {
   "display_name": "Python 3",
   "language": "python",
   "name": "python3"
  },
  "language_info": {
   "codemirror_mode": {
    "name": "ipython",
    "version": 3
   },
   "file_extension": ".py",
   "mimetype": "text/x-python",
   "name": "python",
   "nbconvert_exporter": "python",
   "pygments_lexer": "ipython3",
   "version": "3.5.2"
  }
 },
 "nbformat": 4,
 "nbformat_minor": 1
}
