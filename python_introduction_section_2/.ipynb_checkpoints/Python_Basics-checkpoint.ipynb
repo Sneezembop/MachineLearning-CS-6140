{
 "cells": [
  {
   "cell_type": "markdown",
   "metadata": {},
   "source": [
    "# Version\n",
    "Check your version for Python. There are differences between Python 2 and Python 3. This notebook uses Python 3."
   ]
  },
  {
   "cell_type": "code",
   "execution_count": 1,
   "metadata": {},
   "outputs": [
    {
     "name": "stdout",
     "output_type": "stream",
     "text": [
      "3.5.2 (default, Aug 18 2017, 17:48:00) \n",
      "[GCC 5.4.0 20160609]\n"
     ]
    }
   ],
   "source": [
    "import sys\n",
    "print(sys.version)"
   ]
  },
  {
   "cell_type": "markdown",
   "metadata": {},
   "source": [
    "# Syntax\n",
    "1. Python programs can be written using any text editor and should have the extension .py. Python programs can be run from a command prompt by typing python file.py. \n",
    "2. Python programs do not have a required first or last line. \n",
    "3. There are no braces {} or semicolons ; in python. Instead of braces, blocks are identified by having the same indentation. \n",
    "4. \\# is for one-line comment, ''' or \"\"\" is for multi-line comments."
   ]
  },
  {
   "cell_type": "code",
   "execution_count": 2,
   "metadata": {},
   "outputs": [
    {
     "name": "stdout",
     "output_type": "stream",
     "text": [
      "x is less than or equal to y\n"
     ]
    }
   ],
   "source": [
    "x, y = 1, 2 # one-line comment 1\n",
    "''' multiline comments\n",
    "line 1\n",
    "line 2\n",
    "'''\n",
    "if x > y:\n",
    "    print(\"x is greater than y\")\n",
    "    x = x -1\n",
    "else:\n",
    "    print(\"x is less than or equal to y\")"
   ]
  },
  {
   "cell_type": "markdown",
   "metadata": {},
   "source": [
    "# Variables and Datatypes\n",
    "1. Variables in Python follow the standard nomenclature of an alphanumeric name beginning in a letter or underscore. \n",
    "2. Variable names are case sensitive. \n",
    "3. Variables do not need to be declared and their datatypes are inferred from the assignment statement.\n",
    "4. Python supports the following data types: boolean, integer, long, float, string, list, object, None"
   ]
  },
  {
   "cell_type": "code",
   "execution_count": 3,
   "metadata": {},
   "outputs": [
    {
     "name": "stdout",
     "output_type": "stream",
     "text": [
      "a is 1, A is 2\n",
      "f is 0.5\n",
      "a is string\n",
      "list [1, 2, 3]\n",
      "2-d list [[1, 2, 3], [1]]\n",
      "tuple (1, 2, 3)\n"
     ]
    }
   ],
   "source": [
    "a = 1\n",
    "A = 2\n",
    "print('a is %d, A is %d' % (a, A))\n",
    "\n",
    "f = a / A\n",
    "print('f is %.1f' % f)\n",
    "\n",
    "a = 'string' # datatypes are inferred from the assignment statement.\n",
    "print('a is %s' % a)\n",
    "\n",
    "l = [1,2,3] # list\n",
    "l_2d = [[1,2,3], [1]] # 2-d list, no need to have the same length for each member\n",
    "t = (1,2,3) # tuple\n",
    "print('list', l)\n",
    "print('2-d list', l_2d)\n",
    "print('tuple', t)"
   ]
  },
  {
   "cell_type": "markdown",
   "metadata": {},
   "source": [
    "# Statements and Expressions"
   ]
  },
  {
   "cell_type": "code",
   "execution_count": 4,
   "metadata": {},
   "outputs": [
    {
     "name": "stdout",
     "output_type": "stream",
     "text": [
      "9 6 test\n"
     ]
    }
   ],
   "source": [
    "a = b = 5 #The assignment statement\n",
    "a = a + 4\n",
    "b += 1 #post-increment\n",
    "c = \"test\"\n",
    "print(a, b, c)"
   ]
  },
  {
   "cell_type": "code",
   "execution_count": 5,
   "metadata": {},
   "outputs": [
    {
     "name": "stdout",
     "output_type": "stream",
     "text": [
      "before swap: a = 1, b = 2\n",
      "after swap: a = 2, b = 1\n"
     ]
    }
   ],
   "source": [
    "a, b, c = 1, 2, 4 # assign multiple variables at the same time\n",
    "\n",
    "print('before swap: a = %d, b = %d' % (a, b))\n",
    "a, b = b, a # swap the values\n",
    "print('after swap: a = %d, b = %d' % (a, b))"
   ]
  },
  {
   "cell_type": "markdown",
   "metadata": {},
   "source": [
    "Import a module into Python. Can be used as import all functions in the module or alternatively from module import function and then call the function directly."
   ]
  },
  {
   "cell_type": "code",
   "execution_count": 6,
   "metadata": {},
   "outputs": [
    {
     "data": {
      "text/plain": [
       "2.302585092994046"
      ]
     },
     "execution_count": 6,
     "metadata": {},
     "output_type": "execute_result"
    }
   ],
   "source": [
    "# import functions from module\n",
    "# method 1: Import math module\n",
    "import math\n",
    "math.log(10) # call log function \n",
    "\n",
    "# method 2: Imports log function from the math module\n",
    "from math import * \n",
    "log(10) # call log function \n",
    "\n",
    "# method 3: Imports log function from the math module\n",
    "from math import log \n",
    "log(10) # call log function "
   ]
  },
  {
   "cell_type": "markdown",
   "metadata": {},
   "source": [
    "# Operators and Maths\n",
    "## Operators\n",
    "Arithmatic: +, -, *, /, and % (modulus)\n",
    "\n",
    "Comparison: ==, !=, <, >, <=, >=\n",
    "\n",
    "Logical: and, or, not\n",
    "\n",
    "Exponentiation: **"
   ]
  },
  {
   "cell_type": "markdown",
   "metadata": {},
   "source": [
    "## Math"
   ]
  },
  {
   "cell_type": "code",
   "execution_count": 7,
   "metadata": {},
   "outputs": [],
   "source": [
    "from math import *\n",
    "a = abs(-7.5)\n",
    "a = ceil(4.2)\n",
    "a = floor(a+0.5)\n",
    "a = round(3.793,0) #a=4.0\n",
    "\n",
    "a = asin(0.5) #returns in rads\n",
    "a = cos(x) #x in rads\n",
    "x = tan(3.14)# Tangent\n",
    "a = degrees(asin(0.5)) #a=30\n",
    "\n",
    "x = pow(y,3) #x=y^3\n",
    "x = sqrt(10) #Square Root\n",
    "\n",
    "y = exp(x) #y=e^x\n",
    "x = log(y); #Natural Log\n",
    "x = log(y,5); #Base-5 log\n",
    "x = log10(y) # Log Base 10\n",
    "\n",
    "mx = max(1, 7, 3, 4) #max\n",
    "mn = min(3, 0, -1, x) #min value"
   ]
  },
  {
   "cell_type": "markdown",
   "metadata": {},
   "source": [
    "## random functions"
   ]
  },
  {
   "cell_type": "code",
   "execution_count": 8,
   "metadata": {},
   "outputs": [],
   "source": [
    "# Random number functions\n",
    "from random import *\n",
    "seed(123) #Set the seed based on the system time.\n",
    "x = random() #Random number in the range [0.0, 1.0)\n",
    "y = randint(1, 10) #Random integer in the range [1, 10]"
   ]
  },
  {
   "cell_type": "markdown",
   "metadata": {},
   "source": [
    "# Strings"
   ]
  },
  {
   "cell_type": "code",
   "execution_count": 9,
   "metadata": {},
   "outputs": [
    {
     "name": "stdout",
     "output_type": "stream",
     "text": [
      "the new line \n",
      " will expand\n",
      "the new line \\n will not expand\n",
      "\n",
      "This is an example of a string in the heredoc syntax.\n",
      "This text can span multiple lines\n",
      "\n"
     ]
    }
   ],
   "source": [
    "# Strings can be specified using single quotes or double quotes.\n",
    "print('the new line \\n will expand')\n",
    "\n",
    "# Strings do not expand escape sequences unless it is defined as a raw string by placing an r before the first.\n",
    "print(r'the new line \\n will not expand')\n",
    "\n",
    "# Strings that start and end with \"\"\" may span multiple lines.\n",
    "print(\"\"\"\n",
    "This is an example of a string in the heredoc syntax.\n",
    "This text can span multiple lines\n",
    "\"\"\")"
   ]
  },
  {
   "cell_type": "code",
   "execution_count": 10,
   "metadata": {},
   "outputs": [
    {
     "name": "stdout",
     "output_type": "stream",
     "text": [
      "Lee's number is 24\n",
      "True\n",
      "True\n"
     ]
    }
   ],
   "source": [
    "name = \"Lee\"\n",
    "print(name + \"'s number is \" + str(24)) # Concatenation is done with the + operator.\n",
    "\n",
    "#  Strings can be compared with the standard operators listed above: ==, !=, <, >, <=, and >=.\n",
    "print('abc' == 'abc')\n",
    "print('ace' < 'b')"
   ]
  },
  {
   "cell_type": "code",
   "execution_count": 11,
   "metadata": {},
   "outputs": [
    {
     "name": "stdout",
     "output_type": "stream",
     "text": [
      "ing\n",
      "st\n",
      "ing\n",
      "g\n",
      "ri\n"
     ]
    }
   ],
   "source": [
    "s = 'string'\n",
    "# Extracting substrings\n",
    "print(s[3:6]) # return a substring containing characters 3 through 5, excluding 6\n",
    "print(s[:2]) # return a substring containing characters from the beginning to 1, excluding 2\n",
    "print(s[3:]) # return a substring containing characters from 3 to the end\n",
    "print(s[-1]) # return the last character\n",
    "print(s[-4:-2]) # return a substring containing characters from (length-1) - 4 to the (length-1) - 3"
   ]
  },
  {
   "cell_type": "code",
   "execution_count": 12,
   "metadata": {},
   "outputs": [
    {
     "ename": "TypeError",
     "evalue": "'str' object does not support item assignment",
     "output_type": "error",
     "traceback": [
      "\u001b[0;31m---------------------------------------------------------------------------\u001b[0m",
      "\u001b[0;31mTypeError\u001b[0m                                 Traceback (most recent call last)",
      "\u001b[0;32m<ipython-input-12-c0d9feb36618>\u001b[0m in \u001b[0;36m<module>\u001b[0;34m()\u001b[0m\n\u001b[0;32m----> 1\u001b[0;31m \u001b[0ms\u001b[0m\u001b[0;34m[\u001b[0m\u001b[0;36m2\u001b[0m\u001b[0;34m]\u001b[0m \u001b[0;34m=\u001b[0m \u001b[0;34m'a'\u001b[0m \u001b[0;31m# report error, because strings are immutable\u001b[0m\u001b[0;34m\u001b[0m\u001b[0m\n\u001b[0m\u001b[1;32m      2\u001b[0m \u001b[0;31m# use + to concatenate a new string instead\u001b[0m\u001b[0;34m\u001b[0m\u001b[0;34m\u001b[0m\u001b[0m\n\u001b[1;32m      3\u001b[0m \u001b[0ms\u001b[0m \u001b[0;34m=\u001b[0m \u001b[0ms\u001b[0m\u001b[0;34m[\u001b[0m\u001b[0;34m:\u001b[0m\u001b[0;36m2\u001b[0m\u001b[0;34m]\u001b[0m \u001b[0;34m+\u001b[0m \u001b[0;34m'a'\u001b[0m \u001b[0;34m+\u001b[0m \u001b[0ms\u001b[0m\u001b[0;34m[\u001b[0m\u001b[0;36m3\u001b[0m\u001b[0;34m:\u001b[0m\u001b[0;34m]\u001b[0m\u001b[0;34m\u001b[0m\u001b[0m\n",
      "\u001b[0;31mTypeError\u001b[0m: 'str' object does not support item assignment"
     ]
    }
   ],
   "source": [
    "s[2] = 'a' # report error, because strings are immutable\n",
    "# use + to concatenate a new string instead\n",
    "s = s[:2] + 'a' + s[3:]"
   ]
  },
  {
   "cell_type": "code",
   "execution_count": 13,
   "metadata": {},
   "outputs": [
    {
     "name": "stdout",
     "output_type": "stream",
     "text": [
      "2\n",
      "False\n",
      "3\n",
      "-1\n",
      "abc--def--ghi\n"
     ]
    }
   ],
   "source": [
    "s = \"Go Gators! Come on Gators!\"\n",
    "\n",
    "# returns the number of occurances of the substring sub in the string\n",
    "print(s.count(\"Gator\")) # return 2\n",
    "\n",
    "#returns true if the string ends with the specified substring and false otherwise:\n",
    "print(s.endswith(\"Gators\")) # return False\n",
    "\n",
    "# returns the numeric position of the first occurance of sub in the string. Returns -1 if sub is not found.\n",
    "print(s.find(\"Gator\")) # return 3\n",
    "print(s.find(\"gator\")) # return -1\n",
    "\n",
    "# combines elements of the string array into a single string and returns it. The separator between elements is the string providing this method.\n",
    "a = ['abc','def','ghi']\n",
    "t = \"--\"\n",
    "print(t.join(a)) # return abc--def--ghi"
   ]
  },
  {
   "cell_type": "code",
   "execution_count": 14,
   "metadata": {},
   "outputs": [
    {
     "name": "stdout",
     "output_type": "stream",
     "text": [
      "26\n",
      "go gators! come on gators!\n",
      "GO GATORS! COME ON GATORS!\n",
      "Go Tigers! Come on Gators!\n",
      "19\n",
      "['Go', 'Gators!', 'Come', 'on', 'Gators!']\n",
      "True\n"
     ]
    }
   ],
   "source": [
    "# returns the length of the string\n",
    "print(len(s)) # return 26\n",
    "\n",
    "# returns a version of a string with all lower case lettters.\n",
    "print(s.lower()) \n",
    "# returns a version of a string with all upper case lettters.\n",
    "print(s.upper())\n",
    "\n",
    "# returns a copy of the string with all occurances of old replaced by new. If the optional count argument is given, only the first count occurances are replaced.\n",
    "print(s.replace(\"Gators\",\"Tigers\",1)) # return Go Tigers! Come on Gators!\n",
    "# same as find but returns the numeric position of the last occurance of sub in the string.\n",
    "print(s.rfind(\"Gator\")) # return 19\n",
    "\n",
    "# splits a single string into a string array using the separator defined. If no separator is defined, whitespace is used. Consecutive whitespace delimiters are then treated as one delimiter. Optionally you can specify the maximum number of splits so that the max size of the array would be maxsplit+1.\n",
    "print(s.split()) # return ['Go', 'Gators!', 'Come', 'on', 'Gators!']\n",
    "\n",
    "# returns true if the string starts with the specified substring and false otherwise:\n",
    "print(s.startswith(\"Go\")) # return True"
   ]
  },
  {
   "cell_type": "markdown",
   "metadata": {},
   "source": [
    "# Arrays\n",
    "Arrays in basic Python are actually lists that can contain mixed datatypes. "
   ]
  },
  {
   "cell_type": "code",
   "execution_count": 15,
   "metadata": {},
   "outputs": [
    {
     "name": "stdout",
     "output_type": "stream",
     "text": [
      "[2, 4, 7, 9] [3, 'test', True, 7.4] range(0, 5) range(10, 0, -2)\n",
      "[0, 0, 0, 0, 0, 0, 0, 0, 0, 0]\n"
     ]
    }
   ],
   "source": [
    "list = [2, 4, 7, 9]\n",
    "list2 = [3, \"test\", True, 7.4]\n",
    "a = range(5) #a = [0,1,2,3,4]\n",
    "\n",
    "# A numbered list can also be created with the range function which takes start and stop values and an increment.\n",
    "a1 = range(10,0,-2) #a = [10,8,6,4,2] \n",
    "\n",
    "# get a list of all 0s\n",
    "zeros = [0] * 10\n",
    "\n",
    "print(list, list2, a, a1)\n",
    "print(zeros)"
   ]
  },
  {
   "cell_type": "markdown",
   "metadata": {},
   "source": [
    "An empty list can be initialized with [] and then the append command can be used to append data to the end of the list:"
   ]
  },
  {
   "cell_type": "code",
   "execution_count": 16,
   "metadata": {},
   "outputs": [
    {
     "name": "stdout",
     "output_type": "stream",
     "text": [
      "['test', 5, [1, 2]]\n"
     ]
    }
   ],
   "source": [
    "a=[]\n",
    "a.append(\"test\") \n",
    "a.append(5)\n",
    "a.append([1,2]) # append a list instead of the single value\n",
    "print(a)"
   ]
  },
  {
   "cell_type": "code",
   "execution_count": 17,
   "metadata": {},
   "outputs": [
    {
     "name": "stdout",
     "output_type": "stream",
     "text": [
      "None\n"
     ]
    }
   ],
   "source": [
    "b = a.append(1) # append function has no return value\n",
    "print(b)"
   ]
  },
  {
   "cell_type": "markdown",
   "metadata": {},
   "source": [
    "Remove an item from the list."
   ]
  },
  {
   "cell_type": "code",
   "execution_count": 18,
   "metadata": {},
   "outputs": [
    {
     "name": "stdout",
     "output_type": "stream",
     "text": [
      "['test', 5, [1, 2], 1]\n",
      "['test', 5, [1, 2]]\n",
      "['test', [1, 2]]\n"
     ]
    }
   ],
   "source": [
    "print(a)\n",
    "a.pop() # remove the last item from the list\n",
    "print(a)\n",
    "a.pop(1) # remove the item at index 1\n",
    "print(a)"
   ]
  },
  {
   "cell_type": "markdown",
   "metadata": {},
   "source": [
    "Cancatenate two lists:"
   ]
  },
  {
   "cell_type": "code",
   "execution_count": 19,
   "metadata": {},
   "outputs": [
    {
     "name": "stdout",
     "output_type": "stream",
     "text": [
      "[1, 2, 3, 4, 5, 6]\n",
      "[1, 2, 3, 4, 5, 6]\n"
     ]
    }
   ],
   "source": [
    "# method 1\n",
    "print([1,2,3] + [4,5,6])\n",
    "\n",
    "# method 2\n",
    "c = [1,2,3]\n",
    "c.extend([4,5,6])\n",
    "print(c)"
   ]
  },
  {
   "cell_type": "code",
   "execution_count": 20,
   "metadata": {},
   "outputs": [
    {
     "name": "stdout",
     "output_type": "stream",
     "text": [
      "[1, 2, 3, [4, 5, 6]]\n"
     ]
    }
   ],
   "source": [
    "# append vs extend: append add the input list as the last elements, while extend concatenate the two lists\n",
    "c = [1,2,3]\n",
    "c.append([4,5,6]) \n",
    "print(c) "
   ]
  },
  {
   "cell_type": "markdown",
   "metadata": {},
   "source": [
    "Get multiple items from a list."
   ]
  },
  {
   "cell_type": "code",
   "execution_count": 21,
   "metadata": {},
   "outputs": [
    {
     "name": "stdout",
     "output_type": "stream",
     "text": [
      "[1, 2]\n",
      "[1, 2, 3, 4, 5, 6]\n"
     ]
    }
   ],
   "source": [
    "a = [1,2,3,4,5,6]\n",
    "print(a[:2]) \n",
    "print(a[:])"
   ]
  },
  {
   "cell_type": "markdown",
   "metadata": {},
   "source": [
    "Multi-dimensional lists: Because Python arrays are actually lists, you are allowed to have jagged arrays. Multi-dimensional lists are just lists of lists."
   ]
  },
  {
   "cell_type": "code",
   "execution_count": 22,
   "metadata": {},
   "outputs": [
    {
     "name": "stdout",
     "output_type": "stream",
     "text": [
      "[0, 1, 2]\n",
      "1\n"
     ]
    }
   ],
   "source": [
    "a=[[0,1,2],[3,4]]\n",
    "print(a[0]) # access the first item of the list\n",
    "print(a[0][1]) # access the second item of the first list"
   ]
  },
  {
   "cell_type": "code",
   "execution_count": 23,
   "metadata": {},
   "outputs": [
    {
     "name": "stdout",
     "output_type": "stream",
     "text": [
      "(1, 2, 3)\n"
     ]
    },
    {
     "ename": "TypeError",
     "evalue": "'tuple' object does not support item assignment",
     "output_type": "error",
     "traceback": [
      "\u001b[0;31m---------------------------------------------------------------------------\u001b[0m",
      "\u001b[0;31mTypeError\u001b[0m                                 Traceback (most recent call last)",
      "\u001b[0;32m<ipython-input-23-fb1562752d91>\u001b[0m in \u001b[0;36m<module>\u001b[0;34m()\u001b[0m\n\u001b[1;32m      1\u001b[0m \u001b[0mt\u001b[0m \u001b[0;34m=\u001b[0m \u001b[0;34m(\u001b[0m\u001b[0;36m1\u001b[0m\u001b[0;34m,\u001b[0m\u001b[0;36m2\u001b[0m\u001b[0;34m,\u001b[0m\u001b[0;36m3\u001b[0m\u001b[0;34m)\u001b[0m \u001b[0;31m# tuple object, similar to list, but is immutable\u001b[0m\u001b[0;34m\u001b[0m\u001b[0m\n\u001b[1;32m      2\u001b[0m \u001b[0mprint\u001b[0m\u001b[0;34m(\u001b[0m\u001b[0mt\u001b[0m\u001b[0;34m)\u001b[0m\u001b[0;34m\u001b[0m\u001b[0m\n\u001b[0;32m----> 3\u001b[0;31m \u001b[0mt\u001b[0m\u001b[0;34m[\u001b[0m\u001b[0;36m0\u001b[0m\u001b[0;34m]\u001b[0m \u001b[0;34m=\u001b[0m \u001b[0;36m3\u001b[0m \u001b[0;31m# report error, because tuple is immutable\u001b[0m\u001b[0;34m\u001b[0m\u001b[0m\n\u001b[0m",
      "\u001b[0;31mTypeError\u001b[0m: 'tuple' object does not support item assignment"
     ]
    }
   ],
   "source": [
    "t = (1,2,3) # tuple object, similar to list, but is immutable\n",
    "print(t)\n",
    "t[0] = 3 # report error, because tuple is immutable"
   ]
  },
  {
   "cell_type": "code",
   "execution_count": 24,
   "metadata": {},
   "outputs": [
    {
     "name": "stdout",
     "output_type": "stream",
     "text": [
      "a = 1, b = 2\n",
      "a = 1, b = 2\n"
     ]
    }
   ],
   "source": [
    "# unpacking\n",
    "l = [1,2,3,4]\n",
    "a, b = l[:2]\n",
    "print('a = %d, b = %d' % (a,b))\n",
    "a, b, _, _ = l # use _ to ignore the specific values\n",
    "print('a = %d, b = %d' % (a,b))"
   ]
  },
  {
   "cell_type": "markdown",
   "metadata": {},
   "source": [
    "# Dictionaries"
   ]
  },
  {
   "cell_type": "code",
   "execution_count": 25,
   "metadata": {},
   "outputs": [
    {
     "name": "stdout",
     "output_type": "stream",
     "text": [
      "dict_keys(['k3', 'k1', 'k2'])\n",
      "dict_values([3, 1, 2])\n",
      "value of k1 is 0\n",
      "dict_keys(['k4', 'k3', 'k1', 'k2'])\n",
      "dict_keys(['k3', 'k1', 'k2'])\n"
     ]
    },
    {
     "ename": "KeyError",
     "evalue": "'k5'",
     "output_type": "error",
     "traceback": [
      "\u001b[0;31m---------------------------------------------------------------------------\u001b[0m",
      "\u001b[0;31mKeyError\u001b[0m                                  Traceback (most recent call last)",
      "\u001b[0;32m<ipython-input-25-b474c45ce5c2>\u001b[0m in \u001b[0;36m<module>\u001b[0;34m()\u001b[0m\n\u001b[1;32m     11\u001b[0m \u001b[0mprint\u001b[0m\u001b[0;34m(\u001b[0m\u001b[0md\u001b[0m\u001b[0;34m.\u001b[0m\u001b[0mkeys\u001b[0m\u001b[0;34m(\u001b[0m\u001b[0;34m)\u001b[0m\u001b[0;34m)\u001b[0m\u001b[0;34m\u001b[0m\u001b[0m\n\u001b[1;32m     12\u001b[0m \u001b[0;34m\u001b[0m\u001b[0m\n\u001b[0;32m---> 13\u001b[0;31m \u001b[0mprint\u001b[0m\u001b[0;34m(\u001b[0m\u001b[0md\u001b[0m\u001b[0;34m[\u001b[0m\u001b[0;34m'k5'\u001b[0m\u001b[0;34m]\u001b[0m\u001b[0;34m)\u001b[0m \u001b[0;31m# report error when the key does not exist in the dict\u001b[0m\u001b[0;34m\u001b[0m\u001b[0m\n\u001b[0m",
      "\u001b[0;31mKeyError\u001b[0m: 'k5'"
     ]
    }
   ],
   "source": [
    "d = {'k1': 1, 'k2': 2, 'k3': 3}\n",
    "print(d.keys()) # get the keys\n",
    "print(d.values()) # get the values\n",
    "\n",
    "d['k1'] = 0 # update the value for 'k1'\n",
    "d['k4'] = 4 # add a key with a value\n",
    "print('value of k1 is %d' % d['k1']) # get the value of 'k1'\n",
    "\n",
    "print(d.keys())\n",
    "del d['k4'] # delete key 'k4', no return values\n",
    "print(d.keys())\n",
    "\n",
    "print(d['k5']) # report error when the key does not exist in the dict"
   ]
  },
  {
   "cell_type": "markdown",
   "metadata": {},
   "source": [
    "# Sets "
   ]
  },
  {
   "cell_type": "code",
   "execution_count": 26,
   "metadata": {},
   "outputs": [
    {
     "name": "stdout",
     "output_type": "stream",
     "text": [
      "{1, 2, 3, 4}\n",
      "after add 5 {1, 2, 3, 4, 5}\n",
      "True\n",
      "after delete 5 {1, 2, 3, 4}\n",
      "number of items in the set 4\n"
     ]
    }
   ],
   "source": [
    "s = set([1,2,3,4,1])\n",
    "print(s)\n",
    "\n",
    "s.add(5) # add a value 5\n",
    "print('after add 5', s)\n",
    "s.remove(5) # delete a value 5\n",
    "print(4 in s) # check whether 4 is int the set s\n",
    "print('after delete 5', s)\n",
    "print('number of items in the set %d' % len(s))"
   ]
  },
  {
   "cell_type": "markdown",
   "metadata": {},
   "source": [
    "# Conditionals"
   ]
  },
  {
   "cell_type": "code",
   "execution_count": 27,
   "metadata": {},
   "outputs": [
    {
     "name": "stdout",
     "output_type": "stream",
     "text": [
      "a is less than b\n"
     ]
    }
   ],
   "source": [
    "a, b = 1, 2\n",
    "if (a > b):\n",
    "    print(\"a is greater than b\")\n",
    "elif (a < b):\n",
    "    print(\"a is less than b\")\n",
    "else:\n",
    "    print(\"a is equal to b\")"
   ]
  },
  {
   "cell_type": "markdown",
   "metadata": {},
   "source": [
    "Conditions in one line:"
   ]
  },
  {
   "cell_type": "code",
   "execution_count": 28,
   "metadata": {},
   "outputs": [
    {
     "name": "stdout",
     "output_type": "stream",
     "text": [
      "2\n"
     ]
    }
   ],
   "source": [
    "c = a if a > b else b\n",
    "print(c)"
   ]
  },
  {
   "cell_type": "markdown",
   "metadata": {},
   "source": [
    "# Loops"
   ]
  },
  {
   "cell_type": "code",
   "execution_count": 29,
   "metadata": {},
   "outputs": [
    {
     "name": "stdout",
     "output_type": "stream",
     "text": [
      "10\n",
      "18\n",
      "24\n",
      "28\n",
      "30\n"
     ]
    }
   ],
   "source": [
    "x = 0\n",
    "for j in range(10,0,-2):\n",
    "    x = x + j\n",
    "    print(x)"
   ]
  },
  {
   "cell_type": "markdown",
   "metadata": {},
   "source": [
    "Use for loop to get a list."
   ]
  },
  {
   "cell_type": "code",
   "execution_count": 30,
   "metadata": {},
   "outputs": [
    {
     "name": "stdout",
     "output_type": "stream",
     "text": [
      "[0, 1, 2, 3]\n",
      "[[0, 0, 0, 0], [0, 0, 0, 0], [0, 0, 0, 0], [0, 0, 0, 0]]\n"
     ]
    }
   ],
   "source": [
    "a = [i for i in range(4)]\n",
    "print(a)\n",
    "\n",
    "a = [[0 for i in range(4)] for j in range(4)]\n",
    "print(a)"
   ]
  },
  {
   "cell_type": "markdown",
   "metadata": {},
   "source": [
    "Difference between two methods to get a list."
   ]
  },
  {
   "cell_type": "code",
   "execution_count": 31,
   "metadata": {},
   "outputs": [
    {
     "name": "stdout",
     "output_type": "stream",
     "text": [
      "[0, 0, 0]\n",
      "[-1, 0, 0]\n",
      "[[0, 1, 2], [0, 1, 2], [0, 1, 2]]\n",
      "[[-1, 1, 2], [-1, 1, 2], [-1, 1, 2]]\n",
      "[[0, 1, 2], [0, 1, 2], [0, 1, 2]]\n",
      "[[-1, 1, 2], [0, 1, 2], [0, 1, 2]]\n"
     ]
    }
   ],
   "source": [
    "# create a list\n",
    "a = [0] * 3\n",
    "print(a)\n",
    "a[0] = -1\n",
    "print(a)\n",
    "\n",
    "# create a 2-d list\n",
    "a = [[0, 1, 2]] * 3 # all the item in the list a refer to the same list [0, 1, 2]\n",
    "print(a)\n",
    "a[0][0] = -1\n",
    "print(a)\n",
    "\n",
    "# create a 2-d list\n",
    "a = [[0, 1, 2] for _ in range(3)] # create a new list of [0, 1, 2] in each iteration\n",
    "print(a)\n",
    "a[0][0] = -1\n",
    "print(a)"
   ]
  },
  {
   "cell_type": "code",
   "execution_count": 32,
   "metadata": {},
   "outputs": [
    {
     "name": "stdout",
     "output_type": "stream",
     "text": [
      "1\n",
      "2\n",
      "3\n",
      "4\n"
     ]
    }
   ],
   "source": [
    "a = 0\n",
    "while True:\n",
    "    a += 1\n",
    "    if a == 5:\n",
    "        break\n",
    "    else:\n",
    "        print(a)"
   ]
  },
  {
   "cell_type": "markdown",
   "metadata": {},
   "source": [
    "# Functions"
   ]
  },
  {
   "cell_type": "code",
   "execution_count": 33,
   "metadata": {},
   "outputs": [
    {
     "name": "stdout",
     "output_type": "stream",
     "text": [
      "4\n"
     ]
    }
   ],
   "source": [
    "def Double(n):\n",
    "    n = n * 2\n",
    "    return n\n",
    "\n",
    "x = Double(2)\n",
    "print(x)"
   ]
  },
  {
   "cell_type": "code",
   "execution_count": 34,
   "metadata": {},
   "outputs": [
    {
     "name": "stdout",
     "output_type": "stream",
     "text": [
      "25\n"
     ]
    }
   ],
   "source": [
    "def Square(x = 5): # function with default values for arguments\n",
    "    return x*x\n",
    "\n",
    "x = Square()\n",
    "print(x)"
   ]
  },
  {
   "cell_type": "code",
   "execution_count": 35,
   "metadata": {},
   "outputs": [
    {
     "name": "stdout",
     "output_type": "stream",
     "text": [
      "(3, 1)\n",
      "3\n"
     ]
    }
   ],
   "source": [
    "# return multiple values\n",
    "def Stats(l):\n",
    "    return (max(l), min(l))\n",
    "\n",
    "l = [1,2,3]\n",
    "print(Stats(l))\n",
    "\n",
    "mx, _ = Stats(l) # can use _ to ignore the second item\n",
    "print(mx)"
   ]
  },
  {
   "cell_type": "markdown",
   "metadata": {},
   "source": [
    "The function calls by reference. When the input variable is a mutable object (like list), the object can be modified within the function."
   ]
  },
  {
   "cell_type": "code",
   "execution_count": 36,
   "metadata": {},
   "outputs": [
    {
     "name": "stdout",
     "output_type": "stream",
     "text": [
      "before call function: [3, 4, 5]\n",
      "after call function: [1, 4, 5]\n"
     ]
    }
   ],
   "source": [
    "def Modify(l): \n",
    "    l[0] = 1\n",
    "\n",
    "l = [3,4,5]\n",
    "print('before call function:', l)\n",
    "Modify(l)\n",
    "print('after call function:', l)"
   ]
  },
  {
   "cell_type": "markdown",
   "metadata": {},
   "source": [
    "lambda function: anonymous functions are defined using the lambda keyword."
   ]
  },
  {
   "cell_type": "code",
   "execution_count": 37,
   "metadata": {},
   "outputs": [
    {
     "name": "stdout",
     "output_type": "stream",
     "text": [
      "25\n"
     ]
    }
   ],
   "source": [
    "f1 = lambda x: x**2\n",
    "print(f1(5))"
   ]
  },
  {
   "cell_type": "code",
   "execution_count": 38,
   "metadata": {},
   "outputs": [
    {
     "name": "stdout",
     "output_type": "stream",
     "text": [
      "[[1, 2], [3, 8], [4, 1]]\n"
     ]
    }
   ],
   "source": [
    "foo = [[1,2], [4,1], [3,8]]\n",
    "print(sorted(foo, key = lambda x: x[0])) # sort the list by the first item"
   ]
  },
  {
   "cell_type": "markdown",
   "metadata": {},
   "source": [
    "# Classes"
   ]
  },
  {
   "cell_type": "markdown",
   "metadata": {},
   "source": [
    "Classes are defined somewhat similarly to Java, but differences include self being used in place of this and constructors being named \\__init\\__ instead of classname"
   ]
  },
  {
   "cell_type": "code",
   "execution_count": 39,
   "metadata": {},
   "outputs": [
    {
     "name": "stdout",
     "output_type": "stream",
     "text": [
      "0\n",
      "1\n",
      "2\n"
     ]
    }
   ],
   "source": [
    "class MyClass(object):\n",
    "    def __init__(self):\n",
    "        self.my_attribute = 0 \n",
    "        \n",
    "    def add1(self):\n",
    "        self.my_attribute += 1\n",
    "\n",
    "my_object = MyClass()\n",
    "print(my_object.my_attribute) # get the value \n",
    "\n",
    "my_object.my_attribute = 1 # update the value\n",
    "print(my_object.my_attribute)\n",
    "\n",
    "my_object.add1()# call function add1 of the class\n",
    "print(my_object.my_attribute)"
   ]
  },
  {
   "cell_type": "markdown",
   "metadata": {},
   "source": [
    "# File I/O"
   ]
  },
  {
   "cell_type": "markdown",
   "metadata": {},
   "source": [
    "Read from txt file."
   ]
  },
  {
   "cell_type": "code",
   "execution_count": 40,
   "metadata": {},
   "outputs": [
    {
     "name": "stdout",
     "output_type": "stream",
     "text": [
      "12\n",
      "32\n",
      "54\n",
      "63\n",
      "12\n",
      "43\n"
     ]
    }
   ],
   "source": [
    "file = open(\"data.txt\",\"r\")\n",
    "data = file.readlines()\n",
    "file.close()\n",
    "\n",
    "for line in data:\n",
    "    print(line.rstrip('\\n'))"
   ]
  },
  {
   "cell_type": "markdown",
   "metadata": {},
   "source": [
    "Write to txt file."
   ]
  },
  {
   "cell_type": "code",
   "execution_count": 41,
   "metadata": {},
   "outputs": [],
   "source": [
    "f = open('output.txt', 'w')\n",
    "f.write('write output\\n')\n",
    "f.close()"
   ]
  },
  {
   "cell_type": "code",
   "execution_count": null,
   "metadata": {
    "collapsed": true
   },
   "outputs": [],
   "source": []
  }
 ],
 "metadata": {
  "kernelspec": {
   "display_name": "Python 3",
   "language": "python",
   "name": "python3"
  },
  "language_info": {
   "codemirror_mode": {
    "name": "ipython",
    "version": 3
   },
   "file_extension": ".py",
   "mimetype": "text/x-python",
   "name": "python",
   "nbconvert_exporter": "python",
   "pygments_lexer": "ipython3",
   "version": "3.5.2"
  }
 },
 "nbformat": 4,
 "nbformat_minor": 1
}
