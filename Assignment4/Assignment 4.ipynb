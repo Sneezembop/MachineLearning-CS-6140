{
 "cells": [
  {
   "cell_type": "code",
   "execution_count": 1,
   "metadata": {},
   "outputs": [],
   "source": [
    "import numpy as np\n",
    "import math\n",
    "import random\n",
    "import scipy as sp\n",
    "import matplotlib.pyplot as plt\n",
    "import scipy.io as scio\n",
    "import pprint as pp\n",
    "import skimage as ski\n",
    "import skimage.transform as skit\n",
    "\n",
    "%matplotlib inline "
   ]
  },
  {
   "cell_type": "code",
   "execution_count": 2,
   "metadata": {},
   "outputs": [
    {
     "name": "stdout",
     "output_type": "stream",
     "text": [
      "shape of the data is [10]\n",
      "shape of the data is [192, 168, 50]\n",
      "shape of the data is [10, 1]\n"
     ]
    }
   ],
   "source": [
    "mat = scio.loadmat('./ExtYaleB10.mat')\n",
    "#pp.pprint(mat)\n",
    "Y_test = mat['test']\n",
    "Y_train = mat['train']\n",
    "#print(Y_train[0])\n",
    "print('shape of the data is [%d]' % Y_train[0].shape)\n",
    "print('shape of the data is [%d, %d, %d]' % Y_train[0][0].shape)\n",
    "Y = np.mat(Y_train).T\n",
    "print('shape of the data is [%d, %d]' % Y.shape)"
   ]
  },
  {
   "cell_type": "code",
   "execution_count": 3,
   "metadata": {},
   "outputs": [],
   "source": [
    "# input the array of 50 images\n",
    "def downsampleImage(imgs):\n",
    "    img = []\n",
    "    temp = []\n",
    "    for i in range(len(imgs[0][0])):\n",
    "            img = imgs[:][:][i]\n",
    "            img = skit.resize(img,[20,17],mode='constant').flatten()\n",
    "            temp.append(img)\n",
    "            \n",
    "    #print(np.array(temp).shape)\n",
    "    return temp"
   ]
  },
  {
   "cell_type": "code",
   "execution_count": 4,
   "metadata": {},
   "outputs": [],
   "source": [
    "imgs = downsampleImage(Y_train[0][0])"
   ]
  },
  {
   "cell_type": "code",
   "execution_count": 5,
   "metadata": {},
   "outputs": [],
   "source": [
    "def rec(x):\n",
    "    if (x < 0):\n",
    "        x = 0\n",
    "    return x    \n",
    "def sig(x):\n",
    "    x = np.exp(x)\n",
    "    x += 1\n",
    "    x = 1/x\n",
    "    return x\n",
    "    \n",
    "def ht(x):\n",
    "    temp = np.exp(x) - np.exp(-x)\n",
    "    temp = temp /(np.exp(x) + np.exp(-x))\n",
    "    return temp\n",
    "\n",
    "def activationFunc(x, activ):\n",
    "    if (activ == 'rec'):\n",
    "        return rec(x)\n",
    "    elif (activ == 'sig'):\n",
    "        return sig(x)\n",
    "    elif (activ == 'ht'):\n",
    "        return ht(x)"
   ]
  },
  {
   "cell_type": "code",
   "execution_count": 6,
   "metadata": {},
   "outputs": [
    {
     "name": "stdout",
     "output_type": "stream",
     "text": [
      "[5, 0, 0.0066928509242848554, 0.99330714907571527, 0.999909204262595, -0.999909204262595]\n"
     ]
    }
   ],
   "source": [
    "temp = ['rec', 'sig', 'ht']\n",
    "temp2 = [5, -5]\n",
    "\n",
    "temp3 = []\n",
    "for i in range(len(temp)):\n",
    "    for j in range(len(temp2)):\n",
    "        temp3.append(activationFunc(temp2[j], temp[i]))\n",
    "\n",
    "print(temp3)    "
   ]
  },
  {
   "cell_type": "code",
   "execution_count": 7,
   "metadata": {},
   "outputs": [],
   "source": [
    "def FFNN_Initialize(data, s1, s2, s3):\n",
    "    X = [0] * s1\n",
    "    X = np.mat(X)\n",
    "    Y = []\n",
    "    temp = 0\n",
    "    tempx = []\n",
    "    for i in range(len(data[0])):\n",
    "        tempx = downsampleImage(data[0][i])\n",
    "        tempx = np.mat(tempx)   \n",
    "        X = np.vstack((X,tempx))\n",
    "        temp = [i] * len(tempx)\n",
    "        Y.append(temp)\n",
    "    \n",
    "    X = X[1:][:]\n",
    "    Y = np.array(Y).flatten()\n",
    "    \n",
    "    W = []\n",
    "    B = []\n",
    "    S = [s1,s2,s3,1]\n",
    "    for i in range(len(S) -1):\n",
    "        temp = []\n",
    "        for j in range(S[i] * S[i+1]):\n",
    "            temp.append(np.random.rand() * 0.0001)\n",
    "        W.append(temp)\n",
    "    \n",
    "    for i in range(len(S) -2):\n",
    "        B.append(np.random.rand() * 0.0001)\n",
    "    \n",
    "    return X,Y,W,B,S"
   ]
  },
  {
   "cell_type": "code",
   "execution_count": null,
   "metadata": {},
   "outputs": [],
   "source": [
    "def FFNN_FeedForward(xi,yi,W,B,S, activ):\n",
    "    Z = []\n",
    "    A = []\n",
    "    Z.append(xi)\n",
    "    A.append(xi)\n",
    "    \n",
    "    lastA = xi\n",
    "    for i in range(len(S) -1):\n",
    "        for j in range(len(lastA)):\n",
    "            \n",
    "            \n",
    "    \n",
    "    \n",
    "    return Z,A"
   ]
  },
  {
   "cell_type": "code",
   "execution_count": null,
   "metadata": {},
   "outputs": [],
   "source": [
    "def FFNN_BackProp(Z,A,yi,W,B,S):\n",
    "    \n",
    "    return W,B"
   ]
  },
  {
   "cell_type": "code",
   "execution_count": 115,
   "metadata": {},
   "outputs": [],
   "source": [
    "# activ takes the following values: sig, ht, rec\n",
    "def FFNN_Train(data, s1, s2, s3, activ):\n",
    "    X,Y,W,B,S = FFNN_Initialize(data, s1, s2, s3)\n",
    "    \n",
    "    for i in range(len(X)):\n",
    "        Z,A = FFNN_FeedForward(X[i],Y[i],W,B,S, activ)\n",
    "        W,B = FFNN_BackProp(Z,A,Y[i],W,B,S)\n",
    "    \n",
    "    print(np.array(X).shape)\n",
    "    return W,B"
   ]
  },
  {
   "cell_type": "code",
   "execution_count": 113,
   "metadata": {},
   "outputs": [
    {
     "name": "stdout",
     "output_type": "stream",
     "text": [
      "(500, 340)\n"
     ]
    }
   ],
   "source": [
    "FFNN_Train(Y_train, 340, 3, 1, 'rec')"
   ]
  },
  {
   "cell_type": "code",
   "execution_count": null,
   "metadata": {},
   "outputs": [],
   "source": []
  }
 ],
 "metadata": {
  "kernelspec": {
   "display_name": "Python 3",
   "language": "python",
   "name": "python3"
  },
  "language_info": {
   "codemirror_mode": {
    "name": "ipython",
    "version": 3
   },
   "file_extension": ".py",
   "mimetype": "text/x-python",
   "name": "python",
   "nbconvert_exporter": "python",
   "pygments_lexer": "ipython3",
   "version": "3.5.2"
  }
 },
 "nbformat": 4,
 "nbformat_minor": 2
}
