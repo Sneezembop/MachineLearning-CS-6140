{
 "cells": [
  {
   "cell_type": "code",
   "execution_count": 1,
   "metadata": {},
   "outputs": [],
   "source": [
    "import numpy as np\n",
    "import math\n",
    "import random\n",
    "import scipy as sp\n",
    "import matplotlib.pyplot as plt\n",
    "import scipy.io as scio\n",
    "import pprint as pp\n",
    "\n",
    "from sklearn.svm import SVC\n",
    "\n",
    "%matplotlib inline "
   ]
  },
  {
   "cell_type": "markdown",
   "metadata": {},
   "source": [
    "## Question 8 - SVM Implementation\n"
   ]
  },
  {
   "cell_type": "markdown",
   "metadata": {},
   "source": [
    "### Part A\n"
   ]
  },
  {
   "cell_type": "code",
   "execution_count": 2,
   "metadata": {},
   "outputs": [],
   "source": [
    "mat = scio.loadmat('HW2_Data/data1.mat')\n",
    "\n",
    "X_trn = mat['X_trn']\n",
    "Y_trn = mat['Y_trn']\n",
    "X_tst = mat['X_tst']\n",
    "Y_tst = mat['Y_tst']\n",
    "data = [X_trn,Y_trn,X_tst,Y_tst]"
   ]
  },
  {
   "cell_type": "code",
   "execution_count": 3,
   "metadata": {},
   "outputs": [
    {
     "name": "stdout",
     "output_type": "stream",
     "text": [
      "shape of the X data is [136, 2]\n",
      "shape of the Y data is [136, 1]\n"
     ]
    }
   ],
   "source": [
    "print('shape of the X data is [%d, %d]' % X_trn.shape)\n",
    "print('shape of the Y data is [%d, %d]' % Y_trn.shape)"
   ]
  },
  {
   "cell_type": "code",
   "execution_count": 4,
   "metadata": {},
   "outputs": [
    {
     "data": {
      "image/png": "[encoded data removed]",
      "text/plain": [
       "<matplotlib.figure.Figure at 0x7f7243227dd8>"
      ]
     },
     "metadata": {},
     "output_type": "display_data"
    }
   ],
   "source": [
    "data_labels = ['X Train', 'Y Train', 'X Test', 'Y Test']\n",
    "\n",
    "for x in range(4):\n",
    "    plt.subplot(3,2,x +1)\n",
    "    plt.boxplot(data[x])\n",
    "    plt.title(data_labels[x])\n",
    "\n",
    "# turn all 0s into -1    \n",
    "Y_trn = np.mat(Y_trn).A1.astype(int)\n",
    "for i in range(len(Y_trn)):\n",
    "    if (Y_trn[i] == 0):\n",
    "        Y_trn[i] = Y_trn[i] - 1\n",
    "        \n",
    "Y_tst = np.mat(Y_tst).A1.astype(int)\n",
    "for i in range(len(Y_tst)):\n",
    "    if (Y_tst[i] == 0):\n",
    "        Y_tst[i] = - 1\n",
    "X_trn = np.mat(X_trn).A\n",
    "X_tst = np.mat(X_tst).A\n",
    "\n",
    "X_1a = []\n",
    "X_2a = []\n",
    "X_1b = []\n",
    "X_2b = []\n",
    "for i in range(len(X_trn)):\n",
    "    if (Y_trn[i] == 1):\n",
    "        X_1a.append(X_trn[i][0])\n",
    "        X_2a.append(X_trn[i][1])\n",
    "    else:\n",
    "        X_1b.append(X_trn[i][0])\n",
    "        X_2b.append(X_trn[i][1])\n",
    "\n",
    "X_1atst = []\n",
    "X_2atst = []\n",
    "X_1btst = []\n",
    "X_2btst = []\n",
    "for i in range(len(X_tst)):\n",
    "    if (Y_tst[i] == 1):\n",
    "        X_1atst.append(X_tst[i][0])\n",
    "        X_2atst.append(X_tst[i][1])\n",
    "    else:\n",
    "        X_1btst.append(X_tst[i][0])\n",
    "        X_2btst.append(X_tst[i][1])\n",
    "    \n",
    "plt.subplot(3,2,5)\n",
    "plt.plot(X_1a, X_2a, 'b.')\n",
    "plt.plot(X_1b, X_2b, 'r.')\n",
    "plt.title(\"X1 vs X2 Train\")\n",
    "\n",
    "plt.subplot(3,2,6)\n",
    "plt.plot(X_1atst, X_2atst, 'b.')\n",
    "plt.plot(X_1btst, X_2btst, 'b.')\n",
    "plt.title(\"X1 vs X2 Test\")\n",
    "\n",
    "plt.tight_layout(pad=0.4, w_pad=0.5, h_pad=1.0)"
   ]
  },
  {
   "cell_type": "code",
   "execution_count": 5,
   "metadata": {},
   "outputs": [],
   "source": [
    "def kernelGen(X):\n",
    "    K = []\n",
    "    for i in range(len(X)):\n",
    "        temp = []\n",
    "        for j in range(len(X)):\n",
    "            xi = np.mat(X[i])\n",
    "            xj = np.mat(X[j])\n",
    "            \n",
    "            temp.append(np.dot(xi,xj.T).A)\n",
    "        K.append(np.concatenate(temp).ravel().tolist())\n",
    "\n",
    "    return K"
   ]
  },
  {
   "cell_type": "code",
   "execution_count": 6,
   "metadata": {},
   "outputs": [],
   "source": [
    "def dualF(Y,K,j,b,alpha):\n",
    "    E = 0\n",
    "    for i in range(len(K)):\n",
    "        innx = K[i][j]\n",
    "        \n",
    "        E += (alpha[i] * Y[i] * innx)\n",
    "        \n",
    "    E = E + b - Y[j]\n",
    "    \n",
    "    \n",
    "    return E"
   ]
  },
  {
   "cell_type": "code",
   "execution_count": 7,
   "metadata": {},
   "outputs": [],
   "source": [
    "def CostW(K,Y,A):\n",
    "    W = 0\n",
    "    for i in range(len(K)):\n",
    "        W += A[i]\n",
    "    \n",
    "    temp = 0\n",
    "    for i in range(len(K)):\n",
    "        for j in range(len(K)):\n",
    "            temp += Y[i]*Y[j]*A[i]*A[j]*K[i][j]\n",
    "    W = W - (0.5 * temp)\n",
    "    return W        "
   ]
  },
  {
   "cell_type": "code",
   "execution_count": 8,
   "metadata": {},
   "outputs": [],
   "source": [
    "def simplifiedSMO(K,Y,c,tol,maxPass):\n",
    "    alpha = np.zeros((len(K)))\n",
    "    b = 0\n",
    "    passes = 0\n",
    "    while(passes < maxPass):\n",
    "        num_changed_alphas = 0\n",
    "        for i in range(len(K)):\n",
    "            Ei = dualF(Y, K, i, b, alpha)\n",
    "            temp = Ei * Y[i]\n",
    "            \n",
    "            if (((temp < (-1 * tol)) and (alpha[i] < c)) or ((temp > tol) and (alpha[i] > 0))):\n",
    "                j = random.randint(0, len(K) -1)\n",
    "                while (j == i):\n",
    "                    j = random.randint(0, len(K) -1)\n",
    "                    \n",
    "                Ej = dualF(Y, K, j, b, alpha)\n",
    "                # Save off old Alphas\n",
    "                alOldi = alpha[i]\n",
    "                alOldj = alpha[j]\n",
    "                \n",
    "                # Calculate L and H\n",
    "                L = max(0, alpha[j] - alpha[i])\n",
    "                H = min(c, c + alpha[j] - alpha[i])\n",
    "                #print(str(L) + \" \" + str(H))\n",
    "                \n",
    "                if (L == H):\n",
    "                    continue\n",
    "                #calculate n (eta)\n",
    "                \n",
    "                n = (2* K[i][j]) - (K[i][i]) - (K[j][j])\n",
    "                if (n >= 0):\n",
    "                    continue\n",
    "                \n",
    "                #calculate new aj\n",
    "                alNewj = alOldj - ((Y[j] * (Ei - Ej))/n)\n",
    "                alNewj = np.clip(alNewj, 0, c)\n",
    "                \n",
    "                \n",
    "                if (alNewj > H):\n",
    "                    alNewj = H\n",
    "                elif (alNewj < L):\n",
    "                    alNewj = L\n",
    "                \n",
    "                if (abs(alNewj - alOldj) < 10**(-5)):\n",
    "                    continue\n",
    "                \n",
    "                alNewi = alOldi + (Y[i] * Y[j] * (alOldj - alNewj))\n",
    "                alNewi = np.clip(alNewi, 0, c)\n",
    "                \n",
    "                alpha[i] = alNewi\n",
    "                alpha[j] = alNewj\n",
    "                \n",
    "                # calculate bs\n",
    "                b1 = b - Ei - (Y[i] * (alpha[i] - alOldi) * K[i][i]) - (Y[j] * (alpha[j] - alOldj) * K[i][j])\n",
    "                b2 = b - Ej - (Y[i] * (alpha[i] - alOldi) * K[i][j]) - (Y[j] * (alpha[j] - alOldj) * K[j][j])\n",
    "                \n",
    "                b = (b1 + b2)/2\n",
    "                \n",
    "                if ((0 < alpha[i]) and (alpha[i] < c)):\n",
    "                    b = b1\n",
    "                elif ((0 < alpha[j]) and (alpha[i] < c)):\n",
    "                    b = b2\n",
    "                \n",
    "                num_changed_alphas += 1\n",
    "                \n",
    "                #w = CostW(K,Y,alpha)\n",
    "                #print(w)\n",
    "            #end if\n",
    "        #end for\n",
    "        if (num_changed_alphas == 0):\n",
    "            passes += 1\n",
    "        else:\n",
    "            passes = 0\n",
    "            \n",
    "    return [alpha, b]"
   ]
  },
  {
   "cell_type": "code",
   "execution_count": 9,
   "metadata": {},
   "outputs": [],
   "source": [
    "def errorF(Y, Ycomp):\n",
    "    error = 0\n",
    "    for i in range(len(Y)):\n",
    "        if(Y[i] != Ycomp[i]):\n",
    "            error += 1\n",
    "\n",
    "    error = error / len(Y)  \n",
    "    return error"
   ]
  },
  {
   "cell_type": "markdown",
   "metadata": {},
   "source": [
    "### Part A Training"
   ]
  },
  {
   "cell_type": "code",
   "execution_count": 10,
   "metadata": {},
   "outputs": [
    {
     "name": "stdout",
     "output_type": "stream",
     "text": [
      "shape of the Kernel is [136, 136]\n",
      "matrix([[ 4.21595296,  4.58430622,  4.74987417, ..., -1.78087801,\n",
      "         -0.7723529 ,  0.87443262],\n",
      "        [ 4.58430622,  5.03260949,  5.13914263, ..., -2.19740991,\n",
      "         -1.30161751,  0.74835924],\n",
      "        [ 4.74987417,  5.13914263,  5.36527708, ..., -1.86583566,\n",
      "         -0.62138062,  1.09425604],\n",
      "        ..., \n",
      "        [-1.78087801, -2.19740991, -1.86583566, ...,  2.17767455,\n",
      "          2.84883698,  0.73668098],\n",
      "        [-0.7723529 , -1.30161751, -0.62138062, ...,  2.84883698,\n",
      "          4.60578532,  1.79722189],\n",
      "        [ 0.87443262,  0.74835924,  1.09425604, ...,  0.73668098,\n",
      "          1.79722189,  1.03961611]])\n"
     ]
    }
   ],
   "source": [
    "K = kernelGen(X_trn)\n",
    "K = np.mat(K)\n",
    "print('shape of the Kernel is [%d, %d]' % K.shape)\n",
    "pp.pprint(K)"
   ]
  },
  {
   "cell_type": "code",
   "execution_count": 11,
   "metadata": {},
   "outputs": [
    {
     "name": "stdout",
     "output_type": "stream",
     "text": [
      "training completed\n"
     ]
    }
   ],
   "source": [
    "# Cross validated values\n",
    "c = 0.5\n",
    "tol = 10**(-5)\n",
    "max_pass = 50\n",
    "\n",
    "\n",
    "F = simplifiedSMO(K.A,Y_trn,c, tol, max_pass)\n",
    "\n",
    "print(\"training completed\")"
   ]
  },
  {
   "cell_type": "code",
   "execution_count": 12,
   "metadata": {},
   "outputs": [
    {
     "name": "stdout",
     "output_type": "stream",
     "text": [
      "training error:  0.0 %\n"
     ]
    },
    {
     "data": {
      "image/png": "[encoded data removed]",
      "text/plain": [
       "<matplotlib.figure.Figure at 0x7f7240f72a90>"
      ]
     },
     "metadata": {},
     "output_type": "display_data"
    }
   ],
   "source": [
    "\n",
    "alpha = F[0]\n",
    "b = F[1]\n",
    "\n",
    "Wstar = 0\n",
    "for i in range(len(K)):\n",
    "    Wstar += alpha[i]*Y_trn[i]*X_trn[i]\n",
    "    \n",
    "w = np.mat(Wstar)\n",
    "X = np.mat(X_trn).T\n",
    "\n",
    "bias = np.mean(Y_trn - (w * X))\n",
    "\n",
    "Y = np.sign((w * X) + bias)\n",
    "\n",
    "plt.plot(X.T, Y.T, 'o')\n",
    "plt.plot(X.T, Y_trn, '.')\n",
    "error = errorF(Y.T, Y_trn)\n",
    "\n",
    "print(\"training error: \", error * 100, \"%\")\n"
   ]
  },
  {
   "cell_type": "code",
   "execution_count": 13,
   "metadata": {},
   "outputs": [
    {
     "data": {
      "text/plain": [
       "<matplotlib.text.Text at 0x7f7243229710>"
      ]
     },
     "execution_count": 13,
     "metadata": {},
     "output_type": "execute_result"
    },
    {
     "data": {
      "image/png": "[encoded data removed]",
      "text/plain": [
       "<matplotlib.figure.Figure at 0x7f72411b3c50>"
      ]
     },
     "metadata": {},
     "output_type": "display_data"
    }
   ],
   "source": [
    "X1_line = np.mat([-2,-1,0,1,2]).T\n",
    "X2_line = (X1_line * -1 * w.A1[0] - bias) / w.A1[1]\n",
    "\n",
    "plt.subplot(1,2,1)\n",
    "plt.plot(X1_line, X2_line, 'g-')\n",
    "plt.plot(X_1a, X_2a, 'b.')\n",
    "plt.plot(X_1b, X_2b, 'r.')\n",
    "plt.title(\"X1 vs X2 Train\")\n",
    "\n",
    "plt.subplot(1,2,2)\n",
    "plt.plot(X1_line, X2_line, 'g-')\n",
    "plt.plot(X_1atst, X_2atst, 'b.')\n",
    "plt.plot(X_1btst, X_2btst, 'r.')\n",
    "plt.title(\"X1 vs X2 Test\")"
   ]
  },
  {
   "cell_type": "code",
   "execution_count": 14,
   "metadata": {},
   "outputs": [
    {
     "name": "stdout",
     "output_type": "stream",
     "text": [
      "testing error:  0.0 %\n"
     ]
    },
    {
     "data": {
      "image/png": "[encoded data removed]",
      "text/plain": [
       "<matplotlib.figure.Figure at 0x7f7243215be0>"
      ]
     },
     "metadata": {},
     "output_type": "display_data"
    }
   ],
   "source": [
    "Xtst = np.mat(X_tst).T\n",
    "Ytst = np.sign((w*Xtst) + bias)\n",
    "plt.plot(Xtst.T, Ytst.T, 'o')\n",
    "plt.plot(Xtst.T, Y_tst, '.')\n",
    "\n",
    "\n",
    "error = errorF(Ytst.T, Y_tst)\n",
    "\n",
    "print(\"testing error: \", error * 100, \"%\")"
   ]
  },
  {
   "cell_type": "markdown",
   "metadata": {},
   "source": [
    "### Part B"
   ]
  },
  {
   "cell_type": "code",
   "execution_count": 15,
   "metadata": {},
   "outputs": [],
   "source": [
    "mat = scio.loadmat('HW2_Data/data2.mat')\n",
    "\n",
    "X_trn = mat['X_trn']\n",
    "Y_trn = mat['Y_trn']\n",
    "X_tst = mat['X_tst']\n",
    "Y_tst = mat['Y_tst']\n",
    "data = [X_trn,Y_trn,X_tst,Y_tst]"
   ]
  },
  {
   "cell_type": "code",
   "execution_count": 16,
   "metadata": {},
   "outputs": [
    {
     "name": "stdout",
     "output_type": "stream",
     "text": [
      "shape of the X data is [126, 2]\n",
      "shape of the Y data is [126, 1]\n"
     ]
    }
   ],
   "source": [
    "print('shape of the X data is [%d, %d]' % X_trn.shape)\n",
    "print('shape of the Y data is [%d, %d]' % Y_trn.shape)"
   ]
  },
  {
   "cell_type": "code",
   "execution_count": 17,
   "metadata": {},
   "outputs": [
    {
     "data": {
      "image/png": "[encoded data removed]",
      "text/plain": [
       "<matplotlib.figure.Figure at 0x7f7275210828>"
      ]
     },
     "metadata": {},
     "output_type": "display_data"
    }
   ],
   "source": [
    "data_labels = ['X Train', 'Y Train', 'X Test', 'Y Test']\n",
    "\n",
    "for x in range(4):\n",
    "    plt.subplot(3,2,x +1)\n",
    "    plt.boxplot(data[x])\n",
    "    plt.title(data_labels[x])\n",
    "\n",
    "# turn all 0s into -1    \n",
    "Y_trn = np.mat(Y_trn).A1.astype(int)\n",
    "for i in range(len(Y_trn)):\n",
    "    if (Y_trn[i] == 0):\n",
    "        Y_trn[i] = Y_trn[i] - 1\n",
    "        \n",
    "Y_tst = np.mat(Y_tst).A1.astype(int)\n",
    "for i in range(len(Y_tst)):\n",
    "    if (Y_tst[i] == 0):\n",
    "        Y_tst[i] = - 1\n",
    "X_trn = np.mat(X_trn).A\n",
    "X_tst = np.mat(X_tst).A\n",
    "\n",
    "X_1a = []\n",
    "X_2a = []\n",
    "X_1b = []\n",
    "X_2b = []\n",
    "for i in range(len(X_trn)):\n",
    "    if (Y_trn[i] == 1):\n",
    "        X_1a.append(X_trn[i][0])\n",
    "        X_2a.append(X_trn[i][1])\n",
    "    else:\n",
    "        X_1b.append(X_trn[i][0])\n",
    "        X_2b.append(X_trn[i][1])\n",
    "\n",
    "X_1atst = []\n",
    "X_2atst = []\n",
    "X_1btst = []\n",
    "X_2btst = []\n",
    "for i in range(len(X_tst)):\n",
    "    if (Y_tst[i] == 1):\n",
    "        X_1atst.append(X_tst[i][0])\n",
    "        X_2atst.append(X_tst[i][1])\n",
    "    else:\n",
    "        X_1btst.append(X_tst[i][0])\n",
    "        X_2btst.append(X_tst[i][1])\n",
    "    \n",
    "plt.subplot(3,2,5)\n",
    "plt.plot(X_1a, X_2a, 'b.')\n",
    "plt.plot(X_1b, X_2b, 'r.')\n",
    "plt.title(\"X1 vs X2 Train\")\n",
    "\n",
    "plt.subplot(3,2,6)\n",
    "plt.plot(X_1atst, X_2atst, 'b.')\n",
    "plt.plot(X_1btst, X_2btst, 'b.')\n",
    "plt.title(\"X1 vs X2 Test\")\n",
    "\n",
    "plt.tight_layout(pad=0.4, w_pad=0.5, h_pad=1.0)"
   ]
  },
  {
   "cell_type": "markdown",
   "metadata": {},
   "source": [
    "### Part B Training"
   ]
  },
  {
   "cell_type": "code",
   "execution_count": 18,
   "metadata": {},
   "outputs": [
    {
     "name": "stdout",
     "output_type": "stream",
     "text": [
      "shape of the Kernel is [126, 126]\n",
      "matrix([[ 3.8159644 ,  4.44544987,  4.57627588, ...,  2.31217578,\n",
      "          2.78539384,  2.73911874],\n",
      "        [ 4.44544987,  5.21939438,  5.30420419, ...,  2.41511969,\n",
      "          2.81564555,  2.95933383],\n",
      "        [ 4.57627588,  5.30420419,  5.50599503, ...,  2.95782908,\n",
      "          3.62546523,  3.43872547],\n",
      "        ..., \n",
      "        [ 2.31217578,  2.41511969,  2.95782908, ...,  3.31018646,\n",
      "          4.63047467,  3.24773617],\n",
      "        [ 2.78539384,  2.81564555,  3.62546523, ...,  4.63047467,\n",
      "          6.56897025,  4.4471155 ],\n",
      "        [ 2.73911874,  2.95933383,  3.43872547, ...,  3.24773617,\n",
      "          4.4471155 ,  3.28707332]])\n"
     ]
    }
   ],
   "source": [
    "K = kernelGen(X_trn)\n",
    "K = np.mat(K)\n",
    "print('shape of the Kernel is [%d, %d]' % K.shape)\n",
    "pp.pprint(K)"
   ]
  },
  {
   "cell_type": "code",
   "execution_count": 19,
   "metadata": {},
   "outputs": [
    {
     "name": "stdout",
     "output_type": "stream",
     "text": [
      "training completed\n"
     ]
    }
   ],
   "source": [
    "# Cross validated values\n",
    "c = 0.5\n",
    "tol = 10**(-5)\n",
    "max_pass = 50\n",
    "\n",
    "\n",
    "F = simplifiedSMO(K.A,Y_trn,c, tol, max_pass)\n",
    "\n",
    "print(\"training completed\")"
   ]
  },
  {
   "cell_type": "code",
   "execution_count": 20,
   "metadata": {},
   "outputs": [
    {
     "name": "stdout",
     "output_type": "stream",
     "text": [
      "training error:  3.968253968253968 %\n"
     ]
    },
    {
     "data": {
      "image/png": "[encoded data removed]",
      "text/plain": [
       "<matplotlib.figure.Figure at 0x7f7243215ef0>"
      ]
     },
     "metadata": {},
     "output_type": "display_data"
    }
   ],
   "source": [
    "\n",
    "alpha = F[0]\n",
    "b = F[1]\n",
    "\n",
    "Wstar = 0\n",
    "for i in range(len(K)):\n",
    "    Wstar += alpha[i]*Y_trn[i]*X_trn[i]\n",
    "    \n",
    "w = np.mat(Wstar)\n",
    "X = np.mat(X_trn).T\n",
    "\n",
    "bias = np.mean(Y_trn - X.T*w.T)\n",
    "\n",
    "Y = np.sign((w * X) + bias)\n",
    "\n",
    "plt.plot(X.T, Y.T, 'o')\n",
    "plt.plot(X.T, Y_trn, '.')\n",
    "error = errorF(Y.T, Y_trn)\n",
    "\n",
    "print(\"training error: \", error * 100, \"%\")\n"
   ]
  },
  {
   "cell_type": "code",
   "execution_count": 21,
   "metadata": {},
   "outputs": [
    {
     "data": {
      "text/plain": [
       "<matplotlib.text.Text at 0x7f7240cb1e80>"
      ]
     },
     "execution_count": 21,
     "metadata": {},
     "output_type": "execute_result"
    },
    {
     "data": {
      "image/png": "[encoded data removed]",
      "text/plain": [
       "<matplotlib.figure.Figure at 0x7f7240ce3ef0>"
      ]
     },
     "metadata": {},
     "output_type": "display_data"
    }
   ],
   "source": [
    "X1_line = np.mat([-2,-1,0,1,2]).T\n",
    "X2_line = (X1_line * -1 * w.A1[0] - bias) / w.A1[1]\n",
    "\n",
    "plt.subplot(1,2,1)\n",
    "plt.plot(X1_line, X2_line, 'g-')\n",
    "plt.plot(X_1a, X_2a, 'b.')\n",
    "plt.plot(X_1b, X_2b, 'r.')\n",
    "plt.title(\"X1 vs X2 Train\")\n",
    "\n",
    "plt.subplot(1,2,2)\n",
    "plt.plot(X1_line, X2_line, 'g-')\n",
    "plt.plot(X_1atst, X_2atst, 'b.')\n",
    "plt.plot(X_1btst, X_2btst, 'r.')\n",
    "plt.title(\"X1 vs X2 Test\")"
   ]
  },
  {
   "cell_type": "code",
   "execution_count": 22,
   "metadata": {},
   "outputs": [
    {
     "name": "stdout",
     "output_type": "stream",
     "text": [
      "testing error:  7.142857142857142 %\n"
     ]
    },
    {
     "data": {
      "image/png": "[encoded data removed]",
      "text/plain": [
       "<matplotlib.figure.Figure at 0x7f7240d0b438>"
      ]
     },
     "metadata": {},
     "output_type": "display_data"
    }
   ],
   "source": [
    "Xtst = np.mat(X_tst).T\n",
    "Ytst = np.sign((w*Xtst) + bias)\n",
    "plt.plot(Xtst.T, Ytst.T, 'o')\n",
    "plt.plot(Xtst.T, Y_tst, '.')\n",
    "error = errorF(Ytst.T, Y_tst)\n",
    "\n",
    "print(\"testing error: \", error * 100, \"%\")"
   ]
  },
  {
   "cell_type": "markdown",
   "metadata": {},
   "source": [
    "In data set 2 the data points are much closer together and are not linearly seperable.  That means that without a more robust (higher dimensional) Kernel, we will always have some error."
   ]
  },
  {
   "cell_type": "markdown",
   "metadata": {},
   "source": [
    "## SKLearn\n",
    "\n",
    "I ran the second dataset through SKlearn's linear SVM algorithm and got the following:"
   ]
  },
  {
   "cell_type": "code",
   "execution_count": 24,
   "metadata": {},
   "outputs": [],
   "source": [
    "clf = SVC()\n",
    "Y_trn = np.mat(Y_trn)\n",
    "\n",
    "clf.fit(X_trn, Y_trn.T.A1)\n",
    "Y_sol = clf.predict(X_trn)\n",
    "Y_soltst = clf.predict(X_tst)"
   ]
  },
  {
   "cell_type": "code",
   "execution_count": 25,
   "metadata": {},
   "outputs": [
    {
     "name": "stdout",
     "output_type": "stream",
     "text": [
      "training error:  3.1746031746031744 %\n"
     ]
    },
    {
     "data": {
      "image/png": "[encoded data removed]",
      "text/plain": [
       "<matplotlib.figure.Figure at 0x7f7240d63c88>"
      ]
     },
     "metadata": {},
     "output_type": "display_data"
    }
   ],
   "source": [
    "plt.plot(X_trn, Y_sol, 'o')\n",
    "plt.plot(X_trn, Y_trn.T, '.')\n",
    "error = errorF(Y_sol, Y_trn.T)\n",
    "\n",
    "print(\"training error: \", error * 100, \"%\")"
   ]
  },
  {
   "cell_type": "code",
   "execution_count": 26,
   "metadata": {},
   "outputs": [
    {
     "name": "stdout",
     "output_type": "stream",
     "text": [
      "testing error:  7.142857142857142 %\n"
     ]
    },
    {
     "data": {
      "image/png": "[encoded data removed]",
      "text/plain": [
       "<matplotlib.figure.Figure at 0x7f7240e18fd0>"
      ]
     },
     "metadata": {},
     "output_type": "display_data"
    }
   ],
   "source": [
    "plt.plot(X_tst, Y_soltst, 'o')\n",
    "plt.plot(X_tst, Y_tst.T, '.')\n",
    "error = errorF(Y_soltst, Y_tst.T)\n",
    "\n",
    "print(\"testing error: \", error * 100, \"%\")"
   ]
  },
  {
   "cell_type": "code",
   "execution_count": null,
   "metadata": {},
   "outputs": [],
   "source": []
  }
 ],
 "metadata": {
  "kernelspec": {
   "display_name": "Python 3",
   "language": "python",
   "name": "python3"
  },
  "language_info": {
   "codemirror_mode": {
    "name": "ipython",
    "version": 3
   },
   "file_extension": ".py",
   "mimetype": "text/x-python",
   "name": "python",
   "nbconvert_exporter": "python",
   "pygments_lexer": "ipython3",
   "version": "3.5.2"
  }
 },
 "nbformat": 4,
 "nbformat_minor": 2
}
