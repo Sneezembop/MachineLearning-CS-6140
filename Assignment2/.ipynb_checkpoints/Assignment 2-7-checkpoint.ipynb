{
 "cells": [
  {
   "cell_type": "code",
   "execution_count": 1,
   "metadata": {},
   "outputs": [],
   "source": [
    "import numpy as np\n",
    "import math\n",
    "import random\n",
    "import scipy as sp\n",
    "import matplotlib.pyplot as plt\n",
    "import scipy.io as scio\n",
    "import pprint as pp\n",
    "\n",
    "%matplotlib inline \n"
   ]
  },
  {
   "cell_type": "markdown",
   "metadata": {},
   "source": [
    "## Question 7 - Logistic Regression Implementation"
   ]
  },
  {
   "cell_type": "markdown",
   "metadata": {},
   "source": [
    "### Part A"
   ]
  },
  {
   "cell_type": "code",
   "execution_count": 2,
   "metadata": {},
   "outputs": [],
   "source": [
    "mat = scio.loadmat('HW2_Data/data1.mat')\n",
    "\n",
    "X_trn = mat['X_trn']\n",
    "Y_trn = mat['Y_trn']\n",
    "X_tst = mat['X_tst']\n",
    "Y_tst = mat['Y_tst']\n",
    "data = [X_trn,Y_trn,X_tst,Y_tst]"
   ]
  },
  {
   "cell_type": "code",
   "execution_count": 3,
   "metadata": {},
   "outputs": [
    {
     "name": "stdout",
     "output_type": "stream",
     "text": [
      "shape of the X data is [136, 2]\n",
      "shape of the Y data is [136, 1]\n"
     ]
    }
   ],
   "source": [
    "print('shape of the X data is [%d, %d]' % X_trn.shape)\n",
    "print('shape of the Y data is [%d, %d]' % Y_trn.shape)"
   ]
  },
  {
   "cell_type": "code",
   "execution_count": 4,
   "metadata": {},
   "outputs": [
    {
     "data": {
      "image/png": "[encoded data removed]",
      "text/plain": [
       "<matplotlib.figure.Figure at 0x7fc30bf39160>"
      ]
     },
     "metadata": {},
     "output_type": "display_data"
    }
   ],
   "source": [
    "data_labels = ['X Train', 'Y Train', 'X Test', 'Y Test']\n",
    "\n",
    "for x in range(4):\n",
    "    plt.subplot(3,2,x +1)\n",
    "    plt.boxplot(data[x])\n",
    "    plt.title(data_labels[x])\n",
    "  \n",
    "\n",
    "Y_trn = np.mat(Y_trn).A1.astype(int)\n",
    "\n",
    "        \n",
    "Y_tst = np.mat(Y_tst).A1.astype(int)\n",
    "\n",
    "X_trn = np.mat(X_trn).A\n",
    "X_tst = np.mat(X_tst).A\n",
    "\n",
    "X_1a = []\n",
    "X_2a = []\n",
    "X_1b = []\n",
    "X_2b = []\n",
    "for i in range(len(X_trn)):\n",
    "    if (Y_trn[i] == 1):\n",
    "        X_1a.append(X_trn[i][0])\n",
    "        X_2a.append(X_trn[i][1])\n",
    "    else:\n",
    "        X_1b.append(X_trn[i][0])\n",
    "        X_2b.append(X_trn[i][1])\n",
    "\n",
    "X_1atst = []\n",
    "X_2atst = []\n",
    "X_1btst = []\n",
    "X_2btst = []\n",
    "for i in range(len(X_tst)):\n",
    "    if (Y_tst[i] == 1):\n",
    "        X_1atst.append(X_tst[i][0])\n",
    "        X_2atst.append(X_tst[i][1])\n",
    "    else:\n",
    "        X_1btst.append(X_tst[i][0])\n",
    "        X_2btst.append(X_tst[i][1])\n",
    "    \n",
    "plt.subplot(3,2,5)\n",
    "plt.plot(X_1a, X_2a, 'b.')\n",
    "plt.plot(X_1b, X_2b, 'r.')\n",
    "plt.title(\"X1 vs X2 Train\")\n",
    "\n",
    "plt.subplot(3,2,6)\n",
    "plt.plot(X_1atst, X_2atst, 'b.')\n",
    "plt.plot(X_1btst, X_2btst, 'r.')\n",
    "plt.title(\"X1 vs X2 Test\")\n",
    "\n",
    "plt.tight_layout(pad=0.4, w_pad=0.5, h_pad=1.0)"
   ]
  },
  {
   "cell_type": "code",
   "execution_count": 5,
   "metadata": {},
   "outputs": [],
   "source": [
    "def H(x, w):\n",
    "    h =  x * w\n",
    "    h = 1 + math.exp(h)\n",
    "    h = 1/h\n",
    "    return h"
   ]
  },
  {
   "cell_type": "code",
   "execution_count": 6,
   "metadata": {},
   "outputs": [],
   "source": [
    "def gradientDescent(X, Y, w, alpha, ittr, batch):\n",
    "   # print(X, Y, w, alpha)\n",
    "    m = len(Y)\n",
    "    \n",
    "    for i in range(ittr):\n",
    "        miniX = []\n",
    "        miniY = []\n",
    "        for j in range(batch):\n",
    "            batchIdx = math.floor((sp.rand(1) * m)[0])\n",
    "            \n",
    "            miniX.append(X.A[batchIdx])\n",
    "            miniY.append(Y.A[batchIdx])\n",
    "    \n",
    "        miniX = np.mat(miniX)\n",
    "        miniY = np.mat(miniY)\n",
    "        \n",
    "        temp = (miniY.T - H(miniX,w))\n",
    "        temp = temp * miniX\n",
    "        temp = temp * alpha\n",
    "        \n",
    "        # - 2 lambda w?\n",
    "        \n",
    "        w = w - temp.T\n",
    "    \n",
    "    return w"
   ]
  },
  {
   "cell_type": "code",
   "execution_count": 7,
   "metadata": {},
   "outputs": [],
   "source": [
    "def logRegress(X_trn, Y_trn, ittr, lrnRate, batch):\n",
    "\n",
    "    X = np.mat(X_trn)\n",
    "    Y = np.mat(Y_trn).T\n",
    "    w = [0,0]\n",
    "    \n",
    "    w = np.mat(w).T\n",
    "    \n",
    "    w = gradientDescent(X, Y, w, lrnRate, ittr, batch)\n",
    "\n",
    "    return w"
   ]
  },
  {
   "cell_type": "code",
   "execution_count": 8,
   "metadata": {},
   "outputs": [],
   "source": [
    "def errorF(Y, Ycomp):\n",
    "    error = 0\n",
    "    for i in range(len(Y)):\n",
    "        if (Y[i] != Ycomp[i]):\n",
    "            error += 1\n",
    "    \n",
    "    error = error / len(Y)\n",
    "    return error"
   ]
  },
  {
   "cell_type": "markdown",
   "metadata": {},
   "source": [
    "### Part B"
   ]
  },
  {
   "cell_type": "code",
   "execution_count": 9,
   "metadata": {},
   "outputs": [
    {
     "name": "stdout",
     "output_type": "stream",
     "text": [
      "W:  [[-0.49198991]\n",
      " [ 0.3206069 ]]\n",
      "Training error:  0.7352941176470588 %\n",
      "Testing error:  0.0 %\n"
     ]
    }
   ],
   "source": [
    "ittr = 1000\n",
    "lrnRate = 0.001\n",
    "batch = 1\n",
    "\n",
    "w = logRegress(X_trn, Y_trn, ittr, lrnRate, batch)\n",
    "\n",
    "Y_sol = []\n",
    "for i in range(len(X_trn)):\n",
    "    Y_sol.append(np.round(H(X_trn[i], w)))\n",
    "    \n",
    "Y_sol = np.mat(Y_sol)\n",
    "print(\"W: \", w)\n",
    "\n",
    "error = errorF(Y_trn.T, Y_sol.T)\n",
    "print(\"Training error: \", error * 100, \"%\")\n",
    "\n",
    "Y_soltst = []\n",
    "for i in range(len(X_tst)):\n",
    "    Y_soltst.append(np.round(H(X_tst[i], w)))\n",
    "Y_soltst = np.mat(Y_soltst)\n",
    "\n",
    "errorTst = errorF(Y_tst.T, Y_soltst.T)\n",
    "print(\"Testing error: \", errorTst * 100, \"%\")\n"
   ]
  },
  {
   "cell_type": "code",
   "execution_count": 10,
   "metadata": {},
   "outputs": [
    {
     "data": {
      "text/plain": [
       "<matplotlib.text.Text at 0x7fc2e2f4c400>"
      ]
     },
     "execution_count": 10,
     "metadata": {},
     "output_type": "execute_result"
    },
    {
     "data": {
      "image/png": "[encoded data removed]",
      "text/plain": [
       "<matplotlib.figure.Figure at 0x7fc2e3013208>"
      ]
     },
     "metadata": {},
     "output_type": "display_data"
    }
   ],
   "source": [
    "X1_line = np.mat([-2,-1,0,1,2]).T\n",
    "X2_line = (X1_line * -1 * w[0]) / w[1]\n",
    "\n",
    "plt.subplot(1,2,1)\n",
    "plt.plot(X1_line,X2_line, 'g-')\n",
    "plt.plot(X_1a, X_2a, 'b.')\n",
    "plt.plot(X_1b, X_2b, 'r.')\n",
    "plt.title(\"X1 vs X2 Train\")\n",
    "\n",
    "plt.subplot(1,2,2)\n",
    "plt.plot(X1_line,X2_line, 'g-')\n",
    "plt.plot(X_1atst, X_2atst, 'b.')\n",
    "plt.plot(X_1btst, X_2btst, 'r.')\n",
    "plt.title(\"X1 vs X2 Test\")"
   ]
  },
  {
   "cell_type": "markdown",
   "metadata": {},
   "source": [
    "## Part C"
   ]
  },
  {
   "cell_type": "code",
   "execution_count": 11,
   "metadata": {},
   "outputs": [],
   "source": [
    "mat = scio.loadmat('HW2_Data/data2.mat')\n",
    "\n",
    "X_trn = mat['X_trn']\n",
    "Y_trn = mat['Y_trn']\n",
    "X_tst = mat['X_tst']\n",
    "Y_tst = mat['Y_tst']\n",
    "data = [X_trn,Y_trn,X_tst,Y_tst]"
   ]
  },
  {
   "cell_type": "code",
   "execution_count": 12,
   "metadata": {},
   "outputs": [
    {
     "name": "stdout",
     "output_type": "stream",
     "text": [
      "shape of the X data is [126, 2]\n",
      "shape of the Y data is [126, 1]\n"
     ]
    }
   ],
   "source": [
    "print('shape of the X data is [%d, %d]' % X_trn.shape)\n",
    "print('shape of the Y data is [%d, %d]' % Y_trn.shape)"
   ]
  },
  {
   "cell_type": "code",
   "execution_count": 13,
   "metadata": {},
   "outputs": [
    {
     "data": {
      "image/png": "[encoded data removed]",
      "text/plain": [
       "<matplotlib.figure.Figure at 0x7fc2e2f37358>"
      ]
     },
     "metadata": {},
     "output_type": "display_data"
    }
   ],
   "source": [
    "data_labels = ['X Train', 'Y Train', 'X Test', 'Y Test']\n",
    "\n",
    "for x in range(4):\n",
    "    plt.subplot(3,2,x +1)\n",
    "    plt.boxplot(data[x])\n",
    "    plt.title(data_labels[x])\n",
    "  \n",
    "\n",
    "Y_trn = np.mat(Y_trn).A1.astype(int)\n",
    "\n",
    "        \n",
    "Y_tst = np.mat(Y_tst).A1.astype(int)\n",
    "\n",
    "X_trn = np.mat(X_trn).A\n",
    "X_tst = np.mat(X_tst).A\n",
    "\n",
    "X_1a = []\n",
    "X_2a = []\n",
    "X_1b = []\n",
    "X_2b = []\n",
    "for i in range(len(X_trn)):\n",
    "    if (Y_trn[i] == 1):\n",
    "        X_1a.append(X_trn[i][0])\n",
    "        X_2a.append(X_trn[i][1])\n",
    "    else:\n",
    "        X_1b.append(X_trn[i][0])\n",
    "        X_2b.append(X_trn[i][1])\n",
    "\n",
    "X_1atst = []\n",
    "X_2atst = []\n",
    "X_1btst = []\n",
    "X_2btst = []\n",
    "for i in range(len(X_tst)):\n",
    "    if (Y_tst[i] == 1):\n",
    "        X_1atst.append(X_tst[i][0])\n",
    "        X_2atst.append(X_tst[i][1])\n",
    "    else:\n",
    "        X_1btst.append(X_tst[i][0])\n",
    "        X_2btst.append(X_tst[i][1])\n",
    "    \n",
    "plt.subplot(3,2,5)\n",
    "plt.plot(X_1a, X_2a, 'b.')\n",
    "plt.plot(X_1b, X_2b, 'r.')\n",
    "plt.title(\"X1 vs X2 Train\")\n",
    "\n",
    "plt.subplot(3,2,6)\n",
    "plt.plot(X_1atst, X_2atst, 'b.')\n",
    "plt.plot(X_1btst, X_2btst, 'r.')\n",
    "plt.title(\"X1 vs X2 Test\")\n",
    "\n",
    "plt.tight_layout(pad=0.4, w_pad=0.5, h_pad=1.0)"
   ]
  },
  {
   "cell_type": "code",
   "execution_count": 14,
   "metadata": {},
   "outputs": [
    {
     "name": "stdout",
     "output_type": "stream",
     "text": [
      "W:  [[-0.40033616]\n",
      " [ 0.13222372]]\n",
      "Training error:  9.523809523809524 %\n",
      "Testing error:  14.285714285714285 %\n"
     ]
    }
   ],
   "source": [
    "ittr = 1000\n",
    "lrnRate = 0.001\n",
    "batch = 1\n",
    "\n",
    "w = logRegress(X_trn, Y_trn, ittr, lrnRate, batch)\n",
    "\n",
    "Y_sol = []\n",
    "for i in range(len(X_trn)):\n",
    "    Y_sol.append(np.round(H(X_trn[i], w)))\n",
    "    \n",
    "Y_sol = np.mat(Y_sol)\n",
    "print(\"W: \", w)\n",
    "\n",
    "error = errorF(Y_trn.T, Y_sol.T)\n",
    "print(\"Training error: \", error * 100, \"%\")\n",
    "\n",
    "Y_soltst = []\n",
    "for i in range(len(X_tst)):\n",
    "    Y_soltst.append(np.round(H(X_tst[i], w)))\n",
    "Y_soltst = np.mat(Y_soltst)\n",
    "\n",
    "errorTst = errorF(Y_tst.T, Y_soltst.T)\n",
    "print(\"Testing error: \", errorTst * 100, \"%\")\n"
   ]
  },
  {
   "cell_type": "code",
   "execution_count": 15,
   "metadata": {},
   "outputs": [
    {
     "data": {
      "text/plain": [
       "<matplotlib.text.Text at 0x7fc30be61fd0>"
      ]
     },
     "execution_count": 15,
     "metadata": {},
     "output_type": "execute_result"
    },
    {
     "data": {
      "image/png": "[encoded data removed]",
      "text/plain": [
       "<matplotlib.figure.Figure at 0x7fc2e2f731d0>"
      ]
     },
     "metadata": {},
     "output_type": "display_data"
    }
   ],
   "source": [
    "X1_line = np.mat([-2,-1,0,1,2]).T\n",
    "X2_line = (X1_line * -1 * w[0]) / w[1]\n",
    "\n",
    "plt.subplot(1,2,1)\n",
    "plt.plot(X1_line,X2_line, 'g-')\n",
    "plt.plot(X_1a, X_2a, 'b.')\n",
    "plt.plot(X_1b, X_2b, 'r.')\n",
    "plt.title(\"X1 vs X2 Train\")\n",
    "\n",
    "plt.subplot(1,2,2)\n",
    "plt.plot(X1_line,X2_line, 'g-')\n",
    "plt.plot(X_1atst, X_2atst, 'b.')\n",
    "plt.plot(X_1btst, X_2btst, 'r.')\n",
    "plt.title(\"X1 vs X2 Test\")"
   ]
  },
  {
   "cell_type": "code",
   "execution_count": null,
   "metadata": {},
   "outputs": [],
   "source": []
  },
  {
   "cell_type": "code",
   "execution_count": null,
   "metadata": {},
   "outputs": [],
   "source": []
  },
  {
   "cell_type": "code",
   "execution_count": null,
   "metadata": {},
   "outputs": [],
   "source": []
  }
 ],
 "metadata": {
  "kernelspec": {
   "display_name": "Python 3",
   "language": "python",
   "name": "python3"
  },
  "language_info": {
   "codemirror_mode": {
    "name": "ipython",
    "version": 3
   },
   "file_extension": ".py",
   "mimetype": "text/x-python",
   "name": "python",
   "nbconvert_exporter": "python",
   "pygments_lexer": "ipython3",
   "version": "3.5.2"
  }
 },
 "nbformat": 4,
 "nbformat_minor": 2
}
